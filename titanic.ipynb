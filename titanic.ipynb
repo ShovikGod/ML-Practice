{
 "cells": [
  {
   "cell_type": "code",
   "execution_count": 1,
   "metadata": {
    "_cell_guid": "b1076dfc-b9ad-4769-8c92-a6c4dae69d19",
    "_uuid": "8f2839f25d086af736a60e9eeb907d3b93b6e0e5"
   },
   "outputs": [
    {
     "name": "stdout",
     "output_type": "stream",
     "text": [
      "/kaggle/input/titanic/test.csv\n",
      "/kaggle/input/titanic/train.csv\n",
      "/kaggle/input/titanic/gender_submission.csv\n"
     ]
    }
   ],
   "source": [
    "# This Python 3 environment comes with many helpful analytics libraries installed\n",
    "# It is defined by the kaggle/python Docker image: https://github.com/kaggle/docker-python\n",
    "# For example, here's several helpful packages to load\n",
    "\n",
    "import numpy as np # linear algebra\n",
    "import pandas as pd # data processing, CSV file I/O (e.g. pd.read_csv)\n",
    "import matplotlib.pyplot as plt\n",
    "import seaborn as sns\n",
    "plt.style.use('ggplot')\n",
    "%matplotlib inline\n",
    "\n",
    "# Input data files are available in the read-only \"../input/\" directory\n",
    "# For example, running this (by clicking run or pressing Shift+Enter) will list all files under the input directory\n",
    "import os\n",
    "for dirname, _, filenames in os.walk('/kaggle/input'):\n",
    "    for filename in filenames:\n",
    "        print(os.path.join(dirname, filename))\n",
    "\n",
    "# You can write up to 5GB to the current directory (/kaggle/working/) that gets preserved as output when you create a version using \"Save & Run All\" \n",
    "# You can also write temporary files to /kaggle/temp/, but they won't be saved outside of the current session"
   ]
  },
  {
   "cell_type": "code",
   "execution_count": 2,
   "metadata": {
    "_cell_guid": "79c7e3d0-c299-4dcb-8224-4455121ee9b0",
    "_uuid": "d629ff2d2480ee46fbb7e2d37f6b5fab8052498a"
   },
   "outputs": [],
   "source": [
    "#DATA\n",
    "train=pd.read_csv(\"../input/titanic/train.csv\")\n",
    "test=pd.read_csv(\"../input/titanic/test.csv\")"
   ]
  },
  {
   "cell_type": "code",
   "execution_count": 3,
   "metadata": {},
   "outputs": [
    {
     "data": {
      "text/html": [
       "<div>\n",
       "<style scoped>\n",
       "    .dataframe tbody tr th:only-of-type {\n",
       "        vertical-align: middle;\n",
       "    }\n",
       "\n",
       "    .dataframe tbody tr th {\n",
       "        vertical-align: top;\n",
       "    }\n",
       "\n",
       "    .dataframe thead th {\n",
       "        text-align: right;\n",
       "    }\n",
       "</style>\n",
       "<table border=\"1\" class=\"dataframe\">\n",
       "  <thead>\n",
       "    <tr style=\"text-align: right;\">\n",
       "      <th></th>\n",
       "      <th>PassengerId</th>\n",
       "      <th>Survived</th>\n",
       "      <th>Pclass</th>\n",
       "      <th>Name</th>\n",
       "      <th>Sex</th>\n",
       "      <th>Age</th>\n",
       "      <th>SibSp</th>\n",
       "      <th>Parch</th>\n",
       "      <th>Ticket</th>\n",
       "      <th>Fare</th>\n",
       "      <th>Cabin</th>\n",
       "      <th>Embarked</th>\n",
       "    </tr>\n",
       "  </thead>\n",
       "  <tbody>\n",
       "    <tr>\n",
       "      <th>0</th>\n",
       "      <td>1</td>\n",
       "      <td>0</td>\n",
       "      <td>3</td>\n",
       "      <td>Braund, Mr. Owen Harris</td>\n",
       "      <td>male</td>\n",
       "      <td>22.0</td>\n",
       "      <td>1</td>\n",
       "      <td>0</td>\n",
       "      <td>A/5 21171</td>\n",
       "      <td>7.2500</td>\n",
       "      <td>NaN</td>\n",
       "      <td>S</td>\n",
       "    </tr>\n",
       "    <tr>\n",
       "      <th>1</th>\n",
       "      <td>2</td>\n",
       "      <td>1</td>\n",
       "      <td>1</td>\n",
       "      <td>Cumings, Mrs. John Bradley (Florence Briggs Th...</td>\n",
       "      <td>female</td>\n",
       "      <td>38.0</td>\n",
       "      <td>1</td>\n",
       "      <td>0</td>\n",
       "      <td>PC 17599</td>\n",
       "      <td>71.2833</td>\n",
       "      <td>C85</td>\n",
       "      <td>C</td>\n",
       "    </tr>\n",
       "    <tr>\n",
       "      <th>2</th>\n",
       "      <td>3</td>\n",
       "      <td>1</td>\n",
       "      <td>3</td>\n",
       "      <td>Heikkinen, Miss. Laina</td>\n",
       "      <td>female</td>\n",
       "      <td>26.0</td>\n",
       "      <td>0</td>\n",
       "      <td>0</td>\n",
       "      <td>STON/O2. 3101282</td>\n",
       "      <td>7.9250</td>\n",
       "      <td>NaN</td>\n",
       "      <td>S</td>\n",
       "    </tr>\n",
       "    <tr>\n",
       "      <th>3</th>\n",
       "      <td>4</td>\n",
       "      <td>1</td>\n",
       "      <td>1</td>\n",
       "      <td>Futrelle, Mrs. Jacques Heath (Lily May Peel)</td>\n",
       "      <td>female</td>\n",
       "      <td>35.0</td>\n",
       "      <td>1</td>\n",
       "      <td>0</td>\n",
       "      <td>113803</td>\n",
       "      <td>53.1000</td>\n",
       "      <td>C123</td>\n",
       "      <td>S</td>\n",
       "    </tr>\n",
       "    <tr>\n",
       "      <th>4</th>\n",
       "      <td>5</td>\n",
       "      <td>0</td>\n",
       "      <td>3</td>\n",
       "      <td>Allen, Mr. William Henry</td>\n",
       "      <td>male</td>\n",
       "      <td>35.0</td>\n",
       "      <td>0</td>\n",
       "      <td>0</td>\n",
       "      <td>373450</td>\n",
       "      <td>8.0500</td>\n",
       "      <td>NaN</td>\n",
       "      <td>S</td>\n",
       "    </tr>\n",
       "  </tbody>\n",
       "</table>\n",
       "</div>"
      ],
      "text/plain": [
       "   PassengerId  Survived  Pclass  \\\n",
       "0            1         0       3   \n",
       "1            2         1       1   \n",
       "2            3         1       3   \n",
       "3            4         1       1   \n",
       "4            5         0       3   \n",
       "\n",
       "                                                Name     Sex   Age  SibSp  \\\n",
       "0                            Braund, Mr. Owen Harris    male  22.0      1   \n",
       "1  Cumings, Mrs. John Bradley (Florence Briggs Th...  female  38.0      1   \n",
       "2                             Heikkinen, Miss. Laina  female  26.0      0   \n",
       "3       Futrelle, Mrs. Jacques Heath (Lily May Peel)  female  35.0      1   \n",
       "4                           Allen, Mr. William Henry    male  35.0      0   \n",
       "\n",
       "   Parch            Ticket     Fare Cabin Embarked  \n",
       "0      0         A/5 21171   7.2500   NaN        S  \n",
       "1      0          PC 17599  71.2833   C85        C  \n",
       "2      0  STON/O2. 3101282   7.9250   NaN        S  \n",
       "3      0            113803  53.1000  C123        S  \n",
       "4      0            373450   8.0500   NaN        S  "
      ]
     },
     "execution_count": 3,
     "metadata": {},
     "output_type": "execute_result"
    }
   ],
   "source": [
    "train.head()"
   ]
  },
  {
   "cell_type": "code",
   "execution_count": 4,
   "metadata": {},
   "outputs": [
    {
     "data": {
      "text/html": [
       "<div>\n",
       "<style scoped>\n",
       "    .dataframe tbody tr th:only-of-type {\n",
       "        vertical-align: middle;\n",
       "    }\n",
       "\n",
       "    .dataframe tbody tr th {\n",
       "        vertical-align: top;\n",
       "    }\n",
       "\n",
       "    .dataframe thead th {\n",
       "        text-align: right;\n",
       "    }\n",
       "</style>\n",
       "<table border=\"1\" class=\"dataframe\">\n",
       "  <thead>\n",
       "    <tr style=\"text-align: right;\">\n",
       "      <th></th>\n",
       "      <th>PassengerId</th>\n",
       "      <th>Pclass</th>\n",
       "      <th>Name</th>\n",
       "      <th>Sex</th>\n",
       "      <th>Age</th>\n",
       "      <th>SibSp</th>\n",
       "      <th>Parch</th>\n",
       "      <th>Ticket</th>\n",
       "      <th>Fare</th>\n",
       "      <th>Cabin</th>\n",
       "      <th>Embarked</th>\n",
       "    </tr>\n",
       "  </thead>\n",
       "  <tbody>\n",
       "    <tr>\n",
       "      <th>0</th>\n",
       "      <td>892</td>\n",
       "      <td>3</td>\n",
       "      <td>Kelly, Mr. James</td>\n",
       "      <td>male</td>\n",
       "      <td>34.5</td>\n",
       "      <td>0</td>\n",
       "      <td>0</td>\n",
       "      <td>330911</td>\n",
       "      <td>7.8292</td>\n",
       "      <td>NaN</td>\n",
       "      <td>Q</td>\n",
       "    </tr>\n",
       "    <tr>\n",
       "      <th>1</th>\n",
       "      <td>893</td>\n",
       "      <td>3</td>\n",
       "      <td>Wilkes, Mrs. James (Ellen Needs)</td>\n",
       "      <td>female</td>\n",
       "      <td>47.0</td>\n",
       "      <td>1</td>\n",
       "      <td>0</td>\n",
       "      <td>363272</td>\n",
       "      <td>7.0000</td>\n",
       "      <td>NaN</td>\n",
       "      <td>S</td>\n",
       "    </tr>\n",
       "    <tr>\n",
       "      <th>2</th>\n",
       "      <td>894</td>\n",
       "      <td>2</td>\n",
       "      <td>Myles, Mr. Thomas Francis</td>\n",
       "      <td>male</td>\n",
       "      <td>62.0</td>\n",
       "      <td>0</td>\n",
       "      <td>0</td>\n",
       "      <td>240276</td>\n",
       "      <td>9.6875</td>\n",
       "      <td>NaN</td>\n",
       "      <td>Q</td>\n",
       "    </tr>\n",
       "    <tr>\n",
       "      <th>3</th>\n",
       "      <td>895</td>\n",
       "      <td>3</td>\n",
       "      <td>Wirz, Mr. Albert</td>\n",
       "      <td>male</td>\n",
       "      <td>27.0</td>\n",
       "      <td>0</td>\n",
       "      <td>0</td>\n",
       "      <td>315154</td>\n",
       "      <td>8.6625</td>\n",
       "      <td>NaN</td>\n",
       "      <td>S</td>\n",
       "    </tr>\n",
       "    <tr>\n",
       "      <th>4</th>\n",
       "      <td>896</td>\n",
       "      <td>3</td>\n",
       "      <td>Hirvonen, Mrs. Alexander (Helga E Lindqvist)</td>\n",
       "      <td>female</td>\n",
       "      <td>22.0</td>\n",
       "      <td>1</td>\n",
       "      <td>1</td>\n",
       "      <td>3101298</td>\n",
       "      <td>12.2875</td>\n",
       "      <td>NaN</td>\n",
       "      <td>S</td>\n",
       "    </tr>\n",
       "  </tbody>\n",
       "</table>\n",
       "</div>"
      ],
      "text/plain": [
       "   PassengerId  Pclass                                          Name     Sex  \\\n",
       "0          892       3                              Kelly, Mr. James    male   \n",
       "1          893       3              Wilkes, Mrs. James (Ellen Needs)  female   \n",
       "2          894       2                     Myles, Mr. Thomas Francis    male   \n",
       "3          895       3                              Wirz, Mr. Albert    male   \n",
       "4          896       3  Hirvonen, Mrs. Alexander (Helga E Lindqvist)  female   \n",
       "\n",
       "    Age  SibSp  Parch   Ticket     Fare Cabin Embarked  \n",
       "0  34.5      0      0   330911   7.8292   NaN        Q  \n",
       "1  47.0      1      0   363272   7.0000   NaN        S  \n",
       "2  62.0      0      0   240276   9.6875   NaN        Q  \n",
       "3  27.0      0      0   315154   8.6625   NaN        S  \n",
       "4  22.0      1      1  3101298  12.2875   NaN        S  "
      ]
     },
     "execution_count": 4,
     "metadata": {},
     "output_type": "execute_result"
    }
   ],
   "source": [
    "test.head()"
   ]
  },
  {
   "cell_type": "markdown",
   "execution_count": null,
   "metadata": {},
   "source": [
    " # **EDA**"
   ]
  },
  {
   "cell_type": "code",
   "execution_count": 5,
   "metadata": {},
   "outputs": [
    {
     "data": {
      "text/plain": [
       "PassengerId      0\n",
       "Survived         0\n",
       "Pclass           0\n",
       "Name             0\n",
       "Sex              0\n",
       "Age            177\n",
       "SibSp            0\n",
       "Parch            0\n",
       "Ticket           0\n",
       "Fare             0\n",
       "Cabin          687\n",
       "Embarked         2\n",
       "dtype: int64"
      ]
     },
     "execution_count": 5,
     "metadata": {},
     "output_type": "execute_result"
    }
   ],
   "source": [
    "#check for missing data\n",
    "train.isnull().sum()"
   ]
  },
  {
   "cell_type": "code",
   "execution_count": 6,
   "metadata": {},
   "outputs": [
    {
     "data": {
      "text/plain": [
       "PassengerId      0\n",
       "Pclass           0\n",
       "Name             0\n",
       "Sex              0\n",
       "Age             86\n",
       "SibSp            0\n",
       "Parch            0\n",
       "Ticket           0\n",
       "Fare             1\n",
       "Cabin          327\n",
       "Embarked         0\n",
       "dtype: int64"
      ]
     },
     "execution_count": 6,
     "metadata": {},
     "output_type": "execute_result"
    }
   ],
   "source": [
    "test.isnull().sum()"
   ]
  },
  {
   "cell_type": "code",
   "execution_count": 7,
   "metadata": {},
   "outputs": [
    {
     "data": {
      "text/plain": [
       "<matplotlib.axes._subplots.AxesSubplot at 0x7f9c611dc350>"
      ]
     },
     "execution_count": 7,
     "metadata": {},
     "output_type": "execute_result"
    },
    {
     "data": {
      "image/png": "[encoded data removed]",
      "text/plain": [
       "<Figure size 432x288 with 1 Axes>"
      ]
     },
     "metadata": {},
     "output_type": "display_data"
    }
   ],
   "source": [
    "sns.set_style('whitegrid')\n",
    "sns.countplot(x='Survived', data=train, palette='autumn')"
   ]
  },
  {
   "cell_type": "code",
   "execution_count": 8,
   "metadata": {},
   "outputs": [
    {
     "data": {
      "text/plain": [
       "<matplotlib.axes._subplots.AxesSubplot at 0x7f9c5b313ad0>"
      ]
     },
     "execution_count": 8,
     "metadata": {},
     "output_type": "execute_result"
    },
    {
     "data": {
      "image/png": "[encoded data removed]",
      "text/plain": [
       "<Figure size 432x288 with 1 Axes>"
      ]
     },
     "metadata": {},
     "output_type": "display_data"
    }
   ],
   "source": [
    "#survival dependent on gender\n",
    "#0=Died, 1=Alive\n",
    "sns.set_style('whitegrid')\n",
    "sns.countplot(x='Survived', hue='Sex', data=train, palette='autumn')"
   ]
  },
  {
   "cell_type": "code",
   "execution_count": 9,
   "metadata": {},
   "outputs": [
    {
     "data": {
      "text/plain": [
       "<matplotlib.axes._subplots.AxesSubplot at 0x7f9c5b313d90>"
      ]
     },
     "execution_count": 9,
     "metadata": {},
     "output_type": "execute_result"
    },
    {
     "data": {
      "image/png": "[encoded data removed]",
      "text/plain": [
       "<Figure size 432x288 with 1 Axes>"
      ]
     },
     "metadata": {},
     "output_type": "display_data"
    }
   ],
   "source": [
    "#survival dependent on passenger class\n",
    "sns.set_style('whitegrid')\n",
    "sns.countplot(x='Survived', hue='Pclass', data=train, palette='autumn_r')"
   ]
  },
  {
   "cell_type": "code",
   "execution_count": 10,
   "metadata": {},
   "outputs": [
    {
     "data": {
      "text/plain": [
       "<matplotlib.axes._subplots.AxesSubplot at 0x7f9c5afba210>"
      ]
     },
     "execution_count": 10,
     "metadata": {},
     "output_type": "execute_result"
    },
    {
     "data": {
      "image/png": "[encoded data removed]",
      "text/plain": [
       "<Figure size 432x288 with 1 Axes>"
      ]
     },
     "metadata": {},
     "output_type": "display_data"
    }
   ],
   "source": [
    "#distrbution of ages of passengers\n",
    "train['Age'].hist(bins=45, color='orange')"
   ]
  },
  {
   "cell_type": "code",
   "execution_count": 11,
   "metadata": {},
   "outputs": [
    {
     "data": {
      "text/plain": [
       "<matplotlib.axes._subplots.AxesSubplot at 0x7f9c5aec6c50>"
      ]
     },
     "execution_count": 11,
     "metadata": {},
     "output_type": "execute_result"
    },
    {
     "data": {
      "image/png": "[encoded data removed]",
      "text/plain": [
       "<Figure size 432x288 with 1 Axes>"
      ]
     },
     "metadata": {},
     "output_type": "display_data"
    }
   ],
   "source": [
    "#distribution of Sibilings and Spouse\n",
    "sns.countplot(x='SibSp',data=train, palette='autumn_r')"
   ]
  },
  {
   "cell_type": "code",
   "execution_count": 12,
   "metadata": {},
   "outputs": [
    {
     "data": {
      "text/plain": [
       "<matplotlib.axes._subplots.AxesSubplot at 0x7f9c5aded190>"
      ]
     },
     "execution_count": 12,
     "metadata": {},
     "output_type": "execute_result"
    },
    {
     "data": {
      "image/png": "[encoded data removed]",
      "text/plain": [
       "<Figure size 1152x360 with 1 Axes>"
      ]
     },
     "metadata": {},
     "output_type": "display_data"
    }
   ],
   "source": [
    "#Approximately average fare\n",
    "train['Fare'].hist(color='orange', bins=100, alpha=0.8, figsize=(16,5))"
   ]
  },
  {
   "cell_type": "markdown",
   "execution_count": null,
   "metadata": {},
   "source": [
    "# **Filling in missing values for age**"
   ]
  },
  {
   "cell_type": "code",
   "execution_count": 13,
   "metadata": {},
   "outputs": [
    {
     "data": {
      "text/html": [
       "        <script type=\"text/javascript\">\n",
       "        window.PlotlyConfig = {MathJaxConfig: 'local'};\n",
       "        if (window.MathJax) {MathJax.Hub.Config({SVG: {font: \"STIX-Web\"}});}\n",
       "        if (typeof require !== 'undefined') {\n",
       "        require.undef(\"plotly\");\n",
       "        requirejs.config({\n",
       "            paths: {\n",
       "                'plotly': ['https://cdn.plot.ly/plotly-latest.min']\n",
       "            }\n",
       "        });\n",
       "        require(['plotly'], function(Plotly) {\n",
       "            window._Plotly = Plotly;\n",
       "        });\n",
       "        }\n",
       "        </script>\n",
       "        "
      ]
     },
     "metadata": {},
     "output_type": "display_data"
    },
    {
     "data": {
      "text/html": [
       "<div>\n",
       "        \n",
       "        \n",
       "            <div id=\"c05b051d-5114-439a-b84b-d7b35a34632b\" class=\"plotly-graph-div\" style=\"height:525px; width:100%;\"></div>\n",
       "            <script type=\"text/javascript\">\n",
       "                require([\"plotly\"], function(Plotly) {\n",
       "                    window.PLOTLYENV=window.PLOTLYENV || {};\n",
       "                    \n",
       "                if (document.getElementById(\"c05b051d-5114-439a-b84b-d7b35a34632b\")) {\n",
       "                    Plotly.newPlot(\n",
       "                        'c05b051d-5114-439a-b84b-d7b35a34632b',\n",
       "                        [{\"alignmentgroup\": \"True\", \"box\": {\"visible\": true}, \"customdata\": [[1, 0, 3, \"Braund, Mr. Owen Harris\", \"male\", 22.0, 1, 0, \"A/5 21171\", 7.25, null, \"S\"], [3, 1, 3, \"Heikkinen, Miss. Laina\", \"female\", 26.0, 0, 0, \"STON/O2. 3101282\", 7.925, null, \"S\"], [5, 0, 3, \"Allen, Mr. William Henry\", \"male\", 35.0, 0, 0, \"373450\", 8.05, null, \"S\"], [6, 0, 3, \"Moran, Mr. James\", \"male\", null, 0, 0, \"330877\", 8.4583, null, \"Q\"], [8, 0, 3, \"Palsson, Master. Gosta Leonard\", \"male\", 2.0, 3, 1, \"349909\", 21.075, null, \"S\"], [9, 1, 3, \"Johnson, Mrs. Oscar W (Elisabeth Vilhelmina Berg)\", \"female\", 27.0, 0, 2, \"347742\", 11.1333, null, \"S\"], [11, 1, 3, \"Sandstrom, Miss. Marguerite Rut\", \"female\", 4.0, 1, 1, \"PP 9549\", 16.7, \"G6\", \"S\"], [13, 0, 3, \"Saundercock, Mr. William Henry\", \"male\", 20.0, 0, 0, \"A/5. 2151\", 8.05, null, \"S\"], [14, 0, 3, \"Andersson, Mr. Anders Johan\", \"male\", 39.0, 1, 5, \"347082\", 31.275, null, \"S\"], [15, 0, 3, \"Vestrom, Miss. Hulda Amanda Adolfina\", \"female\", 14.0, 0, 0, \"350406\", 7.8542, null, \"S\"], [17, 0, 3, \"Rice, Master. Eugene\", \"male\", 2.0, 4, 1, \"382652\", 29.125, null, \"Q\"], [19, 0, 3, \"Vander Planke, Mrs. Julius (Emelia Maria Vandemoortele)\", \"female\", 31.0, 1, 0, \"345763\", 18.0, null, \"S\"], [20, 1, 3, \"Masselmani, Mrs. Fatima\", \"female\", null, 0, 0, \"2649\", 7.225, null, \"C\"], [23, 1, 3, \"McGowan, Miss. Anna \\\"Annie\\\"\", \"female\", 15.0, 0, 0, \"330923\", 8.0292, null, \"Q\"], [25, 0, 3, \"Palsson, Miss. Torborg Danira\", \"female\", 8.0, 3, 1, \"349909\", 21.075, null, \"S\"], [26, 1, 3, \"Asplund, Mrs. Carl Oscar (Selma Augusta Emilia Johansson)\", \"female\", 38.0, 1, 5, \"347077\", 31.3875, null, \"S\"], [27, 0, 3, \"Emir, Mr. Farred Chehab\", \"male\", null, 0, 0, \"2631\", 7.225, null, \"C\"], [29, 1, 3, \"O'Dwyer, Miss. Ellen \\\"Nellie\\\"\", \"female\", null, 0, 0, \"330959\", 7.8792, null, \"Q\"], [30, 0, 3, \"Todoroff, Mr. Lalio\", \"male\", null, 0, 0, \"349216\", 7.8958, null, \"S\"], [33, 1, 3, \"Glynn, Miss. Mary Agatha\", \"female\", null, 0, 0, \"335677\", 7.75, null, \"Q\"], [37, 1, 3, \"Mamee, Mr. Hanna\", \"male\", null, 0, 0, \"2677\", 7.2292, null, \"C\"], [38, 0, 3, \"Cann, Mr. Ernest Charles\", \"male\", 21.0, 0, 0, \"A./5. 2152\", 8.05, null, \"S\"], [39, 0, 3, \"Vander Planke, Miss. Augusta Maria\", \"female\", 18.0, 2, 0, \"345764\", 18.0, null, \"S\"], [40, 1, 3, \"Nicola-Yarred, Miss. Jamila\", \"female\", 14.0, 1, 0, \"2651\", 11.2417, null, \"C\"], [41, 0, 3, \"Ahlin, Mrs. Johan (Johanna Persdotter Larsson)\", \"female\", 40.0, 1, 0, \"7546\", 9.475, null, \"S\"], [43, 0, 3, \"Kraeff, Mr. Theodor\", \"male\", null, 0, 0, \"349253\", 7.8958, null, \"C\"], [45, 1, 3, \"Devaney, Miss. Margaret Delia\", \"female\", 19.0, 0, 0, \"330958\", 7.8792, null, \"Q\"], [46, 0, 3, \"Rogers, Mr. William John\", \"male\", null, 0, 0, \"S.C./A.4. 23567\", 8.05, null, \"S\"], [47, 0, 3, \"Lennon, Mr. Denis\", \"male\", null, 1, 0, \"370371\", 15.5, null, \"Q\"], [48, 1, 3, \"O'Driscoll, Miss. Bridget\", \"female\", null, 0, 0, \"14311\", 7.75, null, \"Q\"], [49, 0, 3, \"Samaan, Mr. Youssef\", \"male\", null, 2, 0, \"2662\", 21.6792, null, \"C\"], [50, 0, 3, \"Arnold-Franchi, Mrs. Josef (Josefine Franchi)\", \"female\", 18.0, 1, 0, \"349237\", 17.8, null, \"S\"], [51, 0, 3, \"Panula, Master. Juha Niilo\", \"male\", 7.0, 4, 1, \"3101295\", 39.6875, null, \"S\"], [52, 0, 3, \"Nosworthy, Mr. Richard Cater\", \"male\", 21.0, 0, 0, \"A/4. 39886\", 7.8, null, \"S\"], [58, 0, 3, \"Novel, Mr. Mansouer\", \"male\", 28.5, 0, 0, \"2697\", 7.2292, null, \"C\"], [60, 0, 3, \"Goodwin, Master. William Frederick\", \"male\", 11.0, 5, 2, \"CA 2144\", 46.9, null, \"S\"], [61, 0, 3, \"Sirayanian, Mr. Orsen\", \"male\", 22.0, 0, 0, \"2669\", 7.2292, null, \"C\"], [64, 0, 3, \"Skoog, Master. Harald\", \"male\", 4.0, 3, 2, \"347088\", 27.9, null, \"S\"], [66, 1, 3, \"Moubarek, Master. Gerios\", \"male\", null, 1, 1, \"2661\", 15.2458, null, \"C\"], [68, 0, 3, \"Crease, Mr. Ernest James\", \"male\", 19.0, 0, 0, \"S.P. 3464\", 8.1583, null, \"S\"], [69, 1, 3, \"Andersson, Miss. Erna Alexandra\", \"female\", 17.0, 4, 2, \"3101281\", 7.925, null, \"S\"], [70, 0, 3, \"Kink, Mr. Vincenz\", \"male\", 26.0, 2, 0, \"315151\", 8.6625, null, \"S\"], [72, 0, 3, \"Goodwin, Miss. Lillian Amy\", \"female\", 16.0, 5, 2, \"CA 2144\", 46.9, null, \"S\"], [74, 0, 3, \"Chronopoulos, Mr. Apostolos\", \"male\", 26.0, 1, 0, \"2680\", 14.4542, null, \"C\"], [75, 1, 3, \"Bing, Mr. Lee\", \"male\", 32.0, 0, 0, \"1601\", 56.4958, null, \"S\"], [76, 0, 3, \"Moen, Mr. Sigurd Hansen\", \"male\", 25.0, 0, 0, \"348123\", 7.65, \"F G73\", \"S\"], [77, 0, 3, \"Staneff, Mr. Ivan\", \"male\", null, 0, 0, \"349208\", 7.8958, null, \"S\"], [78, 0, 3, \"Moutal, Mr. Rahamin Haim\", \"male\", null, 0, 0, \"374746\", 8.05, null, \"S\"], [80, 1, 3, \"Dowdell, Miss. Elizabeth\", \"female\", 30.0, 0, 0, \"364516\", 12.475, null, \"S\"], [81, 0, 3, \"Waelens, Mr. Achille\", \"male\", 22.0, 0, 0, \"345767\", 9.0, null, \"S\"], [82, 1, 3, \"Sheerlinck, Mr. Jan Baptist\", \"male\", 29.0, 0, 0, \"345779\", 9.5, null, \"S\"], [83, 1, 3, \"McDermott, Miss. Brigdet Delia\", \"female\", null, 0, 0, \"330932\", 7.7875, null, \"Q\"], [86, 1, 3, \"Backstrom, Mrs. Karl Alfred (Maria Mathilda Gustafsson)\", \"female\", 33.0, 3, 0, \"3101278\", 15.85, null, \"S\"], [87, 0, 3, \"Ford, Mr. William Neal\", \"male\", 16.0, 1, 3, \"W./C. 6608\", 34.375, null, \"S\"], [88, 0, 3, \"Slocovski, Mr. Selman Francis\", \"male\", null, 0, 0, \"SOTON/OQ 392086\", 8.05, null, \"S\"], [90, 0, 3, \"Celotti, Mr. Francesco\", \"male\", 24.0, 0, 0, \"343275\", 8.05, null, \"S\"], [91, 0, 3, \"Christmann, Mr. Emil\", \"male\", 29.0, 0, 0, \"343276\", 8.05, null, \"S\"], [92, 0, 3, \"Andreasson, Mr. Paul Edvin\", \"male\", 20.0, 0, 0, \"347466\", 7.8542, null, \"S\"], [94, 0, 3, \"Dean, Mr. Bertram Frank\", \"male\", 26.0, 1, 2, \"C.A. 2315\", 20.575, null, \"S\"], [95, 0, 3, \"Coxon, Mr. Daniel\", \"male\", 59.0, 0, 0, \"364500\", 7.25, null, \"S\"], [96, 0, 3, \"Shorney, Mr. Charles Joseph\", \"male\", null, 0, 0, \"374910\", 8.05, null, \"S\"], [101, 0, 3, \"Petranec, Miss. Matilda\", \"female\", 28.0, 0, 0, \"349245\", 7.8958, null, \"S\"], [102, 0, 3, \"Petroff, Mr. Pastcho (\\\"Pentcho\\\")\", \"male\", null, 0, 0, \"349215\", 7.8958, null, \"S\"], [104, 0, 3, \"Johansson, Mr. Gustaf Joel\", \"male\", 33.0, 0, 0, \"7540\", 8.6542, null, \"S\"], [105, 0, 3, \"Gustafsson, Mr. Anders Vilhelm\", \"male\", 37.0, 2, 0, \"3101276\", 7.925, null, \"S\"], [106, 0, 3, \"Mionoff, Mr. Stoytcho\", \"male\", 28.0, 0, 0, \"349207\", 7.8958, null, \"S\"], [107, 1, 3, \"Salkjelsvik, Miss. Anna Kristine\", \"female\", 21.0, 0, 0, \"343120\", 7.65, null, \"S\"], [108, 1, 3, \"Moss, Mr. Albert Johan\", \"male\", null, 0, 0, \"312991\", 7.775, null, \"S\"], [109, 0, 3, \"Rekic, Mr. Tido\", \"male\", 38.0, 0, 0, \"349249\", 7.8958, null, \"S\"], [110, 1, 3, \"Moran, Miss. Bertha\", \"female\", null, 1, 0, \"371110\", 24.15, null, \"Q\"], [112, 0, 3, \"Zabour, Miss. Hileni\", \"female\", 14.5, 1, 0, \"2665\", 14.4542, null, \"C\"], [113, 0, 3, \"Barton, Mr. David John\", \"male\", 22.0, 0, 0, \"324669\", 8.05, null, \"S\"], [114, 0, 3, \"Jussila, Miss. Katriina\", \"female\", 20.0, 1, 0, \"4136\", 9.825, null, \"S\"], [115, 0, 3, \"Attalah, Miss. Malake\", \"female\", 17.0, 0, 0, \"2627\", 14.4583, null, \"C\"], [116, 0, 3, \"Pekoniemi, Mr. Edvard\", \"male\", 21.0, 0, 0, \"STON/O 2. 3101294\", 7.925, null, \"S\"], [117, 0, 3, \"Connors, Mr. Patrick\", \"male\", 70.5, 0, 0, \"370369\", 7.75, null, \"Q\"], [120, 0, 3, \"Andersson, Miss. Ellis Anna Maria\", \"female\", 2.0, 4, 2, \"347082\", 31.275, null, \"S\"], [122, 0, 3, \"Moore, Mr. Leonard Charles\", \"male\", null, 0, 0, \"A4. 54510\", 8.05, null, \"S\"], [126, 1, 3, \"Nicola-Yarred, Master. Elias\", \"male\", 12.0, 1, 0, \"2651\", 11.2417, null, \"C\"], [127, 0, 3, \"McMahon, Mr. Martin\", \"male\", null, 0, 0, \"370372\", 7.75, null, \"Q\"], [128, 1, 3, \"Madsen, Mr. Fridtjof Arne\", \"male\", 24.0, 0, 0, \"C 17369\", 7.1417, null, \"S\"], [129, 1, 3, \"Peter, Miss. Anna\", \"female\", null, 1, 1, \"2668\", 22.3583, \"F E69\", \"C\"], [130, 0, 3, \"Ekstrom, Mr. Johan\", \"male\", 45.0, 0, 0, \"347061\", 6.975, null, \"S\"], [131, 0, 3, \"Drazenoic, Mr. Jozef\", \"male\", 33.0, 0, 0, \"349241\", 7.8958, null, \"C\"], [132, 0, 3, \"Coelho, Mr. Domingos Fernandeo\", \"male\", 20.0, 0, 0, \"SOTON/O.Q. 3101307\", 7.05, null, \"S\"], [133, 0, 3, \"Robins, Mrs. Alexander A (Grace Charity Laury)\", \"female\", 47.0, 1, 0, \"A/5. 3337\", 14.5, null, \"S\"], [139, 0, 3, \"Osen, Mr. Olaf Elon\", \"male\", 16.0, 0, 0, \"7534\", 9.2167, null, \"S\"], [141, 0, 3, \"Boulos, Mrs. Joseph (Sultana)\", \"female\", null, 0, 2, \"2678\", 15.2458, null, \"C\"], [142, 1, 3, \"Nysten, Miss. Anna Sofia\", \"female\", 22.0, 0, 0, \"347081\", 7.75, null, \"S\"], [143, 1, 3, \"Hakkarainen, Mrs. Pekka Pietari (Elin Matilda Dolck)\", \"female\", 24.0, 1, 0, \"STON/O2. 3101279\", 15.85, null, \"S\"], [144, 0, 3, \"Burke, Mr. Jeremiah\", \"male\", 19.0, 0, 0, \"365222\", 6.75, null, \"Q\"], [147, 1, 3, \"Andersson, Mr. August Edvard (\\\"Wennerstrom\\\")\", \"male\", 27.0, 0, 0, \"350043\", 7.7958, null, \"S\"], [148, 0, 3, \"Ford, Miss. Robina Maggie \\\"Ruby\\\"\", \"female\", 9.0, 2, 2, \"W./C. 6608\", 34.375, null, \"S\"], [153, 0, 3, \"Meo, Mr. Alfonzo\", \"male\", 55.5, 0, 0, \"A.5. 11206\", 8.05, null, \"S\"], [154, 0, 3, \"van Billiard, Mr. Austin Blyler\", \"male\", 40.5, 0, 2, \"A/5. 851\", 14.5, null, \"S\"], [155, 0, 3, \"Olsen, Mr. Ole Martin\", \"male\", null, 0, 0, \"Fa 265302\", 7.3125, null, \"S\"], [157, 1, 3, \"Gilnagh, Miss. Katherine \\\"Katie\\\"\", \"female\", 16.0, 0, 0, \"35851\", 7.7333, null, \"Q\"], [158, 0, 3, \"Corn, Mr. Harry\", \"male\", 30.0, 0, 0, \"SOTON/OQ 392090\", 8.05, null, \"S\"], [159, 0, 3, \"Smiljanic, Mr. Mile\", \"male\", null, 0, 0, \"315037\", 8.6625, null, \"S\"], [160, 0, 3, \"Sage, Master. Thomas Henry\", \"male\", null, 8, 2, \"CA. 2343\", 69.55, null, \"S\"], [161, 0, 3, \"Cribb, Mr. John Hatfield\", \"male\", 44.0, 0, 1, \"371362\", 16.1, null, \"S\"], [163, 0, 3, \"Bengtsson, Mr. John Viktor\", \"male\", 26.0, 0, 0, \"347068\", 7.775, null, \"S\"], [164, 0, 3, \"Calic, Mr. Jovo\", \"male\", 17.0, 0, 0, \"315093\", 8.6625, null, \"S\"], [165, 0, 3, \"Panula, Master. Eino Viljami\", \"male\", 1.0, 4, 1, \"3101295\", 39.6875, null, \"S\"], [166, 1, 3, \"Goldsmith, Master. Frank John William \\\"Frankie\\\"\", \"male\", 9.0, 0, 2, \"363291\", 20.525, null, \"S\"], [168, 0, 3, \"Skoog, Mrs. William (Anna Bernhardina Karlsson)\", \"female\", 45.0, 1, 4, \"347088\", 27.9, null, \"S\"], [170, 0, 3, \"Ling, Mr. Lee\", \"male\", 28.0, 0, 0, \"1601\", 56.4958, null, \"S\"], [172, 0, 3, \"Rice, Master. Arthur\", \"male\", 4.0, 4, 1, \"382652\", 29.125, null, \"Q\"], [173, 1, 3, \"Johnson, Miss. Eleanor Ileen\", \"female\", 1.0, 1, 1, \"347742\", 11.1333, null, \"S\"], [174, 0, 3, \"Sivola, Mr. Antti Wilhelm\", \"male\", 21.0, 0, 0, \"STON/O 2. 3101280\", 7.925, null, \"S\"], [176, 0, 3, \"Klasen, Mr. Klas Albin\", \"male\", 18.0, 1, 1, \"350404\", 7.8542, null, \"S\"], [177, 0, 3, \"Lefebre, Master. Henry Forbes\", \"male\", null, 3, 1, \"4133\", 25.4667, null, \"S\"], [180, 0, 3, \"Leonard, Mr. Lionel\", \"male\", 36.0, 0, 0, \"LINE\", 0.0, null, \"S\"], [181, 0, 3, \"Sage, Miss. Constance Gladys\", \"female\", null, 8, 2, \"CA. 2343\", 69.55, null, \"S\"], [183, 0, 3, \"Asplund, Master. Clarence Gustaf Hugo\", \"male\", 9.0, 4, 2, \"347077\", 31.3875, null, \"S\"], [185, 1, 3, \"Kink-Heilmann, Miss. Luise Gretchen\", \"female\", 4.0, 0, 2, \"315153\", 22.025, null, \"S\"], [187, 1, 3, \"O'Brien, Mrs. Thomas (Johanna \\\"Hannah\\\" Godfrey)\", \"female\", null, 1, 0, \"370365\", 15.5, null, \"Q\"], [189, 0, 3, \"Bourke, Mr. John\", \"male\", 40.0, 1, 1, \"364849\", 15.5, null, \"Q\"], [190, 0, 3, \"Turcin, Mr. Stjepan\", \"male\", 36.0, 0, 0, \"349247\", 7.8958, null, \"S\"], [193, 1, 3, \"Andersen-Jensen, Miss. Carla Christine Nielsine\", \"female\", 19.0, 1, 0, \"350046\", 7.8542, null, \"S\"], [197, 0, 3, \"Mernagh, Mr. Robert\", \"male\", null, 0, 0, \"368703\", 7.75, null, \"Q\"], [198, 0, 3, \"Olsen, Mr. Karl Siegwart Andreas\", \"male\", 42.0, 0, 1, \"4579\", 8.4042, null, \"S\"], [199, 1, 3, \"Madigan, Miss. Margaret \\\"Maggie\\\"\", \"female\", null, 0, 0, \"370370\", 7.75, null, \"Q\"], [201, 0, 3, \"Vande Walle, Mr. Nestor Cyriel\", \"male\", 28.0, 0, 0, \"345770\", 9.5, null, \"S\"], [202, 0, 3, \"Sage, Mr. Frederick\", \"male\", null, 8, 2, \"CA. 2343\", 69.55, null, \"S\"], [203, 0, 3, \"Johanson, Mr. Jakob Alfred\", \"male\", 34.0, 0, 0, \"3101264\", 6.4958, null, \"S\"], [204, 0, 3, \"Youseff, Mr. Gerious\", \"male\", 45.5, 0, 0, \"2628\", 7.225, null, \"C\"], [205, 1, 3, \"Cohen, Mr. Gurshon \\\"Gus\\\"\", \"male\", 18.0, 0, 0, \"A/5 3540\", 8.05, null, \"S\"], [206, 0, 3, \"Strom, Miss. Telma Matilda\", \"female\", 2.0, 0, 1, \"347054\", 10.4625, \"G6\", \"S\"], [207, 0, 3, \"Backstrom, Mr. Karl Alfred\", \"male\", 32.0, 1, 0, \"3101278\", 15.85, null, \"S\"], [208, 1, 3, \"Albimona, Mr. Nassef Cassem\", \"male\", 26.0, 0, 0, \"2699\", 18.7875, null, \"C\"], [209, 1, 3, \"Carr, Miss. Helen \\\"Ellen\\\"\", \"female\", 16.0, 0, 0, \"367231\", 7.75, null, \"Q\"], [211, 0, 3, \"Ali, Mr. Ahmed\", \"male\", 24.0, 0, 0, \"SOTON/O.Q. 3101311\", 7.05, null, \"S\"], [213, 0, 3, \"Perkin, Mr. John Henry\", \"male\", 22.0, 0, 0, \"A/5 21174\", 7.25, null, \"S\"], [215, 0, 3, \"Kiernan, Mr. Philip\", \"male\", null, 1, 0, \"367229\", 7.75, null, \"Q\"], [217, 1, 3, \"Honkanen, Miss. Eliina\", \"female\", 27.0, 0, 0, \"STON/O2. 3101283\", 7.925, null, \"S\"], [221, 1, 3, \"Sunderland, Mr. Victor Francis\", \"male\", 16.0, 0, 0, \"SOTON/OQ 392089\", 8.05, null, \"S\"], [223, 0, 3, \"Green, Mr. George Henry\", \"male\", 51.0, 0, 0, \"21440\", 8.05, null, \"S\"], [224, 0, 3, \"Nenkoff, Mr. Christo\", \"male\", null, 0, 0, \"349234\", 7.8958, null, \"S\"], [226, 0, 3, \"Berglund, Mr. Karl Ivar Sven\", \"male\", 22.0, 0, 0, \"PP 4348\", 9.35, null, \"S\"], [228, 0, 3, \"Lovell, Mr. John Hall (\\\"Henry\\\")\", \"male\", 20.5, 0, 0, \"A/5 21173\", 7.25, null, \"S\"], [230, 0, 3, \"Lefebre, Miss. Mathilde\", \"female\", null, 3, 1, \"4133\", 25.4667, null, \"S\"], [232, 0, 3, \"Larsson, Mr. Bengt Edvin\", \"male\", 29.0, 0, 0, \"347067\", 7.775, null, \"S\"], [234, 1, 3, \"Asplund, Miss. Lillian Gertrud\", \"female\", 5.0, 4, 2, \"347077\", 31.3875, null, \"S\"], [236, 0, 3, \"Harknett, Miss. Alice Phoebe\", \"female\", null, 0, 0, \"W./C. 6609\", 7.55, null, \"S\"], [241, 0, 3, \"Zabour, Miss. Thamine\", \"female\", null, 1, 0, \"2665\", 14.4542, null, \"C\"], [242, 1, 3, \"Murphy, Miss. Katherine \\\"Kate\\\"\", \"female\", null, 1, 0, \"367230\", 15.5, null, \"Q\"], [244, 0, 3, \"Maenpaa, Mr. Matti Alexanteri\", \"male\", 22.0, 0, 0, \"STON/O 2. 3101275\", 7.125, null, \"S\"], [245, 0, 3, \"Attalah, Mr. Sleiman\", \"male\", 30.0, 0, 0, \"2694\", 7.225, null, \"C\"], [247, 0, 3, \"Lindahl, Miss. Agda Thorilda Viktoria\", \"female\", 25.0, 0, 0, \"347071\", 7.775, null, \"S\"], [251, 0, 3, \"Reed, Mr. James George\", \"male\", null, 0, 0, \"362316\", 7.25, null, \"S\"], [252, 0, 3, \"Strom, Mrs. Wilhelm (Elna Matilda Persson)\", \"female\", 29.0, 1, 1, \"347054\", 10.4625, \"G6\", \"S\"], [254, 0, 3, \"Lobb, Mr. William Arthur\", \"male\", 30.0, 1, 0, \"A/5. 3336\", 16.1, null, \"S\"], [255, 0, 3, \"Rosblom, Mrs. Viktor (Helena Wilhelmina)\", \"female\", 41.0, 0, 2, \"370129\", 20.2125, null, \"S\"], [256, 1, 3, \"Touma, Mrs. Darwis (Hanne Youssef Razi)\", \"female\", 29.0, 0, 2, \"2650\", 15.2458, null, \"C\"], [261, 0, 3, \"Smith, Mr. Thomas\", \"male\", null, 0, 0, \"384461\", 7.75, null, \"Q\"], [262, 1, 3, \"Asplund, Master. Edvin Rojj Felix\", \"male\", 3.0, 4, 2, \"347077\", 31.3875, null, \"S\"], [265, 0, 3, \"Henry, Miss. Delia\", \"female\", null, 0, 0, \"382649\", 7.75, null, \"Q\"], [267, 0, 3, \"Panula, Mr. Ernesti Arvid\", \"male\", 16.0, 4, 1, \"3101295\", 39.6875, null, \"S\"], [268, 1, 3, \"Persson, Mr. Ernst Ulrik\", \"male\", 25.0, 1, 0, \"347083\", 7.775, null, \"S\"], [272, 1, 3, \"Tornquist, Mr. William Henry\", \"male\", 25.0, 0, 0, \"LINE\", 0.0, null, \"S\"], [275, 1, 3, \"Healy, Miss. Hanora \\\"Nora\\\"\", \"female\", null, 0, 0, \"370375\", 7.75, null, \"Q\"], [277, 0, 3, \"Lindblom, Miss. Augusta Charlotta\", \"female\", 45.0, 0, 0, \"347073\", 7.75, null, \"S\"], [279, 0, 3, \"Rice, Master. Eric\", \"male\", 7.0, 4, 1, \"382652\", 29.125, null, \"Q\"], [280, 1, 3, \"Abbott, Mrs. Stanton (Rosa Hunt)\", \"female\", 35.0, 1, 1, \"C.A. 2673\", 20.25, null, \"S\"], [281, 0, 3, \"Duane, Mr. Frank\", \"male\", 65.0, 0, 0, \"336439\", 7.75, null, \"Q\"], [282, 0, 3, \"Olsson, Mr. Nils Johan Goransson\", \"male\", 28.0, 0, 0, \"347464\", 7.8542, null, \"S\"], [283, 0, 3, \"de Pelsmaeker, Mr. Alfons\", \"male\", 16.0, 0, 0, \"345778\", 9.5, null, \"S\"], [284, 1, 3, \"Dorking, Mr. Edward Arthur\", \"male\", 19.0, 0, 0, \"A/5. 10482\", 8.05, null, \"S\"], [286, 0, 3, \"Stankovic, Mr. Ivan\", \"male\", 33.0, 0, 0, \"349239\", 8.6625, null, \"C\"], [287, 1, 3, \"de Mulder, Mr. Theodore\", \"male\", 30.0, 0, 0, \"345774\", 9.5, null, \"S\"], [288, 0, 3, \"Naidenoff, Mr. Penko\", \"male\", 22.0, 0, 0, \"349206\", 7.8958, null, \"S\"], [290, 1, 3, \"Connolly, Miss. Kate\", \"female\", 22.0, 0, 0, \"370373\", 7.75, null, \"Q\"], [294, 0, 3, \"Haas, Miss. Aloisia\", \"female\", 24.0, 0, 0, \"349236\", 8.85, null, \"S\"], [295, 0, 3, \"Mineff, Mr. Ivan\", \"male\", 24.0, 0, 0, \"349233\", 7.8958, null, \"S\"], [297, 0, 3, \"Hanna, Mr. Mansour\", \"male\", 23.5, 0, 0, \"2693\", 7.2292, null, \"C\"], [301, 1, 3, \"Kelly, Miss. Anna Katherine \\\"Annie Kate\\\"\", \"female\", null, 0, 0, \"9234\", 7.75, null, \"Q\"], [302, 1, 3, \"McCoy, Mr. Bernard\", \"male\", null, 2, 0, \"367226\", 23.25, null, \"Q\"], [303, 0, 3, \"Johnson, Mr. William Cahoone Jr\", \"male\", 19.0, 0, 0, \"LINE\", 0.0, null, \"S\"], [305, 0, 3, \"Williams, Mr. Howard Hugh \\\"Harry\\\"\", \"male\", null, 0, 0, \"A/5 2466\", 8.05, null, \"S\"], [314, 0, 3, \"Hendekovic, Mr. Ignjac\", \"male\", 28.0, 0, 0, \"349243\", 7.8958, null, \"S\"], [316, 1, 3, \"Nilsson, Miss. Helmina Josefina\", \"female\", 26.0, 0, 0, \"347470\", 7.8542, null, \"S\"], [321, 0, 3, \"Dennis, Mr. Samuel\", \"male\", 22.0, 0, 0, \"A/5 21172\", 7.25, null, \"S\"], [322, 0, 3, \"Danoff, Mr. Yoto\", \"male\", 27.0, 0, 0, \"349219\", 7.8958, null, \"S\"], [325, 0, 3, \"Sage, Mr. George John Jr\", \"male\", null, 8, 2, \"CA. 2343\", 69.55, null, \"S\"], [327, 0, 3, \"Nysveen, Mr. Johan Hansen\", \"male\", 61.0, 0, 0, \"345364\", 6.2375, null, \"S\"], [329, 1, 3, \"Goldsmith, Mrs. Frank John (Emily Alice Brown)\", \"female\", 31.0, 1, 1, \"363291\", 20.525, null, \"S\"], [331, 1, 3, \"McCoy, Miss. Agnes\", \"female\", null, 2, 0, \"367226\", 23.25, null, \"Q\"], [334, 0, 3, \"Vander Planke, Mr. Leo Edmondus\", \"male\", 16.0, 2, 0, \"345764\", 18.0, null, \"S\"], [336, 0, 3, \"Denkoff, Mr. Mitto\", \"male\", null, 0, 0, \"349225\", 7.8958, null, \"S\"], [339, 1, 3, \"Dahl, Mr. Karl Edwart\", \"male\", 45.0, 0, 0, \"7598\", 8.05, null, \"S\"], [348, 1, 3, \"Davison, Mrs. Thomas Henry (Mary E Finck)\", \"female\", null, 1, 0, \"386525\", 16.1, null, \"S\"], [349, 1, 3, \"Coutts, Master. William Loch \\\"William\\\"\", \"male\", 3.0, 1, 1, \"C.A. 37671\", 15.9, null, \"S\"], [350, 0, 3, \"Dimic, Mr. Jovan\", \"male\", 42.0, 0, 0, \"315088\", 8.6625, null, \"S\"], [351, 0, 3, \"Odahl, Mr. Nils Martin\", \"male\", 23.0, 0, 0, \"7267\", 9.225, null, \"S\"], [353, 0, 3, \"Elias, Mr. Tannous\", \"male\", 15.0, 1, 1, \"2695\", 7.2292, null, \"C\"], [354, 0, 3, \"Arnold-Franchi, Mr. Josef\", \"male\", 25.0, 1, 0, \"349237\", 17.8, null, \"S\"], [355, 0, 3, \"Yousif, Mr. Wazli\", \"male\", null, 0, 0, \"2647\", 7.225, null, \"C\"], [356, 0, 3, \"Vanden Steen, Mr. Leo Peter\", \"male\", 28.0, 0, 0, \"345783\", 9.5, null, \"S\"], [359, 1, 3, \"McGovern, Miss. Mary\", \"female\", null, 0, 0, \"330931\", 7.8792, null, \"Q\"], [360, 1, 3, \"Mockler, Miss. Helen Mary \\\"Ellie\\\"\", \"female\", null, 0, 0, \"330980\", 7.8792, null, \"Q\"], [361, 0, 3, \"Skoog, Mr. Wilhelm\", \"male\", 40.0, 1, 4, \"347088\", 27.9, null, \"S\"], [363, 0, 3, \"Barbara, Mrs. (Catherine David)\", \"female\", 45.0, 0, 1, \"2691\", 14.4542, null, \"C\"], [364, 0, 3, \"Asim, Mr. Adola\", \"male\", 35.0, 0, 0, \"SOTON/O.Q. 3101310\", 7.05, null, \"S\"], [365, 0, 3, \"O'Brien, Mr. Thomas\", \"male\", null, 1, 0, \"370365\", 15.5, null, \"Q\"], [366, 0, 3, \"Adahl, Mr. Mauritz Nils Martin\", \"male\", 30.0, 0, 0, \"C 7076\", 7.25, null, \"S\"], [368, 1, 3, \"Moussa, Mrs. (Mantoura Boulos)\", \"female\", null, 0, 0, \"2626\", 7.2292, null, \"C\"], [369, 1, 3, \"Jermyn, Miss. Annie\", \"female\", null, 0, 0, \"14313\", 7.75, null, \"Q\"], [372, 0, 3, \"Wiklund, Mr. Jakob Alfred\", \"male\", 18.0, 1, 0, \"3101267\", 6.4958, null, \"S\"], [373, 0, 3, \"Beavan, Mr. William Thomas\", \"male\", 19.0, 0, 0, \"323951\", 8.05, null, \"S\"], [375, 0, 3, \"Palsson, Miss. Stina Viola\", \"female\", 3.0, 3, 1, \"349909\", 21.075, null, \"S\"], [377, 1, 3, \"Landergren, Miss. Aurora Adelia\", \"female\", 22.0, 0, 0, \"C 7077\", 7.25, null, \"S\"], [379, 0, 3, \"Betros, Mr. Tannous\", \"male\", 20.0, 0, 0, \"2648\", 4.0125, null, \"C\"], [380, 0, 3, \"Gustafsson, Mr. Karl Gideon\", \"male\", 19.0, 0, 0, \"347069\", 7.775, null, \"S\"], [382, 1, 3, \"Nakid, Miss. Maria (\\\"Mary\\\")\", \"female\", 1.0, 0, 2, \"2653\", 15.7417, null, \"C\"], [383, 0, 3, \"Tikkanen, Mr. Juho\", \"male\", 32.0, 0, 0, \"STON/O 2. 3101293\", 7.925, null, \"S\"], [385, 0, 3, \"Plotcharsky, Mr. Vasil\", \"male\", null, 0, 0, \"349227\", 7.8958, null, \"S\"], [387, 0, 3, \"Goodwin, Master. Sidney Leonard\", \"male\", 1.0, 5, 2, \"CA 2144\", 46.9, null, \"S\"], [389, 0, 3, \"Sadlier, Mr. Matthew\", \"male\", null, 0, 0, \"367655\", 7.7292, null, \"Q\"], [392, 1, 3, \"Jansson, Mr. Carl Olof\", \"male\", 21.0, 0, 0, \"350034\", 7.7958, null, \"S\"], [393, 0, 3, \"Gustafsson, Mr. Johan Birger\", \"male\", 28.0, 2, 0, \"3101277\", 7.925, null, \"S\"], [395, 1, 3, \"Sandstrom, Mrs. Hjalmar (Agnes Charlotta Bengtsson)\", \"female\", 24.0, 0, 2, \"PP 9549\", 16.7, \"G6\", \"S\"], [396, 0, 3, \"Johansson, Mr. Erik\", \"male\", 22.0, 0, 0, \"350052\", 7.7958, null, \"S\"], [397, 0, 3, \"Olsson, Miss. Elina\", \"female\", 31.0, 0, 0, \"350407\", 7.8542, null, \"S\"], [401, 1, 3, \"Niskanen, Mr. Juha\", \"male\", 39.0, 0, 0, \"STON/O 2. 3101289\", 7.925, null, \"S\"], [402, 0, 3, \"Adams, Mr. John\", \"male\", 26.0, 0, 0, \"341826\", 8.05, null, \"S\"], [403, 0, 3, \"Jussila, Miss. Mari Aina\", \"female\", 21.0, 1, 0, \"4137\", 9.825, null, \"S\"], [404, 0, 3, \"Hakkarainen, Mr. Pekka Pietari\", \"male\", 28.0, 1, 0, \"STON/O2. 3101279\", 15.85, null, \"S\"], [405, 0, 3, \"Oreskovic, Miss. Marija\", \"female\", 20.0, 0, 0, \"315096\", 8.6625, null, \"S\"], [407, 0, 3, \"Widegren, Mr. Carl/Charles Peter\", \"male\", 51.0, 0, 0, \"347064\", 7.75, null, \"S\"], [409, 0, 3, \"Birkeland, Mr. Hans Martin Monsen\", \"male\", 21.0, 0, 0, \"312992\", 7.775, null, \"S\"], [410, 0, 3, \"Lefebre, Miss. Ida\", \"female\", null, 3, 1, \"4133\", 25.4667, null, \"S\"], [411, 0, 3, \"Sdycoff, Mr. Todor\", \"male\", null, 0, 0, \"349222\", 7.8958, null, \"S\"], [412, 0, 3, \"Hart, Mr. Henry\", \"male\", null, 0, 0, \"394140\", 6.8583, null, \"Q\"], [415, 1, 3, \"Sundman, Mr. Johan Julian\", \"male\", 44.0, 0, 0, \"STON/O 2. 3101269\", 7.925, null, \"S\"], [416, 0, 3, \"Meek, Mrs. Thomas (Annie Louise Rowley)\", \"female\", null, 0, 0, \"343095\", 8.05, null, \"S\"], [420, 0, 3, \"Van Impe, Miss. Catharina\", \"female\", 10.0, 0, 2, \"345773\", 24.15, null, \"S\"], [421, 0, 3, \"Gheorgheff, Mr. Stanio\", \"male\", null, 0, 0, \"349254\", 7.8958, null, \"C\"], [422, 0, 3, \"Charters, Mr. David\", \"male\", 21.0, 0, 0, \"A/5. 13032\", 7.7333, null, \"Q\"], [423, 0, 3, \"Zimmerman, Mr. Leo\", \"male\", 29.0, 0, 0, \"315082\", 7.875, null, \"S\"], [424, 0, 3, \"Danbom, Mrs. Ernst Gilbert (Anna Sigrid Maria Brogren)\", \"female\", 28.0, 1, 1, \"347080\", 14.4, null, \"S\"], [425, 0, 3, \"Rosblom, Mr. Viktor Richard\", \"male\", 18.0, 1, 1, \"370129\", 20.2125, null, \"S\"], [426, 0, 3, \"Wiseman, Mr. Phillippe\", \"male\", null, 0, 0, \"A/4. 34244\", 7.25, null, \"S\"], [429, 0, 3, \"Flynn, Mr. James\", \"male\", null, 0, 0, \"364851\", 7.75, null, \"Q\"], [430, 1, 3, \"Pickard, Mr. Berk (Berk Trembisky)\", \"male\", 32.0, 0, 0, \"SOTON/O.Q. 392078\", 8.05, \"E10\", \"S\"], [432, 1, 3, \"Thorneycroft, Mrs. Percival (Florence Kate White)\", \"female\", null, 1, 0, \"376564\", 16.1, null, \"S\"], [434, 0, 3, \"Kallio, Mr. Nikolai Erland\", \"male\", 17.0, 0, 0, \"STON/O 2. 3101274\", 7.125, null, \"S\"], [437, 0, 3, \"Ford, Miss. Doolina Margaret \\\"Daisy\\\"\", \"female\", 21.0, 2, 2, \"W./C. 6608\", 34.375, null, \"S\"], [442, 0, 3, \"Hampe, Mr. Leon\", \"male\", 20.0, 0, 0, \"345769\", 9.5, null, \"S\"], [443, 0, 3, \"Petterson, Mr. Johan Emil\", \"male\", 25.0, 1, 0, \"347076\", 7.775, null, \"S\"], [445, 1, 3, \"Johannesen-Bratthammer, Mr. Bernt\", \"male\", null, 0, 0, \"65306\", 8.1125, null, \"S\"], [449, 1, 3, \"Baclini, Miss. Marie Catherine\", \"female\", 5.0, 2, 1, \"2666\", 19.2583, null, \"C\"], [452, 0, 3, \"Hagland, Mr. Ingvald Olai Olsen\", \"male\", null, 1, 0, \"65303\", 19.9667, null, \"S\"], [455, 0, 3, \"Peduzzi, Mr. Joseph\", \"male\", null, 0, 0, \"A/5 2817\", 8.05, null, \"S\"], [456, 1, 3, \"Jalsevac, Mr. Ivan\", \"male\", 29.0, 0, 0, \"349240\", 7.8958, null, \"C\"], [460, 0, 3, \"O'Connor, Mr. Maurice\", \"male\", null, 0, 0, \"371060\", 7.75, null, \"Q\"], [462, 0, 3, \"Morley, Mr. William\", \"male\", 34.0, 0, 0, \"364506\", 8.05, null, \"S\"], [465, 0, 3, \"Maisner, Mr. Simon\", \"male\", null, 0, 0, \"A/S 2816\", 8.05, null, \"S\"], [466, 0, 3, \"Goncalves, Mr. Manuel Estanslas\", \"male\", 38.0, 0, 0, \"SOTON/O.Q. 3101306\", 7.05, null, \"S\"], [469, 0, 3, \"Scanlan, Mr. James\", \"male\", null, 0, 0, \"36209\", 7.725, null, \"Q\"], [470, 1, 3, \"Baclini, Miss. Helene Barbara\", \"female\", 0.75, 2, 1, \"2666\", 19.2583, null, \"C\"], [471, 0, 3, \"Keefe, Mr. Arthur\", \"male\", null, 0, 0, \"323592\", 7.25, null, \"S\"], [472, 0, 3, \"Cacic, Mr. Luka\", \"male\", 38.0, 0, 0, \"315089\", 8.6625, null, \"S\"], [475, 0, 3, \"Strandberg, Miss. Ida Sofia\", \"female\", 22.0, 0, 0, \"7553\", 9.8375, null, \"S\"], [478, 0, 3, \"Braund, Mr. Lewis Richard\", \"male\", 29.0, 1, 0, \"3460\", 7.0458, null, \"S\"], [479, 0, 3, \"Karlsson, Mr. Nils August\", \"male\", 22.0, 0, 0, \"350060\", 7.5208, null, \"S\"], [480, 1, 3, \"Hirvonen, Miss. Hildur E\", \"female\", 2.0, 0, 1, \"3101298\", 12.2875, null, \"S\"], [481, 0, 3, \"Goodwin, Master. Harold Victor\", \"male\", 9.0, 5, 2, \"CA 2144\", 46.9, null, \"S\"], [483, 0, 3, \"Rouse, Mr. Richard Henry\", \"male\", 50.0, 0, 0, \"A/5 3594\", 8.05, null, \"S\"], [484, 1, 3, \"Turkula, Mrs. (Hedwig)\", \"female\", 63.0, 0, 0, \"4134\", 9.5875, null, \"S\"], [486, 0, 3, \"Lefebre, Miss. Jeannie\", \"female\", null, 3, 1, \"4133\", 25.4667, null, \"S\"], [489, 0, 3, \"Somerton, Mr. Francis William\", \"male\", 30.0, 0, 0, \"A.5. 18509\", 8.05, null, \"S\"], [490, 1, 3, \"Coutts, Master. Eden Leslie \\\"Neville\\\"\", \"male\", 9.0, 1, 1, \"C.A. 37671\", 15.9, null, \"S\"], [491, 0, 3, \"Hagland, Mr. Konrad Mathias Reiersen\", \"male\", null, 1, 0, \"65304\", 19.9667, null, \"S\"], [492, 0, 3, \"Windelov, Mr. Einar\", \"male\", 21.0, 0, 0, \"SOTON/OQ 3101317\", 7.25, null, \"S\"], [495, 0, 3, \"Stanley, Mr. Edward Roland\", \"male\", 21.0, 0, 0, \"A/4 45380\", 8.05, null, \"S\"], [496, 0, 3, \"Yousseff, Mr. Gerious\", \"male\", null, 0, 0, \"2627\", 14.4583, null, \"C\"], [498, 0, 3, \"Shellard, Mr. Frederick William\", \"male\", null, 0, 0, \"C.A. 6212\", 15.1, null, \"S\"], [500, 0, 3, \"Svensson, Mr. Olof\", \"male\", 24.0, 0, 0, \"350035\", 7.7958, null, \"S\"], [501, 0, 3, \"Calic, Mr. Petar\", \"male\", 17.0, 0, 0, \"315086\", 8.6625, null, \"S\"], [502, 0, 3, \"Canavan, Miss. Mary\", \"female\", 21.0, 0, 0, \"364846\", 7.75, null, \"Q\"], [503, 0, 3, \"O'Sullivan, Miss. Bridget Mary\", \"female\", null, 0, 0, \"330909\", 7.6292, null, \"Q\"], [504, 0, 3, \"Laitinen, Miss. Kristina Sofia\", \"female\", 37.0, 0, 0, \"4135\", 9.5875, null, \"S\"], [509, 0, 3, \"Olsen, Mr. Henry Margido\", \"male\", 28.0, 0, 0, \"C 4001\", 22.525, null, \"S\"], [510, 1, 3, \"Lang, Mr. Fang\", \"male\", 26.0, 0, 0, \"1601\", 56.4958, null, \"S\"], [511, 1, 3, \"Daly, Mr. Eugene Patrick\", \"male\", 29.0, 0, 0, \"382651\", 7.75, null, \"Q\"], [512, 0, 3, \"Webber, Mr. James\", \"male\", null, 0, 0, \"SOTON/OQ 3101316\", 8.05, null, \"S\"], [515, 0, 3, \"Coleff, Mr. Satio\", \"male\", 24.0, 0, 0, \"349209\", 7.4958, null, \"S\"], [518, 0, 3, \"Ryan, Mr. Patrick\", \"male\", null, 0, 0, \"371110\", 24.15, null, \"Q\"], [520, 0, 3, \"Pavlovic, Mr. Stefo\", \"male\", 32.0, 0, 0, \"349242\", 7.8958, null, \"S\"], [522, 0, 3, \"Vovk, Mr. Janko\", \"male\", 22.0, 0, 0, \"349252\", 7.8958, null, \"S\"], [523, 0, 3, \"Lahoud, Mr. Sarkis\", \"male\", null, 0, 0, \"2624\", 7.225, null, \"C\"], [525, 0, 3, \"Kassem, Mr. Fared\", \"male\", null, 0, 0, \"2700\", 7.2292, null, \"C\"], [526, 0, 3, \"Farrell, Mr. James\", \"male\", 40.5, 0, 0, \"367232\", 7.75, null, \"Q\"], [529, 0, 3, \"Salonen, Mr. Johan Werner\", \"male\", 39.0, 0, 0, \"3101296\", 7.925, null, \"S\"], [532, 0, 3, \"Toufik, Mr. Nakli\", \"male\", null, 0, 0, \"2641\", 7.2292, null, \"C\"], [533, 0, 3, \"Elias, Mr. Joseph Jr\", \"male\", 17.0, 1, 1, \"2690\", 7.2292, null, \"C\"], [534, 1, 3, \"Peter, Mrs. Catherine (Catherine Rizk)\", \"female\", null, 0, 2, \"2668\", 22.3583, null, \"C\"], [535, 0, 3, \"Cacic, Miss. Marija\", \"female\", 30.0, 0, 0, \"315084\", 8.6625, null, \"S\"], [539, 0, 3, \"Risien, Mr. Samuel Beard\", \"male\", null, 0, 0, \"364498\", 14.5, null, \"S\"], [542, 0, 3, \"Andersson, Miss. Ingeborg Constanzia\", \"female\", 9.0, 4, 2, \"347082\", 31.275, null, \"S\"], [543, 0, 3, \"Andersson, Miss. Sigrid Elisabeth\", \"female\", 11.0, 4, 2, \"347082\", 31.275, null, \"S\"], [549, 0, 3, \"Goldsmith, Mr. Frank John\", \"male\", 33.0, 1, 1, \"363291\", 20.525, null, \"S\"], [553, 0, 3, \"O'Brien, Mr. Timothy\", \"male\", null, 0, 0, \"330979\", 7.8292, null, \"Q\"], [554, 1, 3, \"Leeni, Mr. Fahim (\\\"Philip Zenni\\\")\", \"male\", 22.0, 0, 0, \"2620\", 7.225, null, \"C\"], [555, 1, 3, \"Ohman, Miss. Velin\", \"female\", 22.0, 0, 0, \"347085\", 7.775, null, \"S\"], [560, 1, 3, \"de Messemaeker, Mrs. Guillaume Joseph (Emma)\", \"female\", 36.0, 1, 0, \"345572\", 17.4, null, \"S\"], [561, 0, 3, \"Morrow, Mr. Thomas Rowan\", \"male\", null, 0, 0, \"372622\", 7.75, null, \"Q\"], [562, 0, 3, \"Sivic, Mr. Husein\", \"male\", 40.0, 0, 0, \"349251\", 7.8958, null, \"S\"], [564, 0, 3, \"Simmons, Mr. John\", \"male\", null, 0, 0, \"SOTON/OQ 392082\", 8.05, null, \"S\"], [565, 0, 3, \"Meanwell, Miss. (Marion Ogden)\", \"female\", null, 0, 0, \"SOTON/O.Q. 392087\", 8.05, null, \"S\"], [566, 0, 3, \"Davies, Mr. Alfred J\", \"male\", 24.0, 2, 0, \"A/4 48871\", 24.15, null, \"S\"], [567, 0, 3, \"Stoytcheff, Mr. Ilia\", \"male\", 19.0, 0, 0, \"349205\", 7.8958, null, \"S\"], [568, 0, 3, \"Palsson, Mrs. Nils (Alma Cornelia Berglund)\", \"female\", 29.0, 0, 4, \"349909\", 21.075, null, \"S\"], [569, 0, 3, \"Doharr, Mr. Tannous\", \"male\", null, 0, 0, \"2686\", 7.2292, null, \"C\"], [570, 1, 3, \"Jonsson, Mr. Carl\", \"male\", 32.0, 0, 0, \"350417\", 7.8542, null, \"S\"], [574, 1, 3, \"Kelly, Miss. Mary\", \"female\", null, 0, 0, \"14312\", 7.75, null, \"Q\"], [575, 0, 3, \"Rush, Mr. Alfred George John\", \"male\", 16.0, 0, 0, \"A/4. 20589\", 8.05, null, \"S\"], [576, 0, 3, \"Patchett, Mr. George\", \"male\", 19.0, 0, 0, \"358585\", 14.5, null, \"S\"], [579, 0, 3, \"Caram, Mrs. Joseph (Maria Elias)\", \"female\", null, 1, 0, \"2689\", 14.4583, null, \"C\"], [580, 1, 3, \"Jussila, Mr. Eiriik\", \"male\", 32.0, 0, 0, \"STON/O 2. 3101286\", 7.925, null, \"S\"], [585, 0, 3, \"Paulner, Mr. Uscher\", \"male\", null, 0, 0, \"3411\", 8.7125, null, \"C\"], [589, 0, 3, \"Gilinski, Mr. Eliezer\", \"male\", 22.0, 0, 0, \"14973\", 8.05, null, \"S\"], [590, 0, 3, \"Murdlin, Mr. Joseph\", \"male\", null, 0, 0, \"A./5. 3235\", 8.05, null, \"S\"], [591, 0, 3, \"Rintamaki, Mr. Matti\", \"male\", 35.0, 0, 0, \"STON/O 2. 3101273\", 7.125, null, \"S\"], [593, 0, 3, \"Elsbury, Mr. William James\", \"male\", 47.0, 0, 0, \"A/5 3902\", 7.25, null, \"S\"], [594, 0, 3, \"Bourke, Miss. Mary\", \"female\", null, 0, 2, \"364848\", 7.75, null, \"Q\"], [596, 0, 3, \"Van Impe, Mr. Jean Baptiste\", \"male\", 36.0, 1, 1, \"345773\", 24.15, null, \"S\"], [598, 0, 3, \"Johnson, Mr. Alfred\", \"male\", 49.0, 0, 0, \"LINE\", 0.0, null, \"S\"], [599, 0, 3, \"Boulos, Mr. Hanna\", \"male\", null, 0, 0, \"2664\", 7.225, null, \"C\"], [602, 0, 3, \"Slabenoff, Mr. Petco\", \"male\", null, 0, 0, \"349214\", 7.8958, null, \"S\"], [604, 0, 3, \"Torber, Mr. Ernst William\", \"male\", 44.0, 0, 0, \"364511\", 8.05, null, \"S\"], [606, 0, 3, \"Lindell, Mr. Edvard Bengtsson\", \"male\", 36.0, 1, 0, \"349910\", 15.55, null, \"S\"], [607, 0, 3, \"Karaic, Mr. Milan\", \"male\", 30.0, 0, 0, \"349246\", 7.8958, null, \"S\"], [611, 0, 3, \"Andersson, Mrs. Anders Johan (Alfrida Konstantia Brogren)\", \"female\", 39.0, 1, 5, \"347082\", 31.275, null, \"S\"], [612, 0, 3, \"Jardin, Mr. Jose Neto\", \"male\", null, 0, 0, \"SOTON/O.Q. 3101305\", 7.05, null, \"S\"], [613, 1, 3, \"Murphy, Miss. Margaret Jane\", \"female\", null, 1, 0, \"367230\", 15.5, null, \"Q\"], [614, 0, 3, \"Horgan, Mr. John\", \"male\", null, 0, 0, \"370377\", 7.75, null, \"Q\"], [615, 0, 3, \"Brocklebank, Mr. William Alfred\", \"male\", 35.0, 0, 0, \"364512\", 8.05, null, \"S\"], [617, 0, 3, \"Danbom, Mr. Ernst Gilbert\", \"male\", 34.0, 1, 1, \"347080\", 14.4, null, \"S\"], [618, 0, 3, \"Lobb, Mrs. William Arthur (Cordelia K Stanlick)\", \"female\", 26.0, 1, 0, \"A/5. 3336\", 16.1, null, \"S\"], [621, 0, 3, \"Yasbeck, Mr. Antoni\", \"male\", 27.0, 1, 0, \"2659\", 14.4542, null, \"C\"], [623, 1, 3, \"Nakid, Mr. Sahid\", \"male\", 20.0, 1, 1, \"2653\", 15.7417, null, \"C\"], [624, 0, 3, \"Hansen, Mr. Henry Damsgaard\", \"male\", 21.0, 0, 0, \"350029\", 7.8542, null, \"S\"], [625, 0, 3, \"Bowen, Mr. David John \\\"Dai\\\"\", \"male\", 21.0, 0, 0, \"54636\", 16.1, null, \"S\"], [629, 0, 3, \"Bostandyeff, Mr. Guentcho\", \"male\", 26.0, 0, 0, \"349224\", 7.8958, null, \"S\"], [630, 0, 3, \"O'Connell, Mr. Patrick D\", \"male\", null, 0, 0, \"334912\", 7.7333, null, \"Q\"], [632, 0, 3, \"Lundahl, Mr. Johan Svensson\", \"male\", 51.0, 0, 0, \"347743\", 7.0542, null, \"S\"], [635, 0, 3, \"Skoog, Miss. Mabel\", \"female\", 9.0, 3, 2, \"347088\", 27.9, null, \"S\"], [637, 0, 3, \"Leinonen, Mr. Antti Gustaf\", \"male\", 32.0, 0, 0, \"STON/O 2. 3101292\", 7.925, null, \"S\"], [639, 0, 3, \"Panula, Mrs. Juha (Maria Emilia Ojala)\", \"female\", 41.0, 0, 5, \"3101295\", 39.6875, null, \"S\"], [640, 0, 3, \"Thorneycroft, Mr. Percival\", \"male\", null, 1, 0, \"376564\", 16.1, null, \"S\"], [641, 0, 3, \"Jensen, Mr. Hans Peder\", \"male\", 20.0, 0, 0, \"350050\", 7.8542, null, \"S\"], [643, 0, 3, \"Skoog, Miss. Margit Elizabeth\", \"female\", 2.0, 3, 2, \"347088\", 27.9, null, \"S\"], [644, 1, 3, \"Foo, Mr. Choong\", \"male\", null, 0, 0, \"1601\", 56.4958, null, \"S\"], [645, 1, 3, \"Baclini, Miss. Eugenie\", \"female\", 0.75, 2, 1, \"2666\", 19.2583, null, \"C\"], [647, 0, 3, \"Cor, Mr. Liudevit\", \"male\", 19.0, 0, 0, \"349231\", 7.8958, null, \"S\"], [649, 0, 3, \"Willey, Mr. Edward\", \"male\", null, 0, 0, \"S.O./P.P. 751\", 7.55, null, \"S\"], [650, 1, 3, \"Stanley, Miss. Amy Zillah Elsie\", \"female\", 23.0, 0, 0, \"CA. 2314\", 7.55, null, \"S\"], [651, 0, 3, \"Mitkoff, Mr. Mito\", \"male\", null, 0, 0, \"349221\", 7.8958, null, \"S\"], [653, 0, 3, \"Kalvik, Mr. Johannes Halvorsen\", \"male\", 21.0, 0, 0, \"8475\", 8.4333, null, \"S\"], [654, 1, 3, \"O'Leary, Miss. Hanora \\\"Norah\\\"\", \"female\", null, 0, 0, \"330919\", 7.8292, null, \"Q\"], [655, 0, 3, \"Hegarty, Miss. Hanora \\\"Nora\\\"\", \"female\", 18.0, 0, 0, \"365226\", 6.75, null, \"Q\"], [657, 0, 3, \"Radeff, Mr. Alexander\", \"male\", null, 0, 0, \"349223\", 7.8958, null, \"S\"], [658, 0, 3, \"Bourke, Mrs. John (Catherine)\", \"female\", 32.0, 1, 1, \"364849\", 15.5, null, \"Q\"], [662, 0, 3, \"Badt, Mr. Mohamed\", \"male\", 40.0, 0, 0, \"2623\", 7.225, null, \"C\"], [664, 0, 3, \"Coleff, Mr. Peju\", \"male\", 36.0, 0, 0, \"349210\", 7.4958, null, \"S\"], [665, 1, 3, \"Lindqvist, Mr. Eino William\", \"male\", 20.0, 1, 0, \"STON/O 2. 3101285\", 7.925, null, \"S\"], [668, 0, 3, \"Rommetvedt, Mr. Knud Paust\", \"male\", null, 0, 0, \"312993\", 7.775, null, \"S\"], [669, 0, 3, \"Cook, Mr. Jacob\", \"male\", 43.0, 0, 0, \"A/5 3536\", 8.05, null, \"S\"], [676, 0, 3, \"Edvardsson, Mr. Gustaf Hjalmar\", \"male\", 18.0, 0, 0, \"349912\", 7.775, null, \"S\"], [677, 0, 3, \"Sawyer, Mr. Frederick Charles\", \"male\", 24.5, 0, 0, \"342826\", 8.05, null, \"S\"], [678, 1, 3, \"Turja, Miss. Anna Sofia\", \"female\", 18.0, 0, 0, \"4138\", 9.8417, null, \"S\"], [679, 0, 3, \"Goodwin, Mrs. Frederick (Augusta Tyler)\", \"female\", 43.0, 1, 6, \"CA 2144\", 46.9, null, \"S\"], [681, 0, 3, \"Peters, Miss. Katie\", \"female\", null, 0, 0, \"330935\", 8.1375, null, \"Q\"], [683, 0, 3, \"Olsvigen, Mr. Thor Anderson\", \"male\", 20.0, 0, 0, \"6563\", 9.225, null, \"S\"], [684, 0, 3, \"Goodwin, Mr. Charles Edward\", \"male\", 14.0, 5, 2, \"CA 2144\", 46.9, null, \"S\"], [687, 0, 3, \"Panula, Mr. Jaako Arnold\", \"male\", 14.0, 4, 1, \"3101295\", 39.6875, null, \"S\"], [688, 0, 3, \"Dakic, Mr. Branko\", \"male\", 19.0, 0, 0, \"349228\", 10.1708, null, \"S\"], [689, 0, 3, \"Fischer, Mr. Eberhard Thelander\", \"male\", 18.0, 0, 0, \"350036\", 7.7958, null, \"S\"], [692, 1, 3, \"Karun, Miss. Manca\", \"female\", 4.0, 0, 1, \"349256\", 13.4167, null, \"C\"], [693, 1, 3, \"Lam, Mr. Ali\", \"male\", null, 0, 0, \"1601\", 56.4958, null, \"S\"], [694, 0, 3, \"Saad, Mr. Khalil\", \"male\", 25.0, 0, 0, \"2672\", 7.225, null, \"C\"], [697, 0, 3, \"Kelly, Mr. James\", \"male\", 44.0, 0, 0, \"363592\", 8.05, null, \"S\"], [698, 1, 3, \"Mullens, Miss. Katherine \\\"Katie\\\"\", \"female\", null, 0, 0, \"35852\", 7.7333, null, \"Q\"], [700, 0, 3, \"Humblen, Mr. Adolf Mathias Nicolai Olsen\", \"male\", 42.0, 0, 0, \"348121\", 7.65, \"F G63\", \"S\"], [703, 0, 3, \"Barbara, Miss. Saiide\", \"female\", 18.0, 0, 1, \"2691\", 14.4542, null, \"C\"], [704, 0, 3, \"Gallagher, Mr. Martin\", \"male\", 25.0, 0, 0, \"36864\", 7.7417, null, \"Q\"], [705, 0, 3, \"Hansen, Mr. Henrik Juul\", \"male\", 26.0, 1, 0, \"350025\", 7.8542, null, \"S\"], [710, 1, 3, \"Moubarek, Master. Halim Gonios (\\\"William George\\\")\", \"male\", null, 1, 1, \"2661\", 15.2458, null, \"C\"], [714, 0, 3, \"Larsson, Mr. August Viktor\", \"male\", 29.0, 0, 0, \"7545\", 9.4833, null, \"S\"], [716, 0, 3, \"Soholt, Mr. Peter Andreas Lauritz Andersen\", \"male\", 19.0, 0, 0, \"348124\", 7.65, \"F G73\", \"S\"], [719, 0, 3, \"McEvoy, Mr. Michael\", \"male\", null, 0, 0, \"36568\", 15.5, null, \"Q\"], [720, 0, 3, \"Johnson, Mr. Malkolm Joackim\", \"male\", 33.0, 0, 0, \"347062\", 7.775, null, \"S\"], [722, 0, 3, \"Jensen, Mr. Svend Lauritz\", \"male\", 17.0, 1, 0, \"350048\", 7.0542, null, \"S\"], [726, 0, 3, \"Oreskovic, Mr. Luka\", \"male\", 20.0, 0, 0, \"315094\", 8.6625, null, \"S\"], [728, 1, 3, \"Mannion, Miss. Margareth\", \"female\", null, 0, 0, \"36866\", 7.7375, null, \"Q\"], [730, 0, 3, \"Ilmakangas, Miss. Pieta Sofia\", \"female\", 25.0, 1, 0, \"STON/O2. 3101271\", 7.925, null, \"S\"], [732, 0, 3, \"Hassan, Mr. Houssein G N\", \"male\", 11.0, 0, 0, \"2699\", 18.7875, null, \"C\"], [736, 0, 3, \"Williams, Mr. Leslie\", \"male\", 28.5, 0, 0, \"54636\", 16.1, null, \"S\"], [737, 0, 3, \"Ford, Mrs. Edward (Margaret Ann Watson)\", \"female\", 48.0, 1, 3, \"W./C. 6608\", 34.375, null, \"S\"], [739, 0, 3, \"Ivanoff, Mr. Kanio\", \"male\", null, 0, 0, \"349201\", 7.8958, null, \"S\"], [740, 0, 3, \"Nankoff, Mr. Minko\", \"male\", null, 0, 0, \"349218\", 7.8958, null, \"S\"], [744, 0, 3, \"McNamee, Mr. Neal\", \"male\", 24.0, 1, 0, \"376566\", 16.1, null, \"S\"], [745, 1, 3, \"Stranden, Mr. Juho\", \"male\", 31.0, 0, 0, \"STON/O 2. 3101288\", 7.925, null, \"S\"], [747, 0, 3, \"Abbott, Mr. Rossmore Edward\", \"male\", 16.0, 1, 1, \"C.A. 2673\", 20.25, null, \"S\"], [750, 0, 3, \"Connaghton, Mr. Michael\", \"male\", 31.0, 0, 0, \"335097\", 7.75, null, \"Q\"], [752, 1, 3, \"Moor, Master. Meier\", \"male\", 6.0, 0, 1, \"392096\", 12.475, \"E121\", \"S\"], [753, 0, 3, \"Vande Velde, Mr. Johannes Joseph\", \"male\", 33.0, 0, 0, \"345780\", 9.5, null, \"S\"], [754, 0, 3, \"Jonkoff, Mr. Lalio\", \"male\", 23.0, 0, 0, \"349204\", 7.8958, null, \"S\"], [757, 0, 3, \"Carlsson, Mr. August Sigfrid\", \"male\", 28.0, 0, 0, \"350042\", 7.7958, null, \"S\"], [759, 0, 3, \"Theobald, Mr. Thomas Leonard\", \"male\", 34.0, 0, 0, \"363294\", 8.05, null, \"S\"], [761, 0, 3, \"Garfirth, Mr. John\", \"male\", null, 0, 0, \"358585\", 14.5, null, \"S\"], [762, 0, 3, \"Nirva, Mr. Iisakki Antino Aijo\", \"male\", 41.0, 0, 0, \"SOTON/O2 3101272\", 7.125, null, \"S\"], [763, 1, 3, \"Barah, Mr. Hanna Assi\", \"male\", 20.0, 0, 0, \"2663\", 7.2292, null, \"C\"], [765, 0, 3, \"Eklund, Mr. Hans Linus\", \"male\", 16.0, 0, 0, \"347074\", 7.775, null, \"S\"], [768, 0, 3, \"Mangan, Miss. Mary\", \"female\", 30.5, 0, 0, \"364850\", 7.75, null, \"Q\"], [769, 0, 3, \"Moran, Mr. Daniel J\", \"male\", null, 1, 0, \"371110\", 24.15, null, \"Q\"], [770, 0, 3, \"Gronnestad, Mr. Daniel Danielsen\", \"male\", 32.0, 0, 0, \"8471\", 8.3625, null, \"S\"], [771, 0, 3, \"Lievens, Mr. Rene Aime\", \"male\", 24.0, 0, 0, \"345781\", 9.5, null, \"S\"], [772, 0, 3, \"Jensen, Mr. Niels Peder\", \"male\", 48.0, 0, 0, \"350047\", 7.8542, null, \"S\"], [774, 0, 3, \"Elias, Mr. Dibo\", \"male\", null, 0, 0, \"2674\", 7.225, null, \"C\"], [776, 0, 3, \"Myhrman, Mr. Pehr Fabian Oliver Malkolm\", \"male\", 18.0, 0, 0, \"347078\", 7.75, null, \"S\"], [777, 0, 3, \"Tobin, Mr. Roger\", \"male\", null, 0, 0, \"383121\", 7.75, \"F38\", \"Q\"], [778, 1, 3, \"Emanuel, Miss. Virginia Ethel\", \"female\", 5.0, 0, 0, \"364516\", 12.475, null, \"S\"], [779, 0, 3, \"Kilgannon, Mr. Thomas J\", \"male\", null, 0, 0, \"36865\", 7.7375, null, \"Q\"], [781, 1, 3, \"Ayoub, Miss. Banoura\", \"female\", 13.0, 0, 0, \"2687\", 7.2292, null, \"C\"], [784, 0, 3, \"Johnston, Mr. Andrew G\", \"male\", null, 1, 2, \"W./C. 6607\", 23.45, null, \"S\"], [785, 0, 3, \"Ali, Mr. William\", \"male\", 25.0, 0, 0, \"SOTON/O.Q. 3101312\", 7.05, null, \"S\"], [786, 0, 3, \"Harmer, Mr. Abraham (David Lishin)\", \"male\", 25.0, 0, 0, \"374887\", 7.25, null, \"S\"], [787, 1, 3, \"Sjoblom, Miss. Anna Sofia\", \"female\", 18.0, 0, 0, \"3101265\", 7.4958, null, \"S\"], [788, 0, 3, \"Rice, Master. George Hugh\", \"male\", 8.0, 4, 1, \"382652\", 29.125, null, \"Q\"], [789, 1, 3, \"Dean, Master. Bertram Vere\", \"male\", 1.0, 1, 2, \"C.A. 2315\", 20.575, null, \"S\"], [791, 0, 3, \"Keane, Mr. Andrew \\\"Andy\\\"\", \"male\", null, 0, 0, \"12460\", 7.75, null, \"Q\"], [793, 0, 3, \"Sage, Miss. Stella Anna\", \"female\", null, 8, 2, \"CA. 2343\", 69.55, null, \"S\"], [795, 0, 3, \"Dantcheff, Mr. Ristiu\", \"male\", 25.0, 0, 0, \"349203\", 7.8958, null, \"S\"], [798, 1, 3, \"Osman, Mrs. Mara\", \"female\", 31.0, 0, 0, \"349244\", 8.6833, null, \"S\"], [799, 0, 3, \"Ibrahim Shawah, Mr. Yousseff\", \"male\", 30.0, 0, 0, \"2685\", 7.2292, null, \"C\"], [800, 0, 3, \"Van Impe, Mrs. Jean Baptiste (Rosalie Paula Govaert)\", \"female\", 30.0, 1, 1, \"345773\", 24.15, null, \"S\"], [804, 1, 3, \"Thomas, Master. Assad Alexander\", \"male\", 0.42, 0, 1, \"2625\", 8.5167, null, \"C\"], [805, 1, 3, \"Hedman, Mr. Oskar Arvid\", \"male\", 27.0, 0, 0, \"347089\", 6.975, null, \"S\"], [806, 0, 3, \"Johansson, Mr. Karl Johan\", \"male\", 31.0, 0, 0, \"347063\", 7.775, null, \"S\"], [808, 0, 3, \"Pettersson, Miss. Ellen Natalia\", \"female\", 18.0, 0, 0, \"347087\", 7.775, null, \"S\"], [811, 0, 3, \"Alexander, Mr. William\", \"male\", 26.0, 0, 0, \"3474\", 7.8875, null, \"S\"], [812, 0, 3, \"Lester, Mr. James\", \"male\", 39.0, 0, 0, \"A/4 48871\", 24.15, null, \"S\"], [814, 0, 3, \"Andersson, Miss. Ebba Iris Alfrida\", \"female\", 6.0, 4, 2, \"347082\", 31.275, null, \"S\"], [815, 0, 3, \"Tomlin, Mr. Ernest Portage\", \"male\", 30.5, 0, 0, \"364499\", 8.05, null, \"S\"], [817, 0, 3, \"Heininen, Miss. Wendla Maria\", \"female\", 23.0, 0, 0, \"STON/O2. 3101290\", 7.925, null, \"S\"], [819, 0, 3, \"Holm, Mr. John Fredrik Alexander\", \"male\", 43.0, 0, 0, \"C 7075\", 6.45, null, \"S\"], [820, 0, 3, \"Skoog, Master. Karl Thorsten\", \"male\", 10.0, 3, 2, \"347088\", 27.9, null, \"S\"], [822, 1, 3, \"Lulic, Mr. Nikola\", \"male\", 27.0, 0, 0, \"315098\", 8.6625, null, \"S\"], [824, 1, 3, \"Moor, Mrs. (Beila)\", \"female\", 27.0, 0, 1, \"392096\", 12.475, \"E121\", \"S\"], [825, 0, 3, \"Panula, Master. Urho Abraham\", \"male\", 2.0, 4, 1, \"3101295\", 39.6875, null, \"S\"], [826, 0, 3, \"Flynn, Mr. John\", \"male\", null, 0, 0, \"368323\", 6.95, null, \"Q\"], [827, 0, 3, \"Lam, Mr. Len\", \"male\", null, 0, 0, \"1601\", 56.4958, null, \"S\"], [829, 1, 3, \"McCormack, Mr. Thomas Joseph\", \"male\", null, 0, 0, \"367228\", 7.75, null, \"Q\"], [831, 1, 3, \"Yasbeck, Mrs. Antoni (Selini Alexander)\", \"female\", 15.0, 1, 0, \"2659\", 14.4542, null, \"C\"], [833, 0, 3, \"Saad, Mr. Amin\", \"male\", null, 0, 0, \"2671\", 7.2292, null, \"C\"], [834, 0, 3, \"Augustsson, Mr. Albert\", \"male\", 23.0, 0, 0, \"347468\", 7.8542, null, \"S\"], [835, 0, 3, \"Allum, Mr. Owen George\", \"male\", 18.0, 0, 0, \"2223\", 8.3, null, \"S\"], [837, 0, 3, \"Pasic, Mr. Jakob\", \"male\", 21.0, 0, 0, \"315097\", 8.6625, null, \"S\"], [838, 0, 3, \"Sirota, Mr. Maurice\", \"male\", null, 0, 0, \"392092\", 8.05, null, \"S\"], [839, 1, 3, \"Chip, Mr. Chang\", \"male\", 32.0, 0, 0, \"1601\", 56.4958, null, \"S\"], [841, 0, 3, \"Alhomaki, Mr. Ilmari Rudolf\", \"male\", 20.0, 0, 0, \"SOTON/O2 3101287\", 7.925, null, \"S\"], [844, 0, 3, \"Lemberopolous, Mr. Peter L\", \"male\", 34.5, 0, 0, \"2683\", 6.4375, null, \"C\"], [845, 0, 3, \"Culumovic, Mr. Jeso\", \"male\", 17.0, 0, 0, \"315090\", 8.6625, null, \"S\"], [846, 0, 3, \"Abbing, Mr. Anthony\", \"male\", 42.0, 0, 0, \"C.A. 5547\", 7.55, null, \"S\"], [847, 0, 3, \"Sage, Mr. Douglas Bullen\", \"male\", null, 8, 2, \"CA. 2343\", 69.55, null, \"S\"], [848, 0, 3, \"Markoff, Mr. Marin\", \"male\", 35.0, 0, 0, \"349213\", 7.8958, null, \"C\"], [851, 0, 3, \"Andersson, Master. Sigvard Harald Elias\", \"male\", 4.0, 4, 2, \"347082\", 31.275, null, \"S\"], [852, 0, 3, \"Svensson, Mr. Johan\", \"male\", 74.0, 0, 0, \"347060\", 7.775, null, \"S\"], [853, 0, 3, \"Boulos, Miss. Nourelain\", \"female\", 9.0, 1, 1, \"2678\", 15.2458, null, \"C\"], [856, 1, 3, \"Aks, Mrs. Sam (Leah Rosen)\", \"female\", 18.0, 0, 1, \"392091\", 9.35, null, \"S\"], [859, 1, 3, \"Baclini, Mrs. Solomon (Latifa Qurban)\", \"female\", 24.0, 0, 3, \"2666\", 19.2583, null, \"C\"], [860, 0, 3, \"Razi, Mr. Raihed\", \"male\", null, 0, 0, \"2629\", 7.2292, null, \"C\"], [861, 0, 3, \"Hansen, Mr. Claus Peter\", \"male\", 41.0, 2, 0, \"350026\", 14.1083, null, \"S\"], [864, 0, 3, \"Sage, Miss. Dorothy Edith \\\"Dolly\\\"\", \"female\", null, 8, 2, \"CA. 2343\", 69.55, null, \"S\"], [869, 0, 3, \"van Melkebeke, Mr. Philemon\", \"male\", null, 0, 0, \"345777\", 9.5, null, \"S\"], [870, 1, 3, \"Johnson, Master. Harold Theodor\", \"male\", 4.0, 1, 1, \"347742\", 11.1333, null, \"S\"], [871, 0, 3, \"Balkic, Mr. Cerin\", \"male\", 26.0, 0, 0, \"349248\", 7.8958, null, \"S\"], [874, 0, 3, \"Vander Cruyssen, Mr. Victor\", \"male\", 47.0, 0, 0, \"345765\", 9.0, null, \"S\"], [876, 1, 3, \"Najib, Miss. Adele Kiamie \\\"Jane\\\"\", \"female\", 15.0, 0, 0, \"2667\", 7.225, null, \"C\"], [877, 0, 3, \"Gustafsson, Mr. Alfred Ossian\", \"male\", 20.0, 0, 0, \"7534\", 9.8458, null, \"S\"], [878, 0, 3, \"Petroff, Mr. Nedelio\", \"male\", 19.0, 0, 0, \"349212\", 7.8958, null, \"S\"], [879, 0, 3, \"Laleff, Mr. Kristo\", \"male\", null, 0, 0, \"349217\", 7.8958, null, \"S\"], [882, 0, 3, \"Markun, Mr. Johann\", \"male\", 33.0, 0, 0, \"349257\", 7.8958, null, \"S\"], [883, 0, 3, \"Dahlberg, Miss. Gerda Ulrika\", \"female\", 22.0, 0, 0, \"7552\", 10.5167, null, \"S\"], [885, 0, 3, \"Sutehall, Mr. Henry Jr\", \"male\", 25.0, 0, 0, \"SOTON/OQ 392076\", 7.05, null, \"S\"], [886, 0, 3, \"Rice, Mrs. William (Margaret Norton)\", \"female\", 39.0, 0, 5, \"382652\", 29.125, null, \"Q\"], [889, 0, 3, \"Johnston, Miss. Catherine Helen \\\"Carrie\\\"\", \"female\", null, 1, 2, \"W./C. 6607\", 23.45, null, \"S\"], [891, 0, 3, \"Dooley, Mr. Patrick\", \"male\", 32.0, 0, 0, \"370376\", 7.75, null, \"Q\"]], \"hovertemplate\": \"Pclass=%{customdata[2]}<br>Age=%{customdata[5]}<br>PassengerId=%{customdata[0]}<br>Survived=%{customdata[1]}<br>Name=%{customdata[3]}<br>Sex=%{customdata[4]}<br>SibSp=%{customdata[6]}<br>Parch=%{customdata[7]}<br>Ticket=%{customdata[8]}<br>Fare=%{customdata[9]}<br>Cabin=%{customdata[10]}<br>Embarked=%{customdata[11]}<extra></extra>\", \"legendgroup\": \"3\", \"marker\": {\"color\": \"#636efa\"}, \"name\": \"3\", \"offsetgroup\": \"3\", \"orientation\": \"v\", \"scalegroup\": \"True\", \"showlegend\": true, \"type\": \"violin\", \"x\": [3, 3, 3, 3, 3, 3, 3, 3, 3, 3, 3, 3, 3, 3, 3, 3, 3, 3, 3, 3, 3, 3, 3, 3, 3, 3, 3, 3, 3, 3, 3, 3, 3, 3, 3, 3, 3, 3, 3, 3, 3, 3, 3, 3, 3, 3, 3, 3, 3, 3, 3, 3, 3, 3, 3, 3, 3, 3, 3, 3, 3, 3, 3, 3, 3, 3, 3, 3, 3, 3, 3, 3, 3, 3, 3, 3, 3, 3, 3, 3, 3, 3, 3, 3, 3, 3, 3, 3, 3, 3, 3, 3, 3, 3, 3, 3, 3, 3, 3, 3, 3, 3, 3, 3, 3, 3, 3, 3, 3, 3, 3, 3, 3, 3, 3, 3, 3, 3, 3, 3, 3, 3, 3, 3, 3, 3, 3, 3, 3, 3, 3, 3, 3, 3, 3, 3, 3, 3, 3, 3, 3, 3, 3, 3, 3, 3, 3, 3, 3, 3, 3, 3, 3, 3, 3, 3, 3, 3, 3, 3, 3, 3, 3, 3, 3, 3, 3, 3, 3, 3, 3, 3, 3, 3, 3, 3, 3, 3, 3, 3, 3, 3, 3, 3, 3, 3, 3, 3, 3, 3, 3, 3, 3, 3, 3, 3, 3, 3, 3, 3, 3, 3, 3, 3, 3, 3, 3, 3, 3, 3, 3, 3, 3, 3, 3, 3, 3, 3, 3, 3, 3, 3, 3, 3, 3, 3, 3, 3, 3, 3, 3, 3, 3, 3, 3, 3, 3, 3, 3, 3, 3, 3, 3, 3, 3, 3, 3, 3, 3, 3, 3, 3, 3, 3, 3, 3, 3, 3, 3, 3, 3, 3, 3, 3, 3, 3, 3, 3, 3, 3, 3, 3, 3, 3, 3, 3, 3, 3, 3, 3, 3, 3, 3, 3, 3, 3, 3, 3, 3, 3, 3, 3, 3, 3, 3, 3, 3, 3, 3, 3, 3, 3, 3, 3, 3, 3, 3, 3, 3, 3, 3, 3, 3, 3, 3, 3, 3, 3, 3, 3, 3, 3, 3, 3, 3, 3, 3, 3, 3, 3, 3, 3, 3, 3, 3, 3, 3, 3, 3, 3, 3, 3, 3, 3, 3, 3, 3, 3, 3, 3, 3, 3, 3, 3, 3, 3, 3, 3, 3, 3, 3, 3, 3, 3, 3, 3, 3, 3, 3, 3, 3, 3, 3, 3, 3, 3, 3, 3, 3, 3, 3, 3, 3, 3, 3, 3, 3, 3, 3, 3, 3, 3, 3, 3, 3, 3, 3, 3, 3, 3, 3, 3, 3, 3, 3, 3, 3, 3, 3, 3, 3, 3, 3, 3, 3, 3, 3, 3, 3, 3, 3, 3, 3, 3, 3, 3, 3, 3, 3, 3, 3, 3, 3, 3, 3, 3, 3, 3, 3, 3, 3, 3, 3, 3, 3, 3, 3, 3, 3, 3, 3, 3, 3, 3, 3, 3, 3, 3, 3, 3, 3, 3, 3, 3, 3, 3, 3, 3, 3, 3, 3, 3, 3, 3, 3, 3, 3, 3, 3, 3, 3, 3, 3, 3, 3, 3, 3, 3, 3, 3, 3], \"x0\": \" \", \"xaxis\": \"x\", \"y\": [22.0, 26.0, 35.0, null, 2.0, 27.0, 4.0, 20.0, 39.0, 14.0, 2.0, 31.0, null, 15.0, 8.0, 38.0, null, null, null, null, null, 21.0, 18.0, 14.0, 40.0, null, 19.0, null, null, null, null, 18.0, 7.0, 21.0, 28.5, 11.0, 22.0, 4.0, null, 19.0, 17.0, 26.0, 16.0, 26.0, 32.0, 25.0, null, null, 30.0, 22.0, 29.0, null, 33.0, 16.0, null, 24.0, 29.0, 20.0, 26.0, 59.0, null, 28.0, null, 33.0, 37.0, 28.0, 21.0, null, 38.0, null, 14.5, 22.0, 20.0, 17.0, 21.0, 70.5, 2.0, null, 12.0, null, 24.0, null, 45.0, 33.0, 20.0, 47.0, 16.0, null, 22.0, 24.0, 19.0, 27.0, 9.0, 55.5, 40.5, null, 16.0, 30.0, null, null, 44.0, 26.0, 17.0, 1.0, 9.0, 45.0, 28.0, 4.0, 1.0, 21.0, 18.0, null, 36.0, null, 9.0, 4.0, null, 40.0, 36.0, 19.0, null, 42.0, null, 28.0, null, 34.0, 45.5, 18.0, 2.0, 32.0, 26.0, 16.0, 24.0, 22.0, null, 27.0, 16.0, 51.0, null, 22.0, 20.5, null, 29.0, 5.0, null, null, null, 22.0, 30.0, 25.0, null, 29.0, 30.0, 41.0, 29.0, null, 3.0, null, 16.0, 25.0, 25.0, null, 45.0, 7.0, 35.0, 65.0, 28.0, 16.0, 19.0, 33.0, 30.0, 22.0, 22.0, 24.0, 24.0, 23.5, null, null, 19.0, null, 28.0, 26.0, 22.0, 27.0, null, 61.0, 31.0, null, 16.0, null, 45.0, null, 3.0, 42.0, 23.0, 15.0, 25.0, null, 28.0, null, null, 40.0, 45.0, 35.0, null, 30.0, null, null, 18.0, 19.0, 3.0, 22.0, 20.0, 19.0, 1.0, 32.0, null, 1.0, null, 21.0, 28.0, 24.0, 22.0, 31.0, 39.0, 26.0, 21.0, 28.0, 20.0, 51.0, 21.0, null, null, null, 44.0, null, 10.0, null, 21.0, 29.0, 28.0, 18.0, null, null, 32.0, null, 17.0, 21.0, 20.0, 25.0, null, 5.0, null, null, 29.0, null, 34.0, null, 38.0, null, 0.75, null, 38.0, 22.0, 29.0, 22.0, 2.0, 9.0, 50.0, 63.0, null, 30.0, 9.0, null, 21.0, 21.0, null, null, 24.0, 17.0, 21.0, null, 37.0, 28.0, 26.0, 29.0, null, 24.0, null, 32.0, 22.0, null, null, 40.5, 39.0, null, 17.0, null, 30.0, null, 9.0, 11.0, 33.0, null, 22.0, 22.0, 36.0, null, 40.0, null, null, 24.0, 19.0, 29.0, null, 32.0, null, 16.0, 19.0, null, 32.0, null, 22.0, null, 35.0, 47.0, null, 36.0, 49.0, null, null, 44.0, 36.0, 30.0, 39.0, null, null, null, 35.0, 34.0, 26.0, 27.0, 20.0, 21.0, 21.0, 26.0, null, 51.0, 9.0, 32.0, 41.0, null, 20.0, 2.0, null, 0.75, 19.0, null, 23.0, null, 21.0, null, 18.0, null, 32.0, 40.0, 36.0, 20.0, null, 43.0, 18.0, 24.5, 18.0, 43.0, null, 20.0, 14.0, 14.0, 19.0, 18.0, 4.0, null, 25.0, 44.0, null, 42.0, 18.0, 25.0, 26.0, null, 29.0, 19.0, null, 33.0, 17.0, 20.0, null, 25.0, 11.0, 28.5, 48.0, null, null, 24.0, 31.0, 16.0, 31.0, 6.0, 33.0, 23.0, 28.0, 34.0, null, 41.0, 20.0, 16.0, 30.5, null, 32.0, 24.0, 48.0, null, 18.0, null, 5.0, null, 13.0, null, 25.0, 25.0, 18.0, 8.0, 1.0, null, null, 25.0, 31.0, 30.0, 30.0, 0.42, 27.0, 31.0, 18.0, 26.0, 39.0, 6.0, 30.5, 23.0, 43.0, 10.0, 27.0, 27.0, 2.0, null, null, null, 15.0, null, 23.0, 18.0, 21.0, null, 32.0, 20.0, 34.5, 17.0, 42.0, null, 35.0, 4.0, 74.0, 9.0, 18.0, 24.0, null, 41.0, null, null, 4.0, 26.0, 47.0, 15.0, 20.0, 19.0, null, 33.0, 22.0, 25.0, 39.0, null, 32.0], \"y0\": \" \", \"yaxis\": \"y\"}, {\"alignmentgroup\": \"True\", \"box\": {\"visible\": true}, \"customdata\": [[2, 1, 1, \"Cumings, Mrs. John Bradley (Florence Briggs Thayer)\", \"female\", 38.0, 1, 0, \"PC 17599\", 71.2833, \"C85\", \"C\"], [4, 1, 1, \"Futrelle, Mrs. Jacques Heath (Lily May Peel)\", \"female\", 35.0, 1, 0, \"113803\", 53.1, \"C123\", \"S\"], [7, 0, 1, \"McCarthy, Mr. Timothy J\", \"male\", 54.0, 0, 0, \"17463\", 51.8625, \"E46\", \"S\"], [12, 1, 1, \"Bonnell, Miss. Elizabeth\", \"female\", 58.0, 0, 0, \"113783\", 26.55, \"C103\", \"S\"], [24, 1, 1, \"Sloper, Mr. William Thompson\", \"male\", 28.0, 0, 0, \"113788\", 35.5, \"A6\", \"S\"], [28, 0, 1, \"Fortune, Mr. Charles Alexander\", \"male\", 19.0, 3, 2, \"19950\", 263.0, \"C23 C25 C27\", \"S\"], [31, 0, 1, \"Uruchurtu, Don. Manuel E\", \"male\", 40.0, 0, 0, \"PC 17601\", 27.7208, null, \"C\"], [32, 1, 1, \"Spencer, Mrs. William Augustus (Marie Eugenie)\", \"female\", null, 1, 0, \"PC 17569\", 146.5208, \"B78\", \"C\"], [35, 0, 1, \"Meyer, Mr. Edgar Joseph\", \"male\", 28.0, 1, 0, \"PC 17604\", 82.1708, null, \"C\"], [36, 0, 1, \"Holverson, Mr. Alexander Oskar\", \"male\", 42.0, 1, 0, \"113789\", 52.0, null, \"S\"], [53, 1, 1, \"Harper, Mrs. Henry Sleeper (Myna Haxtun)\", \"female\", 49.0, 1, 0, \"PC 17572\", 76.7292, \"D33\", \"C\"], [55, 0, 1, \"Ostby, Mr. Engelhart Cornelius\", \"male\", 65.0, 0, 1, \"113509\", 61.9792, \"B30\", \"C\"], [56, 1, 1, \"Woolner, Mr. Hugh\", \"male\", null, 0, 0, \"19947\", 35.5, \"C52\", \"S\"], [62, 1, 1, \"Icard, Miss. Amelie\", \"female\", 38.0, 0, 0, \"113572\", 80.0, \"B28\", null], [63, 0, 1, \"Harris, Mr. Henry Birkhardt\", \"male\", 45.0, 1, 0, \"36973\", 83.475, \"C83\", \"S\"], [65, 0, 1, \"Stewart, Mr. Albert A\", \"male\", null, 0, 0, \"PC 17605\", 27.7208, null, \"C\"], [84, 0, 1, \"Carrau, Mr. Francisco M\", \"male\", 28.0, 0, 0, \"113059\", 47.1, null, \"S\"], [89, 1, 1, \"Fortune, Miss. Mabel Helen\", \"female\", 23.0, 3, 2, \"19950\", 263.0, \"C23 C25 C27\", \"S\"], [93, 0, 1, \"Chaffee, Mr. Herbert Fuller\", \"male\", 46.0, 1, 0, \"W.E.P. 5734\", 61.175, \"E31\", \"S\"], [97, 0, 1, \"Goldschmidt, Mr. George B\", \"male\", 71.0, 0, 0, \"PC 17754\", 34.6542, \"A5\", \"C\"], [98, 1, 1, \"Greenfield, Mr. William Bertram\", \"male\", 23.0, 0, 1, \"PC 17759\", 63.3583, \"D10 D12\", \"C\"], [103, 0, 1, \"White, Mr. Richard Frasar\", \"male\", 21.0, 0, 1, \"35281\", 77.2875, \"D26\", \"S\"], [111, 0, 1, \"Porter, Mr. Walter Chamberlain\", \"male\", 47.0, 0, 0, \"110465\", 52.0, \"C110\", \"S\"], [119, 0, 1, \"Baxter, Mr. Quigg Edmond\", \"male\", 24.0, 0, 1, \"PC 17558\", 247.5208, \"B58 B60\", \"C\"], [125, 0, 1, \"White, Mr. Percival Wayland\", \"male\", 54.0, 0, 1, \"35281\", 77.2875, \"D26\", \"S\"], [137, 1, 1, \"Newsom, Miss. Helen Monypeny\", \"female\", 19.0, 0, 2, \"11752\", 26.2833, \"D47\", \"S\"], [138, 0, 1, \"Futrelle, Mr. Jacques Heath\", \"male\", 37.0, 1, 0, \"113803\", 53.1, \"C123\", \"S\"], [140, 0, 1, \"Giglio, Mr. Victor\", \"male\", 24.0, 0, 0, \"PC 17593\", 79.2, \"B86\", \"C\"], [152, 1, 1, \"Pears, Mrs. Thomas (Edith Wearne)\", \"female\", 22.0, 1, 0, \"113776\", 66.6, \"C2\", \"S\"], [156, 0, 1, \"Williams, Mr. Charles Duane\", \"male\", 51.0, 0, 1, \"PC 17597\", 61.3792, null, \"C\"], [167, 1, 1, \"Chibnall, Mrs. (Edith Martha Bowerman)\", \"female\", null, 0, 1, \"113505\", 55.0, \"E33\", \"S\"], [169, 0, 1, \"Baumann, Mr. John D\", \"male\", null, 0, 0, \"PC 17318\", 25.925, null, \"S\"], [171, 0, 1, \"Van der hoef, Mr. Wyckoff\", \"male\", 61.0, 0, 0, \"111240\", 33.5, \"B19\", \"S\"], [175, 0, 1, \"Smith, Mr. James Clinch\", \"male\", 56.0, 0, 0, \"17764\", 30.6958, \"A7\", \"C\"], [178, 0, 1, \"Isham, Miss. Ann Elizabeth\", \"female\", 50.0, 0, 0, \"PC 17595\", 28.7125, \"C49\", \"C\"], [186, 0, 1, \"Rood, Mr. Hugh Roscoe\", \"male\", null, 0, 0, \"113767\", 50.0, \"A32\", \"S\"], [188, 1, 1, \"Romaine, Mr. Charles Hallace (\\\"Mr C Rolmane\\\")\", \"male\", 45.0, 0, 0, \"111428\", 26.55, null, \"S\"], [195, 1, 1, \"Brown, Mrs. James Joseph (Margaret Tobin)\", \"female\", 44.0, 0, 0, \"PC 17610\", 27.7208, \"B4\", \"C\"], [196, 1, 1, \"Lurette, Miss. Elise\", \"female\", 58.0, 0, 0, \"PC 17569\", 146.5208, \"B80\", \"C\"], [210, 1, 1, \"Blank, Mr. Henry\", \"male\", 40.0, 0, 0, \"112277\", 31.0, \"A31\", \"C\"], [216, 1, 1, \"Newell, Miss. Madeleine\", \"female\", 31.0, 1, 0, \"35273\", 113.275, \"D36\", \"C\"], [219, 1, 1, \"Bazzani, Miss. Albina\", \"female\", 32.0, 0, 0, \"11813\", 76.2917, \"D15\", \"C\"], [225, 1, 1, \"Hoyt, Mr. Frederick Maxfield\", \"male\", 38.0, 1, 0, \"19943\", 90.0, \"C93\", \"S\"], [231, 1, 1, \"Harris, Mrs. Henry Birkhardt (Irene Wallach)\", \"female\", 35.0, 1, 0, \"36973\", 83.475, \"C83\", \"S\"], [246, 0, 1, \"Minahan, Dr. William Edward\", \"male\", 44.0, 2, 0, \"19928\", 90.0, \"C78\", \"Q\"], [249, 1, 1, \"Beckwith, Mr. Richard Leonard\", \"male\", 37.0, 1, 1, \"11751\", 52.5542, \"D35\", \"S\"], [253, 0, 1, \"Stead, Mr. William Thomas\", \"male\", 62.0, 0, 0, \"113514\", 26.55, \"C87\", \"S\"], [257, 1, 1, \"Thorne, Mrs. Gertrude Maybelle\", \"female\", null, 0, 0, \"PC 17585\", 79.2, null, \"C\"], [258, 1, 1, \"Cherry, Miss. Gladys\", \"female\", 30.0, 0, 0, \"110152\", 86.5, \"B77\", \"S\"], [259, 1, 1, \"Ward, Miss. Anna\", \"female\", 35.0, 0, 0, \"PC 17755\", 512.3292, null, \"C\"], [263, 0, 1, \"Taussig, Mr. Emil\", \"male\", 52.0, 1, 1, \"110413\", 79.65, \"E67\", \"S\"], [264, 0, 1, \"Harrison, Mr. William\", \"male\", 40.0, 0, 0, \"112059\", 0.0, \"B94\", \"S\"], [269, 1, 1, \"Graham, Mrs. William Thompson (Edith Junkins)\", \"female\", 58.0, 0, 1, \"PC 17582\", 153.4625, \"C125\", \"S\"], [270, 1, 1, \"Bissette, Miss. Amelia\", \"female\", 35.0, 0, 0, \"PC 17760\", 135.6333, \"C99\", \"S\"], [271, 0, 1, \"Cairns, Mr. Alexander\", \"male\", null, 0, 0, \"113798\", 31.0, null, \"S\"], [274, 0, 1, \"Natsch, Mr. Charles H\", \"male\", 37.0, 0, 1, \"PC 17596\", 29.7, \"C118\", \"C\"], [276, 1, 1, \"Andrews, Miss. Kornelia Theodosia\", \"female\", 63.0, 1, 0, \"13502\", 77.9583, \"D7\", \"S\"], [285, 0, 1, \"Smith, Mr. Richard William\", \"male\", null, 0, 0, \"113056\", 26.0, \"A19\", \"S\"], [291, 1, 1, \"Barber, Miss. Ellen \\\"Nellie\\\"\", \"female\", 26.0, 0, 0, \"19877\", 78.85, null, \"S\"], [292, 1, 1, \"Bishop, Mrs. Dickinson H (Helen Walton)\", \"female\", 19.0, 1, 0, \"11967\", 91.0792, \"B49\", \"C\"], [296, 0, 1, \"Lewy, Mr. Ervin G\", \"male\", null, 0, 0, \"PC 17612\", 27.7208, null, \"C\"], [298, 0, 1, \"Allison, Miss. Helen Loraine\", \"female\", 2.0, 1, 2, \"113781\", 151.55, \"C22 C26\", \"S\"], [299, 1, 1, \"Saalfeld, Mr. Adolphe\", \"male\", null, 0, 0, \"19988\", 30.5, \"C106\", \"S\"], [300, 1, 1, \"Baxter, Mrs. James (Helene DeLaudeniere Chaput)\", \"female\", 50.0, 0, 1, \"PC 17558\", 247.5208, \"B58 B60\", \"C\"], [306, 1, 1, \"Allison, Master. Hudson Trevor\", \"male\", 0.92, 1, 2, \"113781\", 151.55, \"C22 C26\", \"S\"], [307, 1, 1, \"Fleming, Miss. Margaret\", \"female\", null, 0, 0, \"17421\", 110.8833, null, \"C\"], [308, 1, 1, \"Penasco y Castellana, Mrs. Victor de Satode (Maria Josefa Perez de Soto y Vallejo)\", \"female\", 17.0, 1, 0, \"PC 17758\", 108.9, \"C65\", \"C\"], [310, 1, 1, \"Francatelli, Miss. Laura Mabel\", \"female\", 30.0, 0, 0, \"PC 17485\", 56.9292, \"E36\", \"C\"], [311, 1, 1, \"Hays, Miss. Margaret Bechstein\", \"female\", 24.0, 0, 0, \"11767\", 83.1583, \"C54\", \"C\"], [312, 1, 1, \"Ryerson, Miss. Emily Borie\", \"female\", 18.0, 2, 2, \"PC 17608\", 262.375, \"B57 B59 B63 B66\", \"C\"], [319, 1, 1, \"Wick, Miss. Mary Natalie\", \"female\", 31.0, 0, 2, \"36928\", 164.8667, \"C7\", \"S\"], [320, 1, 1, \"Spedden, Mrs. Frederic Oakley (Margaretta Corning Stone)\", \"female\", 40.0, 1, 1, \"16966\", 134.5, \"E34\", \"C\"], [326, 1, 1, \"Young, Miss. Marie Grice\", \"female\", 36.0, 0, 0, \"PC 17760\", 135.6333, \"C32\", \"C\"], [330, 1, 1, \"Hippach, Miss. Jean Gertrude\", \"female\", 16.0, 0, 1, \"111361\", 57.9792, \"B18\", \"C\"], [332, 0, 1, \"Partner, Mr. Austen\", \"male\", 45.5, 0, 0, \"113043\", 28.5, \"C124\", \"S\"], [333, 0, 1, \"Graham, Mr. George Edward\", \"male\", 38.0, 0, 1, \"PC 17582\", 153.4625, \"C91\", \"S\"], [335, 1, 1, \"Frauenthal, Mrs. Henry William (Clara Heinsheimer)\", \"female\", null, 1, 0, \"PC 17611\", 133.65, null, \"S\"], [337, 0, 1, \"Pears, Mr. Thomas Clinton\", \"male\", 29.0, 1, 0, \"113776\", 66.6, \"C2\", \"S\"], [338, 1, 1, \"Burns, Miss. Elizabeth Margaret\", \"female\", 41.0, 0, 0, \"16966\", 134.5, \"E40\", \"C\"], [340, 0, 1, \"Blackwell, Mr. Stephen Weart\", \"male\", 45.0, 0, 0, \"113784\", 35.5, \"T\", \"S\"], [342, 1, 1, \"Fortune, Miss. Alice Elizabeth\", \"female\", 24.0, 3, 2, \"19950\", 263.0, \"C23 C25 C27\", \"S\"], [352, 0, 1, \"Williams-Lambert, Mr. Fletcher Fellows\", \"male\", null, 0, 0, \"113510\", 35.0, \"C128\", \"S\"], [357, 1, 1, \"Bowerman, Miss. Elsie Edith\", \"female\", 22.0, 0, 1, \"113505\", 55.0, \"E33\", \"S\"], [367, 1, 1, \"Warren, Mrs. Frank Manley (Anna Sophia Atkinson)\", \"female\", 60.0, 1, 0, \"110813\", 75.25, \"D37\", \"C\"], [370, 1, 1, \"Aubart, Mme. Leontine Pauline\", \"female\", 24.0, 0, 0, \"PC 17477\", 69.3, \"B35\", \"C\"], [371, 1, 1, \"Harder, Mr. George Achilles\", \"male\", 25.0, 1, 0, \"11765\", 55.4417, \"E50\", \"C\"], [374, 0, 1, \"Ringhini, Mr. Sante\", \"male\", 22.0, 0, 0, \"PC 17760\", 135.6333, null, \"C\"], [376, 1, 1, \"Meyer, Mrs. Edgar Joseph (Leila Saks)\", \"female\", null, 1, 0, \"PC 17604\", 82.1708, null, \"C\"], [378, 0, 1, \"Widener, Mr. Harry Elkins\", \"male\", 27.0, 0, 2, \"113503\", 211.5, \"C82\", \"C\"], [381, 1, 1, \"Bidois, Miss. Rosalie\", \"female\", 42.0, 0, 0, \"PC 17757\", 227.525, null, \"C\"], [384, 1, 1, \"Holverson, Mrs. Alexander Oskar (Mary Aline Towner)\", \"female\", 35.0, 1, 0, \"113789\", 52.0, null, \"S\"], [391, 1, 1, \"Carter, Mr. William Ernest\", \"male\", 36.0, 1, 2, \"113760\", 120.0, \"B96 B98\", \"S\"], [394, 1, 1, \"Newell, Miss. Marjorie\", \"female\", 23.0, 1, 0, \"35273\", 113.275, \"D36\", \"C\"], [413, 1, 1, \"Minahan, Miss. Daisy E\", \"female\", 33.0, 1, 0, \"19928\", 90.0, \"C78\", \"Q\"], [431, 1, 1, \"Bjornstrom-Steffansson, Mr. Mauritz Hakan\", \"male\", 28.0, 0, 0, \"110564\", 26.55, \"C52\", \"S\"], [435, 0, 1, \"Silvey, Mr. William Baird\", \"male\", 50.0, 1, 0, \"13507\", 55.9, \"E44\", \"S\"], [436, 1, 1, \"Carter, Miss. Lucile Polk\", \"female\", 14.0, 1, 2, \"113760\", 120.0, \"B96 B98\", \"S\"], [439, 0, 1, \"Fortune, Mr. Mark\", \"male\", 64.0, 1, 4, \"19950\", 263.0, \"C23 C25 C27\", \"S\"], [446, 1, 1, \"Dodge, Master. Washington\", \"male\", 4.0, 0, 2, \"33638\", 81.8583, \"A34\", \"S\"], [448, 1, 1, \"Seward, Mr. Frederic Kimber\", \"male\", 34.0, 0, 0, \"113794\", 26.55, null, \"S\"], [450, 1, 1, \"Peuchen, Major. Arthur Godfrey\", \"male\", 52.0, 0, 0, \"113786\", 30.5, \"C104\", \"S\"], [453, 0, 1, \"Foreman, Mr. Benjamin Laventall\", \"male\", 30.0, 0, 0, \"113051\", 27.75, \"C111\", \"C\"], [454, 1, 1, \"Goldenberg, Mr. Samuel L\", \"male\", 49.0, 1, 0, \"17453\", 89.1042, \"C92\", \"C\"], [457, 0, 1, \"Millet, Mr. Francis Davis\", \"male\", 65.0, 0, 0, \"13509\", 26.55, \"E38\", \"S\"], [458, 1, 1, \"Kenyon, Mrs. Frederick R (Marion)\", \"female\", null, 1, 0, \"17464\", 51.8625, \"D21\", \"S\"], [461, 1, 1, \"Anderson, Mr. Harry\", \"male\", 48.0, 0, 0, \"19952\", 26.55, \"E12\", \"S\"], [463, 0, 1, \"Gee, Mr. Arthur H\", \"male\", 47.0, 0, 0, \"111320\", 38.5, \"E63\", \"S\"], [468, 0, 1, \"Smart, Mr. John Montgomery\", \"male\", 56.0, 0, 0, \"113792\", 26.55, null, \"S\"], [476, 0, 1, \"Clifford, Mr. George Quincy\", \"male\", null, 0, 0, \"110465\", 52.0, \"A14\", \"S\"], [485, 1, 1, \"Bishop, Mr. Dickinson H\", \"male\", 25.0, 1, 0, \"11967\", 91.0792, \"B49\", \"C\"], [487, 1, 1, \"Hoyt, Mrs. Frederick Maxfield (Jane Anne Forby)\", \"female\", 35.0, 1, 0, \"19943\", 90.0, \"C93\", \"S\"], [488, 0, 1, \"Kent, Mr. Edward Austin\", \"male\", 58.0, 0, 0, \"11771\", 29.7, \"B37\", \"C\"], [493, 0, 1, \"Molson, Mr. Harry Markland\", \"male\", 55.0, 0, 0, \"113787\", 30.5, \"C30\", \"S\"], [494, 0, 1, \"Artagaveytia, Mr. Ramon\", \"male\", 71.0, 0, 0, \"PC 17609\", 49.5042, null, \"C\"], [497, 1, 1, \"Eustis, Miss. Elizabeth Mussey\", \"female\", 54.0, 1, 0, \"36947\", 78.2667, \"D20\", \"C\"], [499, 0, 1, \"Allison, Mrs. Hudson J C (Bessie Waldo Daniels)\", \"female\", 25.0, 1, 2, \"113781\", 151.55, \"C22 C26\", \"S\"], [505, 1, 1, \"Maioni, Miss. Roberta\", \"female\", 16.0, 0, 0, \"110152\", 86.5, \"B79\", \"S\"], [506, 0, 1, \"Penasco y Castellana, Mr. Victor de Satode\", \"male\", 18.0, 1, 0, \"PC 17758\", 108.9, \"C65\", \"C\"], [508, 1, 1, \"Bradley, Mr. George (\\\"George Arthur Brayton\\\")\", \"male\", null, 0, 0, \"111427\", 26.55, null, \"S\"], [513, 1, 1, \"McGough, Mr. James Robert\", \"male\", 36.0, 0, 0, \"PC 17473\", 26.2875, \"E25\", \"S\"], [514, 1, 1, \"Rothschild, Mrs. Martin (Elizabeth L. Barrett)\", \"female\", 54.0, 1, 0, \"PC 17603\", 59.4, null, \"C\"], [516, 0, 1, \"Walker, Mr. William Anderson\", \"male\", 47.0, 0, 0, \"36967\", 34.0208, \"D46\", \"S\"], [521, 1, 1, \"Perreault, Miss. Anne\", \"female\", 30.0, 0, 0, \"12749\", 93.5, \"B73\", \"S\"], [524, 1, 1, \"Hippach, Mrs. Louis Albert (Ida Sophia Fischer)\", \"female\", 44.0, 0, 1, \"111361\", 57.9792, \"B18\", \"C\"], [528, 0, 1, \"Farthing, Mr. John\", \"male\", null, 0, 0, \"PC 17483\", 221.7792, \"C95\", \"S\"], [537, 0, 1, \"Butt, Major. Archibald Willingham\", \"male\", 45.0, 0, 0, \"113050\", 26.55, \"B38\", \"S\"], [538, 1, 1, \"LeRoy, Miss. Bertha\", \"female\", 30.0, 0, 0, \"PC 17761\", 106.425, null, \"C\"], [540, 1, 1, \"Frolicher, Miss. Hedwig Margaritha\", \"female\", 22.0, 0, 2, \"13568\", 49.5, \"B39\", \"C\"], [541, 1, 1, \"Crosby, Miss. Harriet R\", \"female\", 36.0, 0, 2, \"WE/P 5735\", 71.0, \"B22\", \"S\"], [545, 0, 1, \"Douglas, Mr. Walter Donald\", \"male\", 50.0, 1, 0, \"PC 17761\", 106.425, \"C86\", \"C\"], [546, 0, 1, \"Nicholson, Mr. Arthur Ernest\", \"male\", 64.0, 0, 0, \"693\", 26.0, null, \"S\"], [551, 1, 1, \"Thayer, Mr. John Borland Jr\", \"male\", 17.0, 0, 2, \"17421\", 110.8833, \"C70\", \"C\"], [556, 0, 1, \"Wright, Mr. George\", \"male\", 62.0, 0, 0, \"113807\", 26.55, null, \"S\"], [557, 1, 1, \"Duff Gordon, Lady. (Lucille Christiana Sutherland) (\\\"Mrs Morgan\\\")\", \"female\", 48.0, 1, 0, \"11755\", 39.6, \"A16\", \"C\"], [558, 0, 1, \"Robbins, Mr. Victor\", \"male\", null, 0, 0, \"PC 17757\", 227.525, null, \"C\"], [559, 1, 1, \"Taussig, Mrs. Emil (Tillie Mandelbaum)\", \"female\", 39.0, 1, 1, \"110413\", 79.65, \"E67\", \"S\"], [572, 1, 1, \"Appleton, Mrs. Edward Dale (Charlotte Lamson)\", \"female\", 53.0, 2, 0, \"11769\", 51.4792, \"C101\", \"S\"], [573, 1, 1, \"Flynn, Mr. John Irwin (\\\"Irving\\\")\", \"male\", 36.0, 0, 0, \"PC 17474\", 26.3875, \"E25\", \"S\"], [578, 1, 1, \"Silvey, Mrs. William Baird (Alice Munger)\", \"female\", 39.0, 1, 0, \"13507\", 55.9, \"E44\", \"S\"], [582, 1, 1, \"Thayer, Mrs. John Borland (Marian Longstreth Morris)\", \"female\", 39.0, 1, 1, \"17421\", 110.8833, \"C68\", \"C\"], [584, 0, 1, \"Ross, Mr. John Hugo\", \"male\", 36.0, 0, 0, \"13049\", 40.125, \"A10\", \"C\"], [586, 1, 1, \"Taussig, Miss. Ruth\", \"female\", 18.0, 0, 2, \"110413\", 79.65, \"E68\", \"S\"], [588, 1, 1, \"Frolicher-Stehli, Mr. Maxmillian\", \"male\", 60.0, 1, 1, \"13567\", 79.2, \"B41\", \"C\"], [592, 1, 1, \"Stephenson, Mrs. Walter Bertram (Martha Eustis)\", \"female\", 52.0, 1, 0, \"36947\", 78.2667, \"D20\", \"C\"], [600, 1, 1, \"Duff Gordon, Sir. Cosmo Edmund (\\\"Mr Morgan\\\")\", \"male\", 49.0, 1, 0, \"PC 17485\", 56.9292, \"A20\", \"C\"], [603, 0, 1, \"Harrington, Mr. Charles H\", \"male\", null, 0, 0, \"113796\", 42.4, null, \"S\"], [605, 1, 1, \"Homer, Mr. Harry (\\\"Mr E Haven\\\")\", \"male\", 35.0, 0, 0, \"111426\", 26.55, null, \"C\"], [608, 1, 1, \"Daniel, Mr. Robert Williams\", \"male\", 27.0, 0, 0, \"113804\", 30.5, null, \"S\"], [610, 1, 1, \"Shutes, Miss. Elizabeth W\", \"female\", 40.0, 0, 0, \"PC 17582\", 153.4625, \"C125\", \"S\"], [622, 1, 1, \"Kimball, Mr. Edwin Nelson Jr\", \"male\", 42.0, 1, 0, \"11753\", 52.5542, \"D19\", \"S\"], [626, 0, 1, \"Sutton, Mr. Frederick\", \"male\", 61.0, 0, 0, \"36963\", 32.3208, \"D50\", \"S\"], [628, 1, 1, \"Longley, Miss. Gretchen Fiske\", \"female\", 21.0, 0, 0, \"13502\", 77.9583, \"D9\", \"S\"], [631, 1, 1, \"Barkworth, Mr. Algernon Henry Wilson\", \"male\", 80.0, 0, 0, \"27042\", 30.0, \"A23\", \"S\"], [633, 1, 1, \"Stahelin-Maeglin, Dr. Max\", \"male\", 32.0, 0, 0, \"13214\", 30.5, \"B50\", \"C\"], [634, 0, 1, \"Parr, Mr. William Henry Marsh\", \"male\", null, 0, 0, \"112052\", 0.0, null, \"S\"], [642, 1, 1, \"Sagesser, Mlle. Emma\", \"female\", 24.0, 0, 0, \"PC 17477\", 69.3, \"B35\", \"C\"], [646, 1, 1, \"Harper, Mr. Henry Sleeper\", \"male\", 48.0, 1, 0, \"PC 17572\", 76.7292, \"D33\", \"C\"], [648, 1, 1, \"Simonius-Blumer, Col. Oberst Alfons\", \"male\", 56.0, 0, 0, \"13213\", 35.5, \"A26\", \"C\"], [660, 0, 1, \"Newell, Mr. Arthur Webster\", \"male\", 58.0, 0, 2, \"35273\", 113.275, \"D48\", \"C\"], [661, 1, 1, \"Frauenthal, Dr. Henry William\", \"male\", 50.0, 2, 0, \"PC 17611\", 133.65, null, \"S\"], [663, 0, 1, \"Colley, Mr. Edward Pomeroy\", \"male\", 47.0, 0, 0, \"5727\", 25.5875, \"E58\", \"S\"], [670, 1, 1, \"Taylor, Mrs. Elmer Zebley (Juliet Cummins Wright)\", \"female\", null, 1, 0, \"19996\", 52.0, \"C126\", \"S\"], [672, 0, 1, \"Davidson, Mr. Thornton\", \"male\", 31.0, 1, 0, \"F.C. 12750\", 52.0, \"B71\", \"S\"], [680, 1, 1, \"Cardeza, Mr. Thomas Drake Martinez\", \"male\", 36.0, 0, 1, \"PC 17755\", 512.3292, \"B51 B53 B55\", \"C\"], [682, 1, 1, \"Hassab, Mr. Hammad\", \"male\", 27.0, 0, 0, \"PC 17572\", 76.7292, \"D49\", \"C\"], [690, 1, 1, \"Madill, Miss. Georgette Alexandra\", \"female\", 15.0, 0, 1, \"24160\", 211.3375, \"B5\", \"S\"], [691, 1, 1, \"Dick, Mr. Albert Adrian\", \"male\", 31.0, 1, 0, \"17474\", 57.0, \"B20\", \"S\"], [695, 0, 1, \"Weir, Col. John\", \"male\", 60.0, 0, 0, \"113800\", 26.55, null, \"S\"], [699, 0, 1, \"Thayer, Mr. John Borland\", \"male\", 49.0, 1, 1, \"17421\", 110.8833, \"C68\", \"C\"], [701, 1, 1, \"Astor, Mrs. John Jacob (Madeleine Talmadge Force)\", \"female\", 18.0, 1, 0, \"PC 17757\", 227.525, \"C62 C64\", \"C\"], [702, 1, 1, \"Silverthorne, Mr. Spencer Victor\", \"male\", 35.0, 0, 0, \"PC 17475\", 26.2875, \"E24\", \"S\"], [708, 1, 1, \"Calderhead, Mr. Edward Pennington\", \"male\", 42.0, 0, 0, \"PC 17476\", 26.2875, \"E24\", \"S\"], [709, 1, 1, \"Cleaver, Miss. Alice\", \"female\", 22.0, 0, 0, \"113781\", 151.55, null, \"S\"], [711, 1, 1, \"Mayne, Mlle. Berthe Antonine (\\\"Mrs de Villiers\\\")\", \"female\", 24.0, 0, 0, \"PC 17482\", 49.5042, \"C90\", \"C\"], [712, 0, 1, \"Klaber, Mr. Herman\", \"male\", null, 0, 0, \"113028\", 26.55, \"C124\", \"S\"], [713, 1, 1, \"Taylor, Mr. Elmer Zebley\", \"male\", 48.0, 1, 0, \"19996\", 52.0, \"C126\", \"S\"], [717, 1, 1, \"Endres, Miss. Caroline Louise\", \"female\", 38.0, 0, 0, \"PC 17757\", 227.525, \"C45\", \"C\"], [725, 1, 1, \"Chambers, Mr. Norman Campbell\", \"male\", 27.0, 1, 0, \"113806\", 53.1, \"E8\", \"S\"], [731, 1, 1, \"Allen, Miss. Elisabeth Walton\", \"female\", 29.0, 0, 0, \"24160\", 211.3375, \"B5\", \"S\"], [738, 1, 1, \"Lesurer, Mr. Gustave J\", \"male\", 35.0, 0, 0, \"PC 17755\", 512.3292, \"B101\", \"C\"], [741, 1, 1, \"Hawksford, Mr. Walter James\", \"male\", null, 0, 0, \"16988\", 30.0, \"D45\", \"S\"], [742, 0, 1, \"Cavendish, Mr. Tyrell William\", \"male\", 36.0, 1, 0, \"19877\", 78.85, \"C46\", \"S\"], [743, 1, 1, \"Ryerson, Miss. Susan Parker \\\"Suzette\\\"\", \"female\", 21.0, 2, 2, \"PC 17608\", 262.375, \"B57 B59 B63 B66\", \"C\"], [746, 0, 1, \"Crosby, Capt. Edward Gifford\", \"male\", 70.0, 1, 1, \"WE/P 5735\", 71.0, \"B22\", \"S\"], [749, 0, 1, \"Marvin, Mr. Daniel Warner\", \"male\", 19.0, 1, 0, \"113773\", 53.1, \"D30\", \"S\"], [760, 1, 1, \"Rothes, the Countess. of (Lucy Noel Martha Dyer-Edwards)\", \"female\", 33.0, 0, 0, \"110152\", 86.5, \"B77\", \"S\"], [764, 1, 1, \"Carter, Mrs. William Ernest (Lucile Polk)\", \"female\", 36.0, 1, 2, \"113760\", 120.0, \"B96 B98\", \"S\"], [766, 1, 1, \"Hogeboom, Mrs. John C (Anna Andrews)\", \"female\", 51.0, 1, 0, \"13502\", 77.9583, \"D11\", \"S\"], [767, 0, 1, \"Brewe, Dr. Arthur Jackson\", \"male\", null, 0, 0, \"112379\", 39.6, null, \"C\"], [780, 1, 1, \"Robert, Mrs. Edward Scott (Elisabeth Walton McMillan)\", \"female\", 43.0, 0, 1, \"24160\", 211.3375, \"B3\", \"S\"], [782, 1, 1, \"Dick, Mrs. Albert Adrian (Vera Gillespie)\", \"female\", 17.0, 1, 0, \"17474\", 57.0, \"B20\", \"S\"], [783, 0, 1, \"Long, Mr. Milton Clyde\", \"male\", 29.0, 0, 0, \"113501\", 30.0, \"D6\", \"S\"], [790, 0, 1, \"Guggenheim, Mr. Benjamin\", \"male\", 46.0, 0, 0, \"PC 17593\", 79.2, \"B82 B84\", \"C\"], [794, 0, 1, \"Hoyt, Mr. William Fisher\", \"male\", null, 0, 0, \"PC 17600\", 30.6958, null, \"C\"], [797, 1, 1, \"Leader, Dr. Alice (Farnham)\", \"female\", 49.0, 0, 0, \"17465\", 25.9292, \"D17\", \"S\"], [803, 1, 1, \"Carter, Master. William Thornton II\", \"male\", 11.0, 1, 2, \"113760\", 120.0, \"B96 B98\", \"S\"], [807, 0, 1, \"Andrews, Mr. Thomas Jr\", \"male\", 39.0, 0, 0, \"112050\", 0.0, \"A36\", \"S\"], [810, 1, 1, \"Chambers, Mrs. Norman Campbell (Bertha Griggs)\", \"female\", 33.0, 1, 0, \"113806\", 53.1, \"E8\", \"S\"], [816, 0, 1, \"Fry, Mr. Richard\", \"male\", null, 0, 0, \"112058\", 0.0, \"B102\", \"S\"], [821, 1, 1, \"Hays, Mrs. Charles Melville (Clara Jennings Gregg)\", \"female\", 52.0, 1, 1, \"12749\", 93.5, \"B69\", \"S\"], [823, 0, 1, \"Reuchlin, Jonkheer. John George\", \"male\", 38.0, 0, 0, \"19972\", 0.0, null, \"S\"], [830, 1, 1, \"Stone, Mrs. George Nelson (Martha Evelyn)\", \"female\", 62.0, 0, 0, \"113572\", 80.0, \"B28\", null], [836, 1, 1, \"Compton, Miss. Sara Rebecca\", \"female\", 39.0, 1, 1, \"PC 17756\", 83.1583, \"E49\", \"C\"], [840, 1, 1, \"Marechal, Mr. Pierre\", \"male\", null, 0, 0, \"11774\", 29.7, \"C47\", \"C\"], [843, 1, 1, \"Serepeca, Miss. Augusta\", \"female\", 30.0, 0, 0, \"113798\", 31.0, null, \"C\"], [850, 1, 1, \"Goldenberg, Mrs. Samuel L (Edwiga Grabowska)\", \"female\", null, 1, 0, \"17453\", 89.1042, \"C92\", \"C\"], [854, 1, 1, \"Lines, Miss. Mary Conover\", \"female\", 16.0, 0, 1, \"PC 17592\", 39.4, \"D28\", \"S\"], [857, 1, 1, \"Wick, Mrs. George Dennick (Mary Hitchcock)\", \"female\", 45.0, 1, 1, \"36928\", 164.8667, null, \"S\"], [858, 1, 1, \"Daly, Mr. Peter Denis \", \"male\", 51.0, 0, 0, \"113055\", 26.55, \"E17\", \"S\"], [863, 1, 1, \"Swift, Mrs. Frederick Joel (Margaret Welles Barron)\", \"female\", 48.0, 0, 0, \"17466\", 25.9292, \"D17\", \"S\"], [868, 0, 1, \"Roebling, Mr. Washington Augustus II\", \"male\", 31.0, 0, 0, \"PC 17590\", 50.4958, \"A24\", \"S\"], [872, 1, 1, \"Beckwith, Mrs. Richard Leonard (Sallie Monypeny)\", \"female\", 47.0, 1, 1, \"11751\", 52.5542, \"D35\", \"S\"], [873, 0, 1, \"Carlsson, Mr. Frans Olof\", \"male\", 33.0, 0, 0, \"695\", 5.0, \"B51 B53 B55\", \"S\"], [880, 1, 1, \"Potter, Mrs. Thomas Jr (Lily Alexenia Wilson)\", \"female\", 56.0, 0, 1, \"11767\", 83.1583, \"C50\", \"C\"], [888, 1, 1, \"Graham, Miss. Margaret Edith\", \"female\", 19.0, 0, 0, \"112053\", 30.0, \"B42\", \"S\"], [890, 1, 1, \"Behr, Mr. Karl Howell\", \"male\", 26.0, 0, 0, \"111369\", 30.0, \"C148\", \"C\"]], \"hovertemplate\": \"Pclass=%{customdata[2]}<br>Age=%{customdata[5]}<br>PassengerId=%{customdata[0]}<br>Survived=%{customdata[1]}<br>Name=%{customdata[3]}<br>Sex=%{customdata[4]}<br>SibSp=%{customdata[6]}<br>Parch=%{customdata[7]}<br>Ticket=%{customdata[8]}<br>Fare=%{customdata[9]}<br>Cabin=%{customdata[10]}<br>Embarked=%{customdata[11]}<extra></extra>\", \"legendgroup\": \"1\", \"marker\": {\"color\": \"#EF553B\"}, \"name\": \"1\", \"offsetgroup\": \"1\", \"orientation\": \"v\", \"scalegroup\": \"True\", \"showlegend\": true, \"type\": \"violin\", \"x\": [1, 1, 1, 1, 1, 1, 1, 1, 1, 1, 1, 1, 1, 1, 1, 1, 1, 1, 1, 1, 1, 1, 1, 1, 1, 1, 1, 1, 1, 1, 1, 1, 1, 1, 1, 1, 1, 1, 1, 1, 1, 1, 1, 1, 1, 1, 1, 1, 1, 1, 1, 1, 1, 1, 1, 1, 1, 1, 1, 1, 1, 1, 1, 1, 1, 1, 1, 1, 1, 1, 1, 1, 1, 1, 1, 1, 1, 1, 1, 1, 1, 1, 1, 1, 1, 1, 1, 1, 1, 1, 1, 1, 1, 1, 1, 1, 1, 1, 1, 1, 1, 1, 1, 1, 1, 1, 1, 1, 1, 1, 1, 1, 1, 1, 1, 1, 1, 1, 1, 1, 1, 1, 1, 1, 1, 1, 1, 1, 1, 1, 1, 1, 1, 1, 1, 1, 1, 1, 1, 1, 1, 1, 1, 1, 1, 1, 1, 1, 1, 1, 1, 1, 1, 1, 1, 1, 1, 1, 1, 1, 1, 1, 1, 1, 1, 1, 1, 1, 1, 1, 1, 1, 1, 1, 1, 1, 1, 1, 1, 1, 1, 1, 1, 1, 1, 1, 1, 1, 1, 1, 1, 1, 1, 1, 1, 1, 1, 1, 1, 1, 1, 1, 1, 1, 1, 1, 1, 1, 1, 1, 1, 1, 1, 1, 1, 1], \"x0\": \" \", \"xaxis\": \"x\", \"y\": [38.0, 35.0, 54.0, 58.0, 28.0, 19.0, 40.0, null, 28.0, 42.0, 49.0, 65.0, null, 38.0, 45.0, null, 28.0, 23.0, 46.0, 71.0, 23.0, 21.0, 47.0, 24.0, 54.0, 19.0, 37.0, 24.0, 22.0, 51.0, null, null, 61.0, 56.0, 50.0, null, 45.0, 44.0, 58.0, 40.0, 31.0, 32.0, 38.0, 35.0, 44.0, 37.0, 62.0, null, 30.0, 35.0, 52.0, 40.0, 58.0, 35.0, null, 37.0, 63.0, null, 26.0, 19.0, null, 2.0, null, 50.0, 0.92, null, 17.0, 30.0, 24.0, 18.0, 31.0, 40.0, 36.0, 16.0, 45.5, 38.0, null, 29.0, 41.0, 45.0, 24.0, null, 22.0, 60.0, 24.0, 25.0, 22.0, null, 27.0, 42.0, 35.0, 36.0, 23.0, 33.0, 28.0, 50.0, 14.0, 64.0, 4.0, 34.0, 52.0, 30.0, 49.0, 65.0, null, 48.0, 47.0, 56.0, null, 25.0, 35.0, 58.0, 55.0, 71.0, 54.0, 25.0, 16.0, 18.0, null, 36.0, 54.0, 47.0, 30.0, 44.0, null, 45.0, 30.0, 22.0, 36.0, 50.0, 64.0, 17.0, 62.0, 48.0, null, 39.0, 53.0, 36.0, 39.0, 39.0, 36.0, 18.0, 60.0, 52.0, 49.0, null, 35.0, 27.0, 40.0, 42.0, 61.0, 21.0, 80.0, 32.0, null, 24.0, 48.0, 56.0, 58.0, 50.0, 47.0, null, 31.0, 36.0, 27.0, 15.0, 31.0, 60.0, 49.0, 18.0, 35.0, 42.0, 22.0, 24.0, null, 48.0, 38.0, 27.0, 29.0, 35.0, null, 36.0, 21.0, 70.0, 19.0, 33.0, 36.0, 51.0, null, 43.0, 17.0, 29.0, 46.0, null, 49.0, 11.0, 39.0, 33.0, null, 52.0, 38.0, 62.0, 39.0, null, 30.0, null, 16.0, 45.0, 51.0, 48.0, 31.0, 47.0, 33.0, 56.0, 19.0, 26.0], \"y0\": \" \", \"yaxis\": \"y\"}, {\"alignmentgroup\": \"True\", \"box\": {\"visible\": true}, \"customdata\": [[10, 1, 2, \"Nasser, Mrs. Nicholas (Adele Achem)\", \"female\", 14.0, 1, 0, \"237736\", 30.0708, null, \"C\"], [16, 1, 2, \"Hewlett, Mrs. (Mary D Kingcome) \", \"female\", 55.0, 0, 0, \"248706\", 16.0, null, \"S\"], [18, 1, 2, \"Williams, Mr. Charles Eugene\", \"male\", null, 0, 0, \"244373\", 13.0, null, \"S\"], [21, 0, 2, \"Fynney, Mr. Joseph J\", \"male\", 35.0, 0, 0, \"239865\", 26.0, null, \"S\"], [22, 1, 2, \"Beesley, Mr. Lawrence\", \"male\", 34.0, 0, 0, \"248698\", 13.0, \"D56\", \"S\"], [34, 0, 2, \"Wheadon, Mr. Edward H\", \"male\", 66.0, 0, 0, \"C.A. 24579\", 10.5, null, \"S\"], [42, 0, 2, \"Turpin, Mrs. William John Robert (Dorothy Ann Wonnacott)\", \"female\", 27.0, 1, 0, \"11668\", 21.0, null, \"S\"], [44, 1, 2, \"Laroche, Miss. Simonne Marie Anne Andree\", \"female\", 3.0, 1, 2, \"SC/Paris 2123\", 41.5792, null, \"C\"], [54, 1, 2, \"Faunthorpe, Mrs. Lizzie (Elizabeth Anne Wilkinson)\", \"female\", 29.0, 1, 0, \"2926\", 26.0, null, \"S\"], [57, 1, 2, \"Rugg, Miss. Emily\", \"female\", 21.0, 0, 0, \"C.A. 31026\", 10.5, null, \"S\"], [59, 1, 2, \"West, Miss. Constance Mirium\", \"female\", 5.0, 1, 2, \"C.A. 34651\", 27.75, null, \"S\"], [67, 1, 2, \"Nye, Mrs. (Elizabeth Ramell)\", \"female\", 29.0, 0, 0, \"C.A. 29395\", 10.5, \"F33\", \"S\"], [71, 0, 2, \"Jenkin, Mr. Stephen Curnow\", \"male\", 32.0, 0, 0, \"C.A. 33111\", 10.5, null, \"S\"], [73, 0, 2, \"Hood, Mr. Ambrose Jr\", \"male\", 21.0, 0, 0, \"S.O.C. 14879\", 73.5, null, \"S\"], [79, 1, 2, \"Caldwell, Master. Alden Gates\", \"male\", 0.83, 0, 2, \"248738\", 29.0, null, \"S\"], [85, 1, 2, \"Ilett, Miss. Bertha\", \"female\", 17.0, 0, 0, \"SO/C 14885\", 10.5, null, \"S\"], [99, 1, 2, \"Doling, Mrs. John T (Ada Julia Bone)\", \"female\", 34.0, 0, 1, \"231919\", 23.0, null, \"S\"], [100, 0, 2, \"Kantor, Mr. Sinai\", \"male\", 34.0, 1, 0, \"244367\", 26.0, null, \"S\"], [118, 0, 2, \"Turpin, Mr. William John Robert\", \"male\", 29.0, 1, 0, \"11668\", 21.0, null, \"S\"], [121, 0, 2, \"Hickman, Mr. Stanley George\", \"male\", 21.0, 2, 0, \"S.O.C. 14879\", 73.5, null, \"S\"], [123, 0, 2, \"Nasser, Mr. Nicholas\", \"male\", 32.5, 1, 0, \"237736\", 30.0708, null, \"C\"], [124, 1, 2, \"Webber, Miss. Susan\", \"female\", 32.5, 0, 0, \"27267\", 13.0, \"E101\", \"S\"], [134, 1, 2, \"Weisz, Mrs. Leopold (Mathilde Francoise Pede)\", \"female\", 29.0, 1, 0, \"228414\", 26.0, null, \"S\"], [135, 0, 2, \"Sobey, Mr. Samuel James Hayden\", \"male\", 25.0, 0, 0, \"C.A. 29178\", 13.0, null, \"S\"], [136, 0, 2, \"Richard, Mr. Emile\", \"male\", 23.0, 0, 0, \"SC/PARIS 2133\", 15.0458, null, \"C\"], [145, 0, 2, \"Andrew, Mr. Edgardo Samuel\", \"male\", 18.0, 0, 0, \"231945\", 11.5, null, \"S\"], [146, 0, 2, \"Nicholls, Mr. Joseph Charles\", \"male\", 19.0, 1, 1, \"C.A. 33112\", 36.75, null, \"S\"], [149, 0, 2, \"Navratil, Mr. Michel (\\\"Louis M Hoffman\\\")\", \"male\", 36.5, 0, 2, \"230080\", 26.0, \"F2\", \"S\"], [150, 0, 2, \"Byles, Rev. Thomas Roussel Davids\", \"male\", 42.0, 0, 0, \"244310\", 13.0, null, \"S\"], [151, 0, 2, \"Bateman, Rev. Robert James\", \"male\", 51.0, 0, 0, \"S.O.P. 1166\", 12.525, null, \"S\"], [162, 1, 2, \"Watt, Mrs. James (Elizabeth \\\"Bessie\\\" Inglis Milne)\", \"female\", 40.0, 0, 0, \"C.A. 33595\", 15.75, null, \"S\"], [179, 0, 2, \"Hale, Mr. Reginald\", \"male\", 30.0, 0, 0, \"250653\", 13.0, null, \"S\"], [182, 0, 2, \"Pernot, Mr. Rene\", \"male\", null, 0, 0, \"SC/PARIS 2131\", 15.05, null, \"C\"], [184, 1, 2, \"Becker, Master. Richard F\", \"male\", 1.0, 2, 1, \"230136\", 39.0, \"F4\", \"S\"], [191, 1, 2, \"Pinsky, Mrs. (Rosa)\", \"female\", 32.0, 0, 0, \"234604\", 13.0, null, \"S\"], [192, 0, 2, \"Carbines, Mr. William\", \"male\", 19.0, 0, 0, \"28424\", 13.0, null, \"S\"], [194, 1, 2, \"Navratil, Master. Michel M\", \"male\", 3.0, 1, 1, \"230080\", 26.0, \"F2\", \"S\"], [200, 0, 2, \"Yrois, Miss. Henriette (\\\"Mrs Harbeck\\\")\", \"female\", 24.0, 0, 0, \"248747\", 13.0, null, \"S\"], [212, 1, 2, \"Cameron, Miss. Clear Annie\", \"female\", 35.0, 0, 0, \"F.C.C. 13528\", 21.0, null, \"S\"], [214, 0, 2, \"Givard, Mr. Hans Kristensen\", \"male\", 30.0, 0, 0, \"250646\", 13.0, null, \"S\"], [218, 0, 2, \"Jacobsohn, Mr. Sidney Samuel\", \"male\", 42.0, 1, 0, \"243847\", 27.0, null, \"S\"], [220, 0, 2, \"Harris, Mr. Walter\", \"male\", 30.0, 0, 0, \"W/C 14208\", 10.5, null, \"S\"], [222, 0, 2, \"Bracken, Mr. James H\", \"male\", 27.0, 0, 0, \"220367\", 13.0, null, \"S\"], [227, 1, 2, \"Mellors, Mr. William John\", \"male\", 19.0, 0, 0, \"SW/PP 751\", 10.5, null, \"S\"], [229, 0, 2, \"Fahlstrom, Mr. Arne Jonas\", \"male\", 18.0, 0, 0, \"236171\", 13.0, null, \"S\"], [233, 0, 2, \"Sjostedt, Mr. Ernst Adolf\", \"male\", 59.0, 0, 0, \"237442\", 13.5, null, \"S\"], [235, 0, 2, \"Leyson, Mr. Robert William Norman\", \"male\", 24.0, 0, 0, \"C.A. 29566\", 10.5, null, \"S\"], [237, 0, 2, \"Hold, Mr. Stephen\", \"male\", 44.0, 1, 0, \"26707\", 26.0, null, \"S\"], [238, 1, 2, \"Collyer, Miss. Marjorie \\\"Lottie\\\"\", \"female\", 8.0, 0, 2, \"C.A. 31921\", 26.25, null, \"S\"], [239, 0, 2, \"Pengelly, Mr. Frederick William\", \"male\", 19.0, 0, 0, \"28665\", 10.5, null, \"S\"], [240, 0, 2, \"Hunt, Mr. George Henry\", \"male\", 33.0, 0, 0, \"SCO/W 1585\", 12.275, null, \"S\"], [243, 0, 2, \"Coleridge, Mr. Reginald Charles\", \"male\", 29.0, 0, 0, \"W./C. 14263\", 10.5, null, \"S\"], [248, 1, 2, \"Hamalainen, Mrs. William (Anna)\", \"female\", 24.0, 0, 2, \"250649\", 14.5, null, \"S\"], [250, 0, 2, \"Carter, Rev. Ernest Courtenay\", \"male\", 54.0, 1, 0, \"244252\", 26.0, null, \"S\"], [260, 1, 2, \"Parrish, Mrs. (Lutie Davis)\", \"female\", 50.0, 0, 1, \"230433\", 26.0, null, \"S\"], [266, 0, 2, \"Reeves, Mr. David\", \"male\", 36.0, 0, 0, \"C.A. 17248\", 10.5, null, \"S\"], [273, 1, 2, \"Mellinger, Mrs. (Elizabeth Anne Maidment)\", \"female\", 41.0, 0, 1, \"250644\", 19.5, null, \"S\"], [278, 0, 2, \"Parkes, Mr. Francis \\\"Frank\\\"\", \"male\", null, 0, 0, \"239853\", 0.0, null, \"S\"], [289, 1, 2, \"Hosono, Mr. Masabumi\", \"male\", 42.0, 0, 0, \"237798\", 13.0, null, \"S\"], [293, 0, 2, \"Levy, Mr. Rene Jacques\", \"male\", 36.0, 0, 0, \"SC/Paris 2163\", 12.875, \"D\", \"C\"], [304, 1, 2, \"Keane, Miss. Nora A\", \"female\", null, 0, 0, \"226593\", 12.35, \"E101\", \"Q\"], [309, 0, 2, \"Abelson, Mr. Samuel\", \"male\", 30.0, 1, 0, \"P/PP 3381\", 24.0, null, \"C\"], [313, 0, 2, \"Lahtinen, Mrs. William (Anna Sylfven)\", \"female\", 26.0, 1, 1, \"250651\", 26.0, null, \"S\"], [315, 0, 2, \"Hart, Mr. Benjamin\", \"male\", 43.0, 1, 1, \"F.C.C. 13529\", 26.25, null, \"S\"], [317, 1, 2, \"Kantor, Mrs. Sinai (Miriam Sternin)\", \"female\", 24.0, 1, 0, \"244367\", 26.0, null, \"S\"], [318, 0, 2, \"Moraweck, Dr. Ernest\", \"male\", 54.0, 0, 0, \"29011\", 14.0, null, \"S\"], [323, 1, 2, \"Slayter, Miss. Hilda Mary\", \"female\", 30.0, 0, 0, \"234818\", 12.35, null, \"Q\"], [324, 1, 2, \"Caldwell, Mrs. Albert Francis (Sylvia Mae Harbaugh)\", \"female\", 22.0, 1, 1, \"248738\", 29.0, null, \"S\"], [328, 1, 2, \"Ball, Mrs. (Ada E Hall)\", \"female\", 36.0, 0, 0, \"28551\", 13.0, \"D\", \"S\"], [341, 1, 2, \"Navratil, Master. Edmond Roger\", \"male\", 2.0, 1, 1, \"230080\", 26.0, \"F2\", \"S\"], [343, 0, 2, \"Collander, Mr. Erik Gustaf\", \"male\", 28.0, 0, 0, \"248740\", 13.0, null, \"S\"], [344, 0, 2, \"Sedgwick, Mr. Charles Frederick Waddington\", \"male\", 25.0, 0, 0, \"244361\", 13.0, null, \"S\"], [345, 0, 2, \"Fox, Mr. Stanley Hubert\", \"male\", 36.0, 0, 0, \"229236\", 13.0, null, \"S\"], [346, 1, 2, \"Brown, Miss. Amelia \\\"Mildred\\\"\", \"female\", 24.0, 0, 0, \"248733\", 13.0, \"F33\", \"S\"], [347, 1, 2, \"Smith, Miss. Marion Elsie\", \"female\", 40.0, 0, 0, \"31418\", 13.0, null, \"S\"], [358, 0, 2, \"Funk, Miss. Annie Clemmer\", \"female\", 38.0, 0, 0, \"237671\", 13.0, null, \"S\"], [362, 0, 2, \"del Carlo, Mr. Sebastiano\", \"male\", 29.0, 1, 0, \"SC/PARIS 2167\", 27.7208, null, \"C\"], [386, 0, 2, \"Davies, Mr. Charles Henry\", \"male\", 18.0, 0, 0, \"S.O.C. 14879\", 73.5, null, \"S\"], [388, 1, 2, \"Buss, Miss. Kate\", \"female\", 36.0, 0, 0, \"27849\", 13.0, null, \"S\"], [390, 1, 2, \"Lehmann, Miss. Bertha\", \"female\", 17.0, 0, 0, \"SC 1748\", 12.0, null, \"C\"], [398, 0, 2, \"McKane, Mr. Peter David\", \"male\", 46.0, 0, 0, \"28403\", 26.0, null, \"S\"], [399, 0, 2, \"Pain, Dr. Alfred\", \"male\", 23.0, 0, 0, \"244278\", 10.5, null, \"S\"], [400, 1, 2, \"Trout, Mrs. William H (Jessie L)\", \"female\", 28.0, 0, 0, \"240929\", 12.65, null, \"S\"], [406, 0, 2, \"Gale, Mr. Shadrach\", \"male\", 34.0, 1, 0, \"28664\", 21.0, null, \"S\"], [408, 1, 2, \"Richards, Master. William Rowe\", \"male\", 3.0, 1, 1, \"29106\", 18.75, null, \"S\"], [414, 0, 2, \"Cunningham, Mr. Alfred Fleming\", \"male\", null, 0, 0, \"239853\", 0.0, null, \"S\"], [417, 1, 2, \"Drew, Mrs. James Vivian (Lulu Thorne Christian)\", \"female\", 34.0, 1, 1, \"28220\", 32.5, null, \"S\"], [418, 1, 2, \"Silven, Miss. Lyyli Karoliina\", \"female\", 18.0, 0, 2, \"250652\", 13.0, null, \"S\"], [419, 0, 2, \"Matthews, Mr. William John\", \"male\", 30.0, 0, 0, \"28228\", 13.0, null, \"S\"], [427, 1, 2, \"Clarke, Mrs. Charles V (Ada Maria Winfield)\", \"female\", 28.0, 1, 0, \"2003\", 26.0, null, \"S\"], [428, 1, 2, \"Phillips, Miss. Kate Florence (\\\"Mrs Kate Louise Phillips Marshall\\\")\", \"female\", 19.0, 0, 0, \"250655\", 26.0, null, \"S\"], [433, 1, 2, \"Louch, Mrs. Charles Alexander (Alice Adelaide Slow)\", \"female\", 42.0, 1, 0, \"SC/AH 3085\", 26.0, null, \"S\"], [438, 1, 2, \"Richards, Mrs. Sidney (Emily Hocking)\", \"female\", 24.0, 2, 3, \"29106\", 18.75, null, \"S\"], [440, 0, 2, \"Kvillner, Mr. Johan Henrik Johannesson\", \"male\", 31.0, 0, 0, \"C.A. 18723\", 10.5, null, \"S\"], [441, 1, 2, \"Hart, Mrs. Benjamin (Esther Ada Bloomfield)\", \"female\", 45.0, 1, 1, \"F.C.C. 13529\", 26.25, null, \"S\"], [444, 1, 2, \"Reynaldo, Ms. Encarnacion\", \"female\", 28.0, 0, 0, \"230434\", 13.0, null, \"S\"], [447, 1, 2, \"Mellinger, Miss. Madeleine Violet\", \"female\", 13.0, 0, 1, \"250644\", 19.5, null, \"S\"], [451, 0, 2, \"West, Mr. Edwy Arthur\", \"male\", 36.0, 1, 2, \"C.A. 34651\", 27.75, null, \"S\"], [459, 1, 2, \"Toomey, Miss. Ellen\", \"female\", 50.0, 0, 0, \"F.C.C. 13531\", 10.5, null, \"S\"], [464, 0, 2, \"Milling, Mr. Jacob Christian\", \"male\", 48.0, 0, 0, \"234360\", 13.0, null, \"S\"], [467, 0, 2, \"Campbell, Mr. William\", \"male\", null, 0, 0, \"239853\", 0.0, null, \"S\"], [473, 1, 2, \"West, Mrs. Edwy Arthur (Ada Mary Worth)\", \"female\", 33.0, 1, 2, \"C.A. 34651\", 27.75, null, \"S\"], [474, 1, 2, \"Jerwan, Mrs. Amin S (Marie Marthe Thuillard)\", \"female\", 23.0, 0, 0, \"SC/AH Basle 541\", 13.7917, \"D\", \"C\"], [477, 0, 2, \"Renouf, Mr. Peter Henry\", \"male\", 34.0, 1, 0, \"31027\", 21.0, null, \"S\"], [482, 0, 2, \"Frost, Mr. Anthony Wood \\\"Archie\\\"\", \"male\", null, 0, 0, \"239854\", 0.0, null, \"S\"], [507, 1, 2, \"Quick, Mrs. Frederick Charles (Jane Richards)\", \"female\", 33.0, 0, 2, \"26360\", 26.0, null, \"S\"], [517, 1, 2, \"Lemore, Mrs. (Amelia Milley)\", \"female\", 34.0, 0, 0, \"C.A. 34260\", 10.5, \"F33\", \"S\"], [519, 1, 2, \"Angle, Mrs. William A (Florence \\\"Mary\\\" Agnes Hughes)\", \"female\", 36.0, 1, 0, \"226875\", 26.0, null, \"S\"], [527, 1, 2, \"Ridsdale, Miss. Lucy\", \"female\", 50.0, 0, 0, \"W./C. 14258\", 10.5, null, \"S\"], [530, 0, 2, \"Hocking, Mr. Richard George\", \"male\", 23.0, 2, 1, \"29104\", 11.5, null, \"S\"], [531, 1, 2, \"Quick, Miss. Phyllis May\", \"female\", 2.0, 1, 1, \"26360\", 26.0, null, \"S\"], [536, 1, 2, \"Hart, Miss. Eva Miriam\", \"female\", 7.0, 0, 2, \"F.C.C. 13529\", 26.25, null, \"S\"], [544, 1, 2, \"Beane, Mr. Edward\", \"male\", 32.0, 1, 0, \"2908\", 26.0, null, \"S\"], [547, 1, 2, \"Beane, Mrs. Edward (Ethel Clarke)\", \"female\", 19.0, 1, 0, \"2908\", 26.0, null, \"S\"], [548, 1, 2, \"Padro y Manent, Mr. Julian\", \"male\", null, 0, 0, \"SC/PARIS 2146\", 13.8625, null, \"C\"], [550, 1, 2, \"Davies, Master. John Morgan Jr\", \"male\", 8.0, 1, 1, \"C.A. 33112\", 36.75, null, \"S\"], [552, 0, 2, \"Sharp, Mr. Percival James R\", \"male\", 27.0, 0, 0, \"244358\", 26.0, null, \"S\"], [563, 0, 2, \"Norman, Mr. Robert Douglas\", \"male\", 28.0, 0, 0, \"218629\", 13.5, null, \"S\"], [571, 1, 2, \"Harris, Mr. George\", \"male\", 62.0, 0, 0, \"S.W./PP 752\", 10.5, null, \"S\"], [577, 1, 2, \"Garside, Miss. Ethel\", \"female\", 34.0, 0, 0, \"243880\", 13.0, null, \"S\"], [581, 1, 2, \"Christy, Miss. Julie Rachel\", \"female\", 25.0, 1, 1, \"237789\", 30.0, null, \"S\"], [583, 0, 2, \"Downton, Mr. William James\", \"male\", 54.0, 0, 0, \"28403\", 26.0, null, \"S\"], [587, 0, 2, \"Jarvis, Mr. John Denzil\", \"male\", 47.0, 0, 0, \"237565\", 15.0, null, \"S\"], [595, 0, 2, \"Chapman, Mr. John Henry\", \"male\", 37.0, 1, 0, \"SC/AH 29037\", 26.0, null, \"S\"], [597, 1, 2, \"Leitch, Miss. Jessie Wills\", \"female\", null, 0, 0, \"248727\", 33.0, null, \"S\"], [601, 1, 2, \"Jacobsohn, Mrs. Sidney Samuel (Amy Frances Christy)\", \"female\", 24.0, 2, 1, \"243847\", 27.0, null, \"S\"], [609, 1, 2, \"Laroche, Mrs. Joseph (Juliette Marie Louise Lafargue)\", \"female\", 22.0, 1, 2, \"SC/Paris 2123\", 41.5792, null, \"C\"], [616, 1, 2, \"Herman, Miss. Alice\", \"female\", 24.0, 1, 2, \"220845\", 65.0, null, \"S\"], [619, 1, 2, \"Becker, Miss. Marion Louise\", \"female\", 4.0, 2, 1, \"230136\", 39.0, \"F4\", \"S\"], [620, 0, 2, \"Gavey, Mr. Lawrence\", \"male\", 26.0, 0, 0, \"31028\", 10.5, null, \"S\"], [627, 0, 2, \"Kirkland, Rev. Charles Leonard\", \"male\", 57.0, 0, 0, \"219533\", 12.35, null, \"Q\"], [636, 1, 2, \"Davis, Miss. Mary\", \"female\", 28.0, 0, 0, \"237668\", 13.0, null, \"S\"], [638, 0, 2, \"Collyer, Mr. Harvey\", \"male\", 31.0, 1, 1, \"C.A. 31921\", 26.25, null, \"S\"], [652, 1, 2, \"Doling, Miss. Elsie\", \"female\", 18.0, 0, 1, \"231919\", 23.0, null, \"S\"], [656, 0, 2, \"Hickman, Mr. Leonard Mark\", \"male\", 24.0, 2, 0, \"S.O.C. 14879\", 73.5, null, \"S\"], [659, 0, 2, \"Eitemiller, Mr. George Floyd\", \"male\", 23.0, 0, 0, \"29751\", 13.0, null, \"S\"], [666, 0, 2, \"Hickman, Mr. Lewis\", \"male\", 32.0, 2, 0, \"S.O.C. 14879\", 73.5, null, \"S\"], [667, 0, 2, \"Butler, Mr. Reginald Fenton\", \"male\", 25.0, 0, 0, \"234686\", 13.0, null, \"S\"], [671, 1, 2, \"Brown, Mrs. Thomas William Solomon (Elizabeth Catherine Ford)\", \"female\", 40.0, 1, 1, \"29750\", 39.0, null, \"S\"], [673, 0, 2, \"Mitchell, Mr. Henry Michael\", \"male\", 70.0, 0, 0, \"C.A. 24580\", 10.5, null, \"S\"], [674, 1, 2, \"Wilhelms, Mr. Charles\", \"male\", 31.0, 0, 0, \"244270\", 13.0, null, \"S\"], [675, 0, 2, \"Watson, Mr. Ennis Hastings\", \"male\", null, 0, 0, \"239856\", 0.0, null, \"S\"], [685, 0, 2, \"Brown, Mr. Thomas William Solomon\", \"male\", 60.0, 1, 1, \"29750\", 39.0, null, \"S\"], [686, 0, 2, \"Laroche, Mr. Joseph Philippe Lemercier\", \"male\", 25.0, 1, 2, \"SC/Paris 2123\", 41.5792, null, \"C\"], [696, 0, 2, \"Chapman, Mr. Charles Henry\", \"male\", 52.0, 0, 0, \"248731\", 13.5, null, \"S\"], [706, 0, 2, \"Morley, Mr. Henry Samuel (\\\"Mr Henry Marshall\\\")\", \"male\", 39.0, 0, 0, \"250655\", 26.0, null, \"S\"], [707, 1, 2, \"Kelly, Mrs. Florence \\\"Fannie\\\"\", \"female\", 45.0, 0, 0, \"223596\", 13.5, null, \"S\"], [715, 0, 2, \"Greenberg, Mr. Samuel\", \"male\", 52.0, 0, 0, \"250647\", 13.0, null, \"S\"], [718, 1, 2, \"Troutt, Miss. Edwina Celia \\\"Winnie\\\"\", \"female\", 27.0, 0, 0, \"34218\", 10.5, \"E101\", \"S\"], [721, 1, 2, \"Harper, Miss. Annie Jessie \\\"Nina\\\"\", \"female\", 6.0, 0, 1, \"248727\", 33.0, null, \"S\"], [723, 0, 2, \"Gillespie, Mr. William Henry\", \"male\", 34.0, 0, 0, \"12233\", 13.0, null, \"S\"], [724, 0, 2, \"Hodges, Mr. Henry Price\", \"male\", 50.0, 0, 0, \"250643\", 13.0, null, \"S\"], [727, 1, 2, \"Renouf, Mrs. Peter Henry (Lillian Jefferys)\", \"female\", 30.0, 3, 0, \"31027\", 21.0, null, \"S\"], [729, 0, 2, \"Bryhl, Mr. Kurt Arnold Gottfrid\", \"male\", 25.0, 1, 0, \"236853\", 26.0, null, \"S\"], [733, 0, 2, \"Knight, Mr. Robert J\", \"male\", null, 0, 0, \"239855\", 0.0, null, \"S\"], [734, 0, 2, \"Berriman, Mr. William John\", \"male\", 23.0, 0, 0, \"28425\", 13.0, null, \"S\"], [735, 0, 2, \"Troupiansky, Mr. Moses Aaron\", \"male\", 23.0, 0, 0, \"233639\", 13.0, null, \"S\"], [748, 1, 2, \"Sinkkonen, Miss. Anna\", \"female\", 30.0, 0, 0, \"250648\", 13.0, null, \"S\"], [751, 1, 2, \"Wells, Miss. Joan\", \"female\", 4.0, 1, 1, \"29103\", 23.0, null, \"S\"], [755, 1, 2, \"Herman, Mrs. Samuel (Jane Laver)\", \"female\", 48.0, 1, 2, \"220845\", 65.0, null, \"S\"], [756, 1, 2, \"Hamalainen, Master. Viljo\", \"male\", 0.67, 1, 1, \"250649\", 14.5, null, \"S\"], [758, 0, 2, \"Bailey, Mr. Percy Andrew\", \"male\", 18.0, 0, 0, \"29108\", 11.5, null, \"S\"], [773, 0, 2, \"Mack, Mrs. (Mary)\", \"female\", 57.0, 0, 0, \"S.O./P.P. 3\", 10.5, \"E77\", \"S\"], [775, 1, 2, \"Hocking, Mrs. Elizabeth (Eliza Needs)\", \"female\", 54.0, 1, 3, \"29105\", 23.0, null, \"S\"], [792, 0, 2, \"Gaskell, Mr. Alfred\", \"male\", 16.0, 0, 0, \"239865\", 26.0, null, \"S\"], [796, 0, 2, \"Otter, Mr. Richard\", \"male\", 39.0, 0, 0, \"28213\", 13.0, null, \"S\"], [801, 0, 2, \"Ponesell, Mr. Martin\", \"male\", 34.0, 0, 0, \"250647\", 13.0, null, \"S\"], [802, 1, 2, \"Collyer, Mrs. Harvey (Charlotte Annie Tate)\", \"female\", 31.0, 1, 1, \"C.A. 31921\", 26.25, null, \"S\"], [809, 0, 2, \"Meyer, Mr. August\", \"male\", 39.0, 0, 0, \"248723\", 13.0, null, \"S\"], [813, 0, 2, \"Slemen, Mr. Richard James\", \"male\", 35.0, 0, 0, \"28206\", 10.5, null, \"S\"], [818, 0, 2, \"Mallet, Mr. Albert\", \"male\", 31.0, 1, 1, \"S.C./PARIS 2079\", 37.0042, null, \"C\"], [828, 1, 2, \"Mallet, Master. Andre\", \"male\", 1.0, 0, 2, \"S.C./PARIS 2079\", 37.0042, null, \"C\"], [832, 1, 2, \"Richards, Master. George Sibley\", \"male\", 0.83, 1, 1, \"29106\", 18.75, null, \"S\"], [842, 0, 2, \"Mudd, Mr. Thomas Charles\", \"male\", 16.0, 0, 0, \"S.O./P.P. 3\", 10.5, null, \"S\"], [849, 0, 2, \"Harper, Rev. John\", \"male\", 28.0, 0, 1, \"248727\", 33.0, null, \"S\"], [855, 0, 2, \"Carter, Mrs. Ernest Courtenay (Lilian Hughes)\", \"female\", 44.0, 1, 0, \"244252\", 26.0, null, \"S\"], [862, 0, 2, \"Giles, Mr. Frederick Edward\", \"male\", 21.0, 1, 0, \"28134\", 11.5, null, \"S\"], [865, 0, 2, \"Gill, Mr. John William\", \"male\", 24.0, 0, 0, \"233866\", 13.0, null, \"S\"], [866, 1, 2, \"Bystrom, Mrs. (Karolina)\", \"female\", 42.0, 0, 0, \"236852\", 13.0, null, \"S\"], [867, 1, 2, \"Duran y More, Miss. Asuncion\", \"female\", 27.0, 1, 0, \"SC/PARIS 2149\", 13.8583, null, \"C\"], [875, 1, 2, \"Abelson, Mrs. Samuel (Hannah Wizosky)\", \"female\", 28.0, 1, 0, \"P/PP 3381\", 24.0, null, \"C\"], [881, 1, 2, \"Shelley, Mrs. William (Imanita Parrish Hall)\", \"female\", 25.0, 0, 1, \"230433\", 26.0, null, \"S\"], [884, 0, 2, \"Banfield, Mr. Frederick James\", \"male\", 28.0, 0, 0, \"C.A./SOTON 34068\", 10.5, null, \"S\"], [887, 0, 2, \"Montvila, Rev. Juozas\", \"male\", 27.0, 0, 0, \"211536\", 13.0, null, \"S\"]], \"hovertemplate\": \"Pclass=%{customdata[2]}<br>Age=%{customdata[5]}<br>PassengerId=%{customdata[0]}<br>Survived=%{customdata[1]}<br>Name=%{customdata[3]}<br>Sex=%{customdata[4]}<br>SibSp=%{customdata[6]}<br>Parch=%{customdata[7]}<br>Ticket=%{customdata[8]}<br>Fare=%{customdata[9]}<br>Cabin=%{customdata[10]}<br>Embarked=%{customdata[11]}<extra></extra>\", \"legendgroup\": \"2\", \"marker\": {\"color\": \"#00cc96\"}, \"name\": \"2\", \"offsetgroup\": \"2\", \"orientation\": \"v\", \"scalegroup\": \"True\", \"showlegend\": true, \"type\": \"violin\", \"x\": [2, 2, 2, 2, 2, 2, 2, 2, 2, 2, 2, 2, 2, 2, 2, 2, 2, 2, 2, 2, 2, 2, 2, 2, 2, 2, 2, 2, 2, 2, 2, 2, 2, 2, 2, 2, 2, 2, 2, 2, 2, 2, 2, 2, 2, 2, 2, 2, 2, 2, 2, 2, 2, 2, 2, 2, 2, 2, 2, 2, 2, 2, 2, 2, 2, 2, 2, 2, 2, 2, 2, 2, 2, 2, 2, 2, 2, 2, 2, 2, 2, 2, 2, 2, 2, 2, 2, 2, 2, 2, 2, 2, 2, 2, 2, 2, 2, 2, 2, 2, 2, 2, 2, 2, 2, 2, 2, 2, 2, 2, 2, 2, 2, 2, 2, 2, 2, 2, 2, 2, 2, 2, 2, 2, 2, 2, 2, 2, 2, 2, 2, 2, 2, 2, 2, 2, 2, 2, 2, 2, 2, 2, 2, 2, 2, 2, 2, 2, 2, 2, 2, 2, 2, 2, 2, 2, 2, 2, 2, 2, 2, 2, 2, 2, 2, 2, 2, 2, 2, 2, 2, 2, 2, 2, 2, 2, 2, 2, 2, 2, 2, 2, 2, 2], \"x0\": \" \", \"xaxis\": \"x\", \"y\": [14.0, 55.0, null, 35.0, 34.0, 66.0, 27.0, 3.0, 29.0, 21.0, 5.0, 29.0, 32.0, 21.0, 0.83, 17.0, 34.0, 34.0, 29.0, 21.0, 32.5, 32.5, 29.0, 25.0, 23.0, 18.0, 19.0, 36.5, 42.0, 51.0, 40.0, 30.0, null, 1.0, 32.0, 19.0, 3.0, 24.0, 35.0, 30.0, 42.0, 30.0, 27.0, 19.0, 18.0, 59.0, 24.0, 44.0, 8.0, 19.0, 33.0, 29.0, 24.0, 54.0, 50.0, 36.0, 41.0, null, 42.0, 36.0, null, 30.0, 26.0, 43.0, 24.0, 54.0, 30.0, 22.0, 36.0, 2.0, 28.0, 25.0, 36.0, 24.0, 40.0, 38.0, 29.0, 18.0, 36.0, 17.0, 46.0, 23.0, 28.0, 34.0, 3.0, null, 34.0, 18.0, 30.0, 28.0, 19.0, 42.0, 24.0, 31.0, 45.0, 28.0, 13.0, 36.0, 50.0, 48.0, null, 33.0, 23.0, 34.0, null, 33.0, 34.0, 36.0, 50.0, 23.0, 2.0, 7.0, 32.0, 19.0, null, 8.0, 27.0, 28.0, 62.0, 34.0, 25.0, 54.0, 47.0, 37.0, null, 24.0, 22.0, 24.0, 4.0, 26.0, 57.0, 28.0, 31.0, 18.0, 24.0, 23.0, 32.0, 25.0, 40.0, 70.0, 31.0, null, 60.0, 25.0, 52.0, 39.0, 45.0, 52.0, 27.0, 6.0, 34.0, 50.0, 30.0, 25.0, null, 23.0, 23.0, 30.0, 4.0, 48.0, 0.67, 18.0, 57.0, 54.0, 16.0, 39.0, 34.0, 31.0, 39.0, 35.0, 31.0, 1.0, 0.83, 16.0, 28.0, 44.0, 21.0, 24.0, 42.0, 27.0, 28.0, 25.0, 28.0, 27.0], \"y0\": \" \", \"yaxis\": \"y\"}],\n",
       "                        {\"legend\": {\"title\": {\"text\": \"Pclass\"}, \"tracegroupgap\": 0}, \"margin\": {\"t\": 60}, \"template\": {\"data\": {\"bar\": [{\"error_x\": {\"color\": \"#2a3f5f\"}, \"error_y\": {\"color\": \"#2a3f5f\"}, \"marker\": {\"line\": {\"color\": \"#E5ECF6\", \"width\": 0.5}}, \"type\": \"bar\"}], \"barpolar\": [{\"marker\": {\"line\": {\"color\": \"#E5ECF6\", \"width\": 0.5}}, \"type\": \"barpolar\"}], \"carpet\": [{\"aaxis\": {\"endlinecolor\": \"#2a3f5f\", \"gridcolor\": \"white\", \"linecolor\": \"white\", \"minorgridcolor\": \"white\", \"startlinecolor\": \"#2a3f5f\"}, \"baxis\": {\"endlinecolor\": \"#2a3f5f\", \"gridcolor\": \"white\", \"linecolor\": \"white\", \"minorgridcolor\": \"white\", \"startlinecolor\": \"#2a3f5f\"}, \"type\": \"carpet\"}], \"choropleth\": [{\"colorbar\": {\"outlinewidth\": 0, \"ticks\": \"\"}, \"type\": \"choropleth\"}], \"contour\": [{\"colorbar\": {\"outlinewidth\": 0, \"ticks\": \"\"}, \"colorscale\": [[0.0, \"#0d0887\"], [0.1111111111111111, \"#46039f\"], [0.2222222222222222, \"#7201a8\"], [0.3333333333333333, \"#9c179e\"], [0.4444444444444444, \"#bd3786\"], [0.5555555555555556, \"#d8576b\"], [0.6666666666666666, \"#ed7953\"], [0.7777777777777778, \"#fb9f3a\"], [0.8888888888888888, \"#fdca26\"], [1.0, \"#f0f921\"]], \"type\": \"contour\"}], \"contourcarpet\": [{\"colorbar\": {\"outlinewidth\": 0, \"ticks\": \"\"}, \"type\": \"contourcarpet\"}], \"heatmap\": [{\"colorbar\": {\"outlinewidth\": 0, \"ticks\": \"\"}, \"colorscale\": [[0.0, \"#0d0887\"], [0.1111111111111111, \"#46039f\"], [0.2222222222222222, \"#7201a8\"], [0.3333333333333333, \"#9c179e\"], [0.4444444444444444, \"#bd3786\"], [0.5555555555555556, \"#d8576b\"], [0.6666666666666666, \"#ed7953\"], [0.7777777777777778, \"#fb9f3a\"], [0.8888888888888888, \"#fdca26\"], [1.0, \"#f0f921\"]], \"type\": \"heatmap\"}], \"heatmapgl\": [{\"colorbar\": {\"outlinewidth\": 0, \"ticks\": \"\"}, \"colorscale\": [[0.0, \"#0d0887\"], [0.1111111111111111, \"#46039f\"], [0.2222222222222222, \"#7201a8\"], [0.3333333333333333, \"#9c179e\"], [0.4444444444444444, \"#bd3786\"], [0.5555555555555556, \"#d8576b\"], [0.6666666666666666, \"#ed7953\"], [0.7777777777777778, \"#fb9f3a\"], [0.8888888888888888, \"#fdca26\"], [1.0, \"#f0f921\"]], \"type\": \"heatmapgl\"}], \"histogram\": [{\"marker\": {\"colorbar\": {\"outlinewidth\": 0, \"ticks\": \"\"}}, \"type\": \"histogram\"}], \"histogram2d\": [{\"colorbar\": {\"outlinewidth\": 0, \"ticks\": \"\"}, \"colorscale\": [[0.0, \"#0d0887\"], [0.1111111111111111, \"#46039f\"], [0.2222222222222222, \"#7201a8\"], [0.3333333333333333, \"#9c179e\"], [0.4444444444444444, \"#bd3786\"], [0.5555555555555556, \"#d8576b\"], [0.6666666666666666, \"#ed7953\"], [0.7777777777777778, \"#fb9f3a\"], [0.8888888888888888, \"#fdca26\"], [1.0, \"#f0f921\"]], \"type\": \"histogram2d\"}], \"histogram2dcontour\": [{\"colorbar\": {\"outlinewidth\": 0, \"ticks\": \"\"}, \"colorscale\": [[0.0, \"#0d0887\"], [0.1111111111111111, \"#46039f\"], [0.2222222222222222, \"#7201a8\"], [0.3333333333333333, \"#9c179e\"], [0.4444444444444444, \"#bd3786\"], [0.5555555555555556, \"#d8576b\"], [0.6666666666666666, \"#ed7953\"], [0.7777777777777778, \"#fb9f3a\"], [0.8888888888888888, \"#fdca26\"], [1.0, \"#f0f921\"]], \"type\": \"histogram2dcontour\"}], \"mesh3d\": [{\"colorbar\": {\"outlinewidth\": 0, \"ticks\": \"\"}, \"type\": \"mesh3d\"}], \"parcoords\": [{\"line\": {\"colorbar\": {\"outlinewidth\": 0, \"ticks\": \"\"}}, \"type\": \"parcoords\"}], \"pie\": [{\"automargin\": true, \"type\": \"pie\"}], \"scatter\": [{\"marker\": {\"colorbar\": {\"outlinewidth\": 0, \"ticks\": \"\"}}, \"type\": \"scatter\"}], \"scatter3d\": [{\"line\": {\"colorbar\": {\"outlinewidth\": 0, \"ticks\": \"\"}}, \"marker\": {\"colorbar\": {\"outlinewidth\": 0, \"ticks\": \"\"}}, \"type\": \"scatter3d\"}], \"scattercarpet\": [{\"marker\": {\"colorbar\": {\"outlinewidth\": 0, \"ticks\": \"\"}}, \"type\": \"scattercarpet\"}], \"scattergeo\": [{\"marker\": {\"colorbar\": {\"outlinewidth\": 0, \"ticks\": \"\"}}, \"type\": \"scattergeo\"}], \"scattergl\": [{\"marker\": {\"colorbar\": {\"outlinewidth\": 0, \"ticks\": \"\"}}, \"type\": \"scattergl\"}], \"scattermapbox\": [{\"marker\": {\"colorbar\": {\"outlinewidth\": 0, \"ticks\": \"\"}}, \"type\": \"scattermapbox\"}], \"scatterpolar\": [{\"marker\": {\"colorbar\": {\"outlinewidth\": 0, \"ticks\": \"\"}}, \"type\": \"scatterpolar\"}], \"scatterpolargl\": [{\"marker\": {\"colorbar\": {\"outlinewidth\": 0, \"ticks\": \"\"}}, \"type\": \"scatterpolargl\"}], \"scatterternary\": [{\"marker\": {\"colorbar\": {\"outlinewidth\": 0, \"ticks\": \"\"}}, \"type\": \"scatterternary\"}], \"surface\": [{\"colorbar\": {\"outlinewidth\": 0, \"ticks\": \"\"}, \"colorscale\": [[0.0, \"#0d0887\"], [0.1111111111111111, \"#46039f\"], [0.2222222222222222, \"#7201a8\"], [0.3333333333333333, \"#9c179e\"], [0.4444444444444444, \"#bd3786\"], [0.5555555555555556, \"#d8576b\"], [0.6666666666666666, \"#ed7953\"], [0.7777777777777778, \"#fb9f3a\"], [0.8888888888888888, \"#fdca26\"], [1.0, \"#f0f921\"]], \"type\": \"surface\"}], \"table\": [{\"cells\": {\"fill\": {\"color\": \"#EBF0F8\"}, \"line\": {\"color\": \"white\"}}, \"header\": {\"fill\": {\"color\": \"#C8D4E3\"}, \"line\": {\"color\": \"white\"}}, \"type\": \"table\"}]}, \"layout\": {\"annotationdefaults\": {\"arrowcolor\": \"#2a3f5f\", \"arrowhead\": 0, \"arrowwidth\": 1}, \"coloraxis\": {\"colorbar\": {\"outlinewidth\": 0, \"ticks\": \"\"}}, \"colorscale\": {\"diverging\": [[0, \"#8e0152\"], [0.1, \"#c51b7d\"], [0.2, \"#de77ae\"], [0.3, \"#f1b6da\"], [0.4, \"#fde0ef\"], [0.5, \"#f7f7f7\"], [0.6, \"#e6f5d0\"], [0.7, \"#b8e186\"], [0.8, \"#7fbc41\"], [0.9, \"#4d9221\"], [1, \"#276419\"]], \"sequential\": [[0.0, \"#0d0887\"], [0.1111111111111111, \"#46039f\"], [0.2222222222222222, \"#7201a8\"], [0.3333333333333333, \"#9c179e\"], [0.4444444444444444, \"#bd3786\"], [0.5555555555555556, \"#d8576b\"], [0.6666666666666666, \"#ed7953\"], [0.7777777777777778, \"#fb9f3a\"], [0.8888888888888888, \"#fdca26\"], [1.0, \"#f0f921\"]], \"sequentialminus\": [[0.0, \"#0d0887\"], [0.1111111111111111, \"#46039f\"], [0.2222222222222222, \"#7201a8\"], [0.3333333333333333, \"#9c179e\"], [0.4444444444444444, \"#bd3786\"], [0.5555555555555556, \"#d8576b\"], [0.6666666666666666, \"#ed7953\"], [0.7777777777777778, \"#fb9f3a\"], [0.8888888888888888, \"#fdca26\"], [1.0, \"#f0f921\"]]}, \"colorway\": [\"#636efa\", \"#EF553B\", \"#00cc96\", \"#ab63fa\", \"#FFA15A\", \"#19d3f3\", \"#FF6692\", \"#B6E880\", \"#FF97FF\", \"#FECB52\"], \"font\": {\"color\": \"#2a3f5f\"}, \"geo\": {\"bgcolor\": \"white\", \"lakecolor\": \"white\", \"landcolor\": \"#E5ECF6\", \"showlakes\": true, \"showland\": true, \"subunitcolor\": \"white\"}, \"hoverlabel\": {\"align\": \"left\"}, \"hovermode\": \"closest\", \"mapbox\": {\"style\": \"light\"}, \"paper_bgcolor\": \"white\", \"plot_bgcolor\": \"#E5ECF6\", \"polar\": {\"angularaxis\": {\"gridcolor\": \"white\", \"linecolor\": \"white\", \"ticks\": \"\"}, \"bgcolor\": \"#E5ECF6\", \"radialaxis\": {\"gridcolor\": \"white\", \"linecolor\": \"white\", \"ticks\": \"\"}}, \"scene\": {\"xaxis\": {\"backgroundcolor\": \"#E5ECF6\", \"gridcolor\": \"white\", \"gridwidth\": 2, \"linecolor\": \"white\", \"showbackground\": true, \"ticks\": \"\", \"zerolinecolor\": \"white\"}, \"yaxis\": {\"backgroundcolor\": \"#E5ECF6\", \"gridcolor\": \"white\", \"gridwidth\": 2, \"linecolor\": \"white\", \"showbackground\": true, \"ticks\": \"\", \"zerolinecolor\": \"white\"}, \"zaxis\": {\"backgroundcolor\": \"#E5ECF6\", \"gridcolor\": \"white\", \"gridwidth\": 2, \"linecolor\": \"white\", \"showbackground\": true, \"ticks\": \"\", \"zerolinecolor\": \"white\"}}, \"shapedefaults\": {\"line\": {\"color\": \"#2a3f5f\"}}, \"ternary\": {\"aaxis\": {\"gridcolor\": \"white\", \"linecolor\": \"white\", \"ticks\": \"\"}, \"baxis\": {\"gridcolor\": \"white\", \"linecolor\": \"white\", \"ticks\": \"\"}, \"bgcolor\": \"#E5ECF6\", \"caxis\": {\"gridcolor\": \"white\", \"linecolor\": \"white\", \"ticks\": \"\"}}, \"title\": {\"x\": 0.05}, \"xaxis\": {\"automargin\": true, \"gridcolor\": \"white\", \"linecolor\": \"white\", \"ticks\": \"\", \"title\": {\"standoff\": 15}, \"zerolinecolor\": \"white\", \"zerolinewidth\": 2}, \"yaxis\": {\"automargin\": true, \"gridcolor\": \"white\", \"linecolor\": \"white\", \"ticks\": \"\", \"title\": {\"standoff\": 15}, \"zerolinecolor\": \"white\", \"zerolinewidth\": 2}}}, \"violinmode\": \"overlay\", \"xaxis\": {\"anchor\": \"y\", \"categoryarray\": [3, 1, 2], \"categoryorder\": \"array\", \"domain\": [0.0, 1.0], \"title\": {\"text\": \"Pclass\"}}, \"yaxis\": {\"anchor\": \"x\", \"domain\": [0.0, 1.0], \"title\": {\"text\": \"Age\"}}},\n",
       "                        {\"responsive\": true}\n",
       "                    ).then(function(){\n",
       "                            \n",
       "var gd = document.getElementById('c05b051d-5114-439a-b84b-d7b35a34632b');\n",
       "var x = new MutationObserver(function (mutations, observer) {{\n",
       "        var display = window.getComputedStyle(gd).display;\n",
       "        if (!display || display === 'none') {{\n",
       "            console.log([gd, 'removed!']);\n",
       "            Plotly.purge(gd);\n",
       "            observer.disconnect();\n",
       "        }}\n",
       "}});\n",
       "\n",
       "// Listen for the removal of the full notebook cells\n",
       "var notebookContainer = gd.closest('#notebook-container');\n",
       "if (notebookContainer) {{\n",
       "    x.observe(notebookContainer, {childList: true});\n",
       "}}\n",
       "\n",
       "// Listen for the clearing of the current output cell\n",
       "var outputEl = gd.closest('.output');\n",
       "if (outputEl) {{\n",
       "    x.observe(outputEl, {childList: true});\n",
       "}}\n",
       "\n",
       "                        })\n",
       "                };\n",
       "                });\n",
       "            </script>\n",
       "        </div>"
      ]
     },
     "metadata": {},
     "output_type": "display_data"
    }
   ],
   "source": [
    "#TRAINING SET\n",
    "import plotly.express as px\n",
    "px.violin(train, x='Pclass', y='Age', color='Pclass', box=True, hover_data=train)"
   ]
  },
  {
   "cell_type": "code",
   "execution_count": 14,
   "metadata": {},
   "outputs": [],
   "source": [
    "#Replacing NAN values with\n",
    "#Pclass=1, Age=37\n",
    "#Pclass=2, Age=29\n",
    "#Pclass=3, Age=24\n",
    "def fill_age(data):#data will consist of Age and Pclass respectively\n",
    "    age=data[0]\n",
    "    Pclass=data[1]\n",
    "    if pd.isnull(age):\n",
    "        if Pclass==1:  \n",
    "            return 37\n",
    "        elif Pclass==2:  \n",
    "            return 29\n",
    "        else:  \n",
    "            return 24\n",
    "    else:\n",
    "        return age"
   ]
  },
  {
   "cell_type": "code",
   "execution_count": 15,
   "metadata": {},
   "outputs": [],
   "source": [
    "train['Age']=train[['Age', 'Pclass']].apply(fill_age, axis=1)"
   ]
  },
  {
   "cell_type": "code",
   "execution_count": 16,
   "metadata": {},
   "outputs": [
    {
     "data": {
      "text/html": [
       "<div>\n",
       "        \n",
       "        \n",
       "            <div id=\"b6ea0ccc-ca07-4a31-bb2f-33ad5edc1cd2\" class=\"plotly-graph-div\" style=\"height:525px; width:100%;\"></div>\n",
       "            <script type=\"text/javascript\">\n",
       "                require([\"plotly\"], function(Plotly) {\n",
       "                    window.PLOTLYENV=window.PLOTLYENV || {};\n",
       "                    \n",
       "                if (document.getElementById(\"b6ea0ccc-ca07-4a31-bb2f-33ad5edc1cd2\")) {\n",
       "                    Plotly.newPlot(\n",
       "                        'b6ea0ccc-ca07-4a31-bb2f-33ad5edc1cd2',\n",
       "                        [{\"alignmentgroup\": \"True\", \"box\": {\"visible\": true}, \"customdata\": [[892, 3, \"Kelly, Mr. James\", \"male\", 34.5, 0, 0, \"330911\", 7.8292, null, \"Q\"], [893, 3, \"Wilkes, Mrs. James (Ellen Needs)\", \"female\", 47.0, 1, 0, \"363272\", 7.0, null, \"S\"], [895, 3, \"Wirz, Mr. Albert\", \"male\", 27.0, 0, 0, \"315154\", 8.6625, null, \"S\"], [896, 3, \"Hirvonen, Mrs. Alexander (Helga E Lindqvist)\", \"female\", 22.0, 1, 1, \"3101298\", 12.2875, null, \"S\"], [897, 3, \"Svensson, Mr. Johan Cervin\", \"male\", 14.0, 0, 0, \"7538\", 9.225, null, \"S\"], [898, 3, \"Connolly, Miss. Kate\", \"female\", 30.0, 0, 0, \"330972\", 7.6292, null, \"Q\"], [900, 3, \"Abrahim, Mrs. Joseph (Sophie Halaut Easu)\", \"female\", 18.0, 0, 0, \"2657\", 7.2292, null, \"C\"], [901, 3, \"Davies, Mr. John Samuel\", \"male\", 21.0, 2, 0, \"A/4 48871\", 24.15, null, \"S\"], [902, 3, \"Ilieff, Mr. Ylio\", \"male\", null, 0, 0, \"349220\", 7.8958, null, \"S\"], [909, 3, \"Assaf, Mr. Gerios\", \"male\", 21.0, 0, 0, \"2692\", 7.225, null, \"C\"], [910, 3, \"Ilmakangas, Miss. Ida Livija\", \"female\", 27.0, 1, 0, \"STON/O2. 3101270\", 7.925, null, \"S\"], [911, 3, \"Assaf Khalil, Mrs. Mariana (Miriam\\\")\\\"\", \"female\", 45.0, 0, 0, \"2696\", 7.225, null, \"C\"], [913, 3, \"Olsen, Master. Artur Karl\", \"male\", 9.0, 0, 1, \"C 17368\", 3.1708, null, \"S\"], [917, 3, \"Robins, Mr. Alexander A\", \"male\", 50.0, 1, 0, \"A/5. 3337\", 14.5, null, \"S\"], [919, 3, \"Daher, Mr. Shedid\", \"male\", 22.5, 0, 0, \"2698\", 7.225, null, \"C\"], [921, 3, \"Samaan, Mr. Elias\", \"male\", null, 2, 0, \"2662\", 21.6792, null, \"C\"], [924, 3, \"Dean, Mrs. Bertram (Eva Georgetta Light)\", \"female\", 33.0, 1, 2, \"C.A. 2315\", 20.575, null, \"S\"], [925, 3, \"Johnston, Mrs. Andrew G (Elizabeth Lily\\\" Watson)\\\"\", \"female\", null, 1, 2, \"W./C. 6607\", 23.45, null, \"S\"], [927, 3, \"Katavelas, Mr. Vassilios (Catavelas Vassilios\\\")\\\"\", \"male\", 18.5, 0, 0, \"2682\", 7.2292, null, \"C\"], [928, 3, \"Roth, Miss. Sarah A\", \"female\", null, 0, 0, \"342712\", 8.05, null, \"S\"], [929, 3, \"Cacic, Miss. Manda\", \"female\", 21.0, 0, 0, \"315087\", 8.6625, null, \"S\"], [930, 3, \"Sap, Mr. Julius\", \"male\", 25.0, 0, 0, \"345768\", 9.5, null, \"S\"], [931, 3, \"Hee, Mr. Ling\", \"male\", null, 0, 0, \"1601\", 56.4958, null, \"S\"], [932, 3, \"Karun, Mr. Franz\", \"male\", 39.0, 0, 1, \"349256\", 13.4167, null, \"C\"], [934, 3, \"Goldsmith, Mr. Nathan\", \"male\", 41.0, 0, 0, \"SOTON/O.Q. 3101263\", 7.85, null, \"S\"], [937, 3, \"Peltomaki, Mr. Nikolai Johannes\", \"male\", 25.0, 0, 0, \"STON/O 2. 3101291\", 7.925, null, \"S\"], [939, 3, \"Shaughnessy, Mr. Patrick\", \"male\", null, 0, 0, \"370374\", 7.75, null, \"Q\"], [941, 3, \"Coutts, Mrs. William (Winnie Minnie\\\" Treanor)\\\"\", \"female\", 36.0, 0, 2, \"C.A. 37671\", 15.9, null, \"S\"], [947, 3, \"Rice, Master. Albert\", \"male\", 10.0, 4, 1, \"382652\", 29.125, null, \"Q\"], [948, 3, \"Cor, Mr. Bartol\", \"male\", 35.0, 0, 0, \"349230\", 7.8958, null, \"S\"], [949, 3, \"Abelseth, Mr. Olaus Jorgensen\", \"male\", 25.0, 0, 0, \"348122\", 7.65, \"F G63\", \"S\"], [950, 3, \"Davison, Mr. Thomas Henry\", \"male\", null, 1, 0, \"386525\", 16.1, null, \"S\"], [952, 3, \"Dika, Mr. Mirko\", \"male\", 17.0, 0, 0, \"349232\", 7.8958, null, \"S\"], [954, 3, \"Bjorklund, Mr. Ernst Herbert\", \"male\", 18.0, 0, 0, \"347090\", 7.75, null, \"S\"], [955, 3, \"Bradley, Miss. Bridget Delia\", \"female\", 22.0, 0, 0, \"334914\", 7.725, null, \"Q\"], [958, 3, \"Burns, Miss. Mary Delia\", \"female\", 18.0, 0, 0, \"330963\", 7.8792, null, \"Q\"], [962, 3, \"Mulvihill, Miss. Bertha E\", \"female\", 24.0, 0, 0, \"382653\", 7.75, null, \"Q\"], [963, 3, \"Minkoff, Mr. Lazar\", \"male\", 21.0, 0, 0, \"349211\", 7.8958, null, \"S\"], [964, 3, \"Nieminen, Miss. Manta Josefina\", \"female\", 29.0, 0, 0, \"3101297\", 7.925, null, \"S\"], [968, 3, \"Miles, Mr. Frank\", \"male\", null, 0, 0, \"359306\", 8.05, null, \"S\"], [971, 3, \"Doyle, Miss. Elizabeth\", \"female\", 24.0, 0, 0, \"368702\", 7.75, null, \"Q\"], [972, 3, \"Boulos, Master. Akar\", \"male\", 6.0, 1, 1, \"2678\", 15.2458, null, \"C\"], [975, 3, \"Demetri, Mr. Marinko\", \"male\", null, 0, 0, \"349238\", 7.8958, null, \"S\"], [977, 3, \"Khalil, Mr. Betros\", \"male\", null, 1, 0, \"2660\", 14.4542, null, \"C\"], [978, 3, \"Barry, Miss. Julia\", \"female\", 27.0, 0, 0, \"330844\", 7.8792, null, \"Q\"], [979, 3, \"Badman, Miss. Emily Louisa\", \"female\", 18.0, 0, 0, \"A/4 31416\", 8.05, null, \"S\"], [980, 3, \"O'Donoghue, Ms. Bridget\", \"female\", null, 0, 0, \"364856\", 7.75, null, \"Q\"], [982, 3, \"Dyker, Mrs. Adolf Fredrik (Anna Elisabeth Judith Andersson)\", \"female\", 22.0, 1, 0, \"347072\", 13.9, null, \"S\"], [983, 3, \"Pedersen, Mr. Olaf\", \"male\", null, 0, 0, \"345498\", 7.775, null, \"S\"], [985, 3, \"Guest, Mr. Robert\", \"male\", null, 0, 0, \"376563\", 8.05, null, \"S\"], [987, 3, \"Tenglin, Mr. Gunnar Isidor\", \"male\", 25.0, 0, 0, \"350033\", 7.7958, null, \"S\"], [989, 3, \"Makinen, Mr. Kalle Edvard\", \"male\", 29.0, 0, 0, \"STON/O 2. 3101268\", 7.925, null, \"S\"], [990, 3, \"Braf, Miss. Elin Ester Maria\", \"female\", 20.0, 0, 0, \"347471\", 7.8542, null, \"S\"], [991, 3, \"Nancarrow, Mr. William Henry\", \"male\", 33.0, 0, 0, \"A./5. 3338\", 8.05, null, \"S\"], [994, 3, \"Foley, Mr. William\", \"male\", null, 0, 0, \"365235\", 7.75, null, \"Q\"], [995, 3, \"Johansson Palmquist, Mr. Oskar Leander\", \"male\", 26.0, 0, 0, \"347070\", 7.775, null, \"S\"], [996, 3, \"Thomas, Mrs. Alexander (Thamine Thelma\\\")\\\"\", \"female\", 16.0, 1, 1, \"2625\", 8.5167, null, \"C\"], [997, 3, \"Holthen, Mr. Johan Martin\", \"male\", 28.0, 0, 0, \"C 4001\", 22.525, null, \"S\"], [998, 3, \"Buckley, Mr. Daniel\", \"male\", 21.0, 0, 0, \"330920\", 7.8208, null, \"Q\"], [999, 3, \"Ryan, Mr. Edward\", \"male\", null, 0, 0, \"383162\", 7.75, null, \"Q\"], [1000, 3, \"Willer, Mr. Aaron (Abi Weller\\\")\\\"\", \"male\", null, 0, 0, \"3410\", 8.7125, null, \"S\"], [1003, 3, \"Shine, Miss. Ellen Natalia\", \"female\", null, 0, 0, \"330968\", 7.7792, null, \"Q\"], [1005, 3, \"Buckley, Miss. Katherine\", \"female\", 18.5, 0, 0, \"329944\", 7.2833, null, \"Q\"], [1007, 3, \"Chronopoulos, Mr. Demetrios\", \"male\", 18.0, 1, 0, \"2680\", 14.4542, null, \"C\"], [1008, 3, \"Thomas, Mr. John\", \"male\", null, 0, 0, \"2681\", 6.4375, null, \"C\"], [1009, 3, \"Sandstrom, Miss. Beatrice Irene\", \"female\", 1.0, 1, 1, \"PP 9549\", 16.7, \"G6\", \"S\"], [1013, 3, \"Kiernan, Mr. John\", \"male\", null, 1, 0, \"367227\", 7.75, null, \"Q\"], [1015, 3, \"Carver, Mr. Alfred John\", \"male\", 28.0, 0, 0, \"392095\", 7.25, null, \"S\"], [1016, 3, \"Kennedy, Mr. John\", \"male\", null, 0, 0, \"368783\", 7.75, null, \"Q\"], [1017, 3, \"Cribb, Miss. Laura Alice\", \"female\", 17.0, 0, 1, \"371362\", 16.1, null, \"S\"], [1018, 3, \"Brobeck, Mr. Karl Rudolf\", \"male\", 22.0, 0, 0, \"350045\", 7.7958, null, \"S\"], [1019, 3, \"McCoy, Miss. Alicia\", \"female\", null, 2, 0, \"367226\", 23.25, null, \"Q\"], [1021, 3, \"Petersen, Mr. Marius\", \"male\", 24.0, 0, 0, \"342441\", 8.05, null, \"S\"], [1022, 3, \"Spinner, Mr. Henry John\", \"male\", 32.0, 0, 0, \"STON/OQ. 369943\", 8.05, null, \"S\"], [1024, 3, \"Lefebre, Mrs. Frank (Frances)\", \"female\", null, 0, 4, \"4133\", 25.4667, null, \"S\"], [1025, 3, \"Thomas, Mr. Charles P\", \"male\", null, 1, 0, \"2621\", 6.4375, null, \"C\"], [1026, 3, \"Dintcheff, Mr. Valtcho\", \"male\", 43.0, 0, 0, \"349226\", 7.8958, null, \"S\"], [1027, 3, \"Carlsson, Mr. Carl Robert\", \"male\", 24.0, 0, 0, \"350409\", 7.8542, null, \"S\"], [1028, 3, \"Zakarian, Mr. Mapriededer\", \"male\", 26.5, 0, 0, \"2656\", 7.225, null, \"C\"], [1030, 3, \"Drapkin, Miss. Jennie\", \"female\", 23.0, 0, 0, \"SOTON/OQ 392083\", 8.05, null, \"S\"], [1031, 3, \"Goodwin, Mr. Charles Frederick\", \"male\", 40.0, 1, 6, \"CA 2144\", 46.9, null, \"S\"], [1032, 3, \"Goodwin, Miss. Jessie Allis\", \"female\", 10.0, 5, 2, \"CA 2144\", 46.9, null, \"S\"], [1037, 3, \"Vander Planke, Mr. Julius\", \"male\", 31.0, 3, 0, \"345763\", 18.0, null, \"S\"], [1039, 3, \"Davies, Mr. Evan\", \"male\", 22.0, 0, 0, \"SC/A4 23568\", 8.05, null, \"S\"], [1043, 3, \"Matinoff, Mr. Nicola\", \"male\", null, 0, 0, \"349255\", 7.8958, null, \"C\"], [1044, 3, \"Storey, Mr. Thomas\", \"male\", 60.5, 0, 0, \"3701\", null, null, \"S\"], [1045, 3, \"Klasen, Mrs. (Hulda Kristina Eugenia Lofqvist)\", \"female\", 36.0, 0, 2, \"350405\", 12.1833, null, \"S\"], [1046, 3, \"Asplund, Master. Filip Oscar\", \"male\", 13.0, 4, 2, \"347077\", 31.3875, null, \"S\"], [1047, 3, \"Duquemin, Mr. Joseph\", \"male\", 24.0, 0, 0, \"S.O./P.P. 752\", 7.55, null, \"S\"], [1049, 3, \"Lundin, Miss. Olga Elida\", \"female\", 23.0, 0, 0, \"347469\", 7.8542, null, \"S\"], [1051, 3, \"Peacock, Mrs. Benjamin (Edith Nile)\", \"female\", 26.0, 0, 2, \"SOTON/O.Q. 3101315\", 13.775, null, \"S\"], [1052, 3, \"Smyth, Miss. Julia\", \"female\", null, 0, 0, \"335432\", 7.7333, null, \"Q\"], [1053, 3, \"Touma, Master. Georges Youssef\", \"male\", 7.0, 1, 1, \"2650\", 15.2458, null, \"C\"], [1055, 3, \"Pearce, Mr. Ernest\", \"male\", null, 0, 0, \"343271\", 7.0, null, \"S\"], [1057, 3, \"Kink-Heilmann, Mrs. Anton (Luise Heilmann)\", \"female\", 26.0, 1, 1, \"315153\", 22.025, null, \"S\"], [1059, 3, \"Ford, Mr. Edward Watson\", \"male\", 18.0, 2, 2, \"W./C. 6608\", 34.375, null, \"S\"], [1061, 3, \"Hellstrom, Miss. Hilda Maria\", \"female\", 22.0, 0, 0, \"7548\", 8.9625, null, \"S\"], [1062, 3, \"Lithman, Mr. Simon\", \"male\", null, 0, 0, \"S.O./P.P. 251\", 7.55, null, \"S\"], [1063, 3, \"Zakarian, Mr. Ortin\", \"male\", 27.0, 0, 0, \"2670\", 7.225, null, \"C\"], [1064, 3, \"Dyker, Mr. Adolf Fredrik\", \"male\", 23.0, 1, 0, \"347072\", 13.9, null, \"S\"], [1065, 3, \"Torfa, Mr. Assad\", \"male\", null, 0, 0, \"2673\", 7.2292, null, \"C\"], [1066, 3, \"Asplund, Mr. Carl Oscar Vilhelm Gustafsson\", \"male\", 40.0, 1, 5, \"347077\", 31.3875, null, \"S\"], [1075, 3, \"Lane, Mr. Patrick\", \"male\", null, 0, 0, \"7935\", 7.75, null, \"Q\"], [1079, 3, \"Davies, Mr. Joseph\", \"male\", 17.0, 2, 0, \"A/4 48873\", 8.05, null, \"S\"], [1080, 3, \"Sage, Miss. Ada\", \"female\", null, 8, 2, \"CA. 2343\", 69.55, null, \"S\"], [1084, 3, \"van Billiard, Master. Walter John\", \"male\", 11.5, 1, 1, \"A/5. 851\", 14.5, null, \"S\"], [1087, 3, \"Karlsson, Mr. Julius Konrad Eugen\", \"male\", 33.0, 0, 0, \"347465\", 7.8542, null, \"S\"], [1089, 3, \"Nilsson, Miss. Berta Olivia\", \"female\", 18.0, 0, 0, \"347066\", 7.775, null, \"S\"], [1091, 3, \"Rasmussen, Mrs. (Lena Jacobsen Solvang)\", \"female\", null, 0, 0, \"65305\", 8.1125, null, \"S\"], [1092, 3, \"Murphy, Miss. Nora\", \"female\", null, 0, 0, \"36568\", 15.5, null, \"Q\"], [1093, 3, \"Danbom, Master. Gilbert Sigvard Emanuel\", \"male\", 0.33, 0, 2, \"347080\", 14.4, null, \"S\"], [1098, 3, \"McGowan, Miss. Katherine\", \"female\", 35.0, 0, 0, \"9232\", 7.75, null, \"Q\"], [1101, 3, \"Delalic, Mr. Redjo\", \"male\", 25.0, 0, 0, \"349250\", 7.8958, null, \"S\"], [1102, 3, \"Andersen, Mr. Albert Karvin\", \"male\", 32.0, 0, 0, \"C 4001\", 22.525, null, \"S\"], [1103, 3, \"Finoli, Mr. Luigi\", \"male\", null, 0, 0, \"SOTON/O.Q. 3101308\", 7.05, null, \"S\"], [1106, 3, \"Andersson, Miss. Ida Augusta Margareta\", \"female\", 38.0, 4, 2, \"347091\", 7.775, null, \"S\"], [1108, 3, \"Mahon, Miss. Bridget Delia\", \"female\", null, 0, 0, \"330924\", 7.8792, null, \"Q\"], [1111, 3, \"Thomson, Mr. Alexander Morrison\", \"male\", null, 0, 0, \"32302\", 8.05, null, \"S\"], [1113, 3, \"Reynolds, Mr. Harold J\", \"male\", 21.0, 0, 0, \"342684\", 8.05, null, \"S\"], [1115, 3, \"Karlsson, Mr. Einar Gervasius\", \"male\", 21.0, 0, 0, \"350053\", 7.7958, null, \"S\"], [1117, 3, \"Moubarek, Mrs. George (Omine Amenia\\\" Alexander)\\\"\", \"female\", null, 0, 2, \"2661\", 15.2458, null, \"C\"], [1118, 3, \"Asplund, Mr. Johan Charles\", \"male\", 23.0, 0, 0, \"350054\", 7.7958, null, \"S\"], [1119, 3, \"McNeill, Miss. Bridget\", \"female\", null, 0, 0, \"370368\", 7.75, null, \"Q\"], [1120, 3, \"Everett, Mr. Thomas James\", \"male\", 40.5, 0, 0, \"C.A. 6212\", 15.1, null, \"S\"], [1124, 3, \"Wiklund, Mr. Karl Johan\", \"male\", 21.0, 1, 0, \"3101266\", 6.4958, null, \"S\"], [1125, 3, \"Linehan, Mr. Michael\", \"male\", null, 0, 0, \"330971\", 7.8792, null, \"Q\"], [1127, 3, \"Vendel, Mr. Olof Edvin\", \"male\", 20.0, 0, 0, \"350416\", 7.8542, null, \"S\"], [1129, 3, \"Baccos, Mr. Raffull\", \"male\", 20.0, 0, 0, \"2679\", 7.225, null, \"C\"], [1135, 3, \"Hyman, Mr. Abraham\", \"male\", null, 0, 0, \"3470\", 7.8875, null, \"S\"], [1136, 3, \"Johnston, Master. William Arthur Willie\\\"\\\"\", \"male\", null, 1, 2, \"W./C. 6607\", 23.45, null, \"S\"], [1141, 3, \"Khalil, Mrs. Betros (Zahie Maria\\\" Elias)\\\"\", \"female\", null, 1, 0, \"2660\", 14.4542, null, \"C\"], [1143, 3, \"Abrahamsson, Mr. Abraham August Johannes\", \"male\", 20.0, 0, 0, \"SOTON/O2 3101284\", 7.925, null, \"S\"], [1145, 3, \"Salander, Mr. Karl Johan\", \"male\", 24.0, 0, 0, \"7266\", 9.325, null, \"S\"], [1146, 3, \"Wenzel, Mr. Linhart\", \"male\", 32.5, 0, 0, \"345775\", 9.5, null, \"S\"], [1147, 3, \"MacKay, Mr. George William\", \"male\", null, 0, 0, \"C.A. 42795\", 7.55, null, \"S\"], [1148, 3, \"Mahon, Mr. John\", \"male\", null, 0, 0, \"AQ/4 3130\", 7.75, null, \"Q\"], [1149, 3, \"Niklasson, Mr. Samuel\", \"male\", 28.0, 0, 0, \"363611\", 8.05, null, \"S\"], [1151, 3, \"Midtsjo, Mr. Karl Albert\", \"male\", 21.0, 0, 0, \"345501\", 7.775, null, \"S\"], [1152, 3, \"de Messemaeker, Mr. Guillaume Joseph\", \"male\", 36.5, 1, 0, \"345572\", 17.4, null, \"S\"], [1153, 3, \"Nilsson, Mr. August Ferdinand\", \"male\", 21.0, 0, 0, \"350410\", 7.8542, null, \"S\"], [1155, 3, \"Klasen, Miss. Gertrud Emilia\", \"female\", 1.0, 1, 1, \"350405\", 12.1833, null, \"S\"], [1157, 3, \"Lyntakoff, Mr. Stanko\", \"male\", null, 0, 0, \"349235\", 7.8958, null, \"S\"], [1159, 3, \"Warren, Mr. Charles William\", \"male\", null, 0, 0, \"C.A. 49867\", 7.55, null, \"S\"], [1160, 3, \"Howard, Miss. May Elizabeth\", \"female\", null, 0, 0, \"A. 2. 39186\", 8.05, null, \"S\"], [1161, 3, \"Pokrnic, Mr. Mate\", \"male\", 17.0, 0, 0, \"315095\", 8.6625, null, \"S\"], [1163, 3, \"Fox, Mr. Patrick\", \"male\", null, 0, 0, \"368573\", 7.75, null, \"Q\"], [1165, 3, \"Lennon, Miss. Mary\", \"female\", null, 1, 0, \"370371\", 15.5, null, \"Q\"], [1166, 3, \"Saade, Mr. Jean Nassr\", \"male\", null, 0, 0, \"2676\", 7.225, null, \"C\"], [1172, 3, \"Oreskovic, Miss. Jelka\", \"female\", 23.0, 0, 0, \"315085\", 8.6625, null, \"S\"], [1173, 3, \"Peacock, Master. Alfred Edward\", \"male\", 0.75, 1, 1, \"SOTON/O.Q. 3101315\", 13.775, null, \"S\"], [1174, 3, \"Fleming, Miss. Honora\", \"female\", null, 0, 0, \"364859\", 7.75, null, \"Q\"], [1175, 3, \"Touma, Miss. Maria Youssef\", \"female\", 9.0, 1, 1, \"2650\", 15.2458, null, \"C\"], [1176, 3, \"Rosblom, Miss. Salli Helena\", \"female\", 2.0, 1, 1, \"370129\", 20.2125, null, \"S\"], [1177, 3, \"Dennis, Mr. William\", \"male\", 36.0, 0, 0, \"A/5 21175\", 7.25, null, \"S\"], [1178, 3, \"Franklin, Mr. Charles (Charles Fardon)\", \"male\", null, 0, 0, \"SOTON/O.Q. 3101314\", 7.25, null, \"S\"], [1180, 3, \"Mardirosian, Mr. Sarkis\", \"male\", null, 0, 0, \"2655\", 7.2292, \"F E46\", \"C\"], [1181, 3, \"Ford, Mr. Arthur\", \"male\", null, 0, 0, \"A/5 1478\", 8.05, null, \"S\"], [1183, 3, \"Daly, Miss. Margaret Marcella Maggie\\\"\\\"\", \"female\", 30.0, 0, 0, \"382650\", 6.95, null, \"Q\"], [1184, 3, \"Nasr, Mr. Mustafa\", \"male\", null, 0, 0, \"2652\", 7.2292, null, \"C\"], [1186, 3, \"Wittevrongel, Mr. Camille\", \"male\", 36.0, 0, 0, \"345771\", 9.5, null, \"S\"], [1187, 3, \"Angheloff, Mr. Minko\", \"male\", 26.0, 0, 0, \"349202\", 7.8958, null, \"S\"], [1189, 3, \"Samaan, Mr. Hanna\", \"male\", null, 2, 0, \"2662\", 21.6792, null, \"C\"], [1191, 3, \"Johansson, Mr. Nils\", \"male\", 29.0, 0, 0, \"347467\", 7.8542, null, \"S\"], [1192, 3, \"Olsson, Mr. Oscar Wilhelm\", \"male\", 32.0, 0, 0, \"347079\", 7.775, null, \"S\"], [1195, 3, \"Pokrnic, Mr. Tome\", \"male\", 24.0, 0, 0, \"315092\", 8.6625, null, \"S\"], [1196, 3, \"McCarthy, Miss. Catherine Katie\\\"\\\"\", \"female\", null, 0, 0, \"383123\", 7.75, null, \"Q\"], [1199, 3, \"Aks, Master. Philip Frank\", \"male\", 0.83, 0, 1, \"392091\", 9.35, null, \"S\"], [1201, 3, \"Hansen, Mrs. Claus Peter (Jennie L Howard)\", \"female\", 45.0, 1, 0, \"350026\", 14.1083, null, \"S\"], [1202, 3, \"Cacic, Mr. Jego Grga\", \"male\", 18.0, 0, 0, \"315091\", 8.6625, null, \"S\"], [1203, 3, \"Vartanian, Mr. David\", \"male\", 22.0, 0, 0, \"2658\", 7.225, null, \"C\"], [1204, 3, \"Sadowitz, Mr. Harry\", \"male\", null, 0, 0, \"LP 1588\", 7.575, null, \"S\"], [1205, 3, \"Carr, Miss. Jeannie\", \"female\", 37.0, 0, 0, \"368364\", 7.75, null, \"Q\"], [1207, 3, \"Hagardon, Miss. Kate\", \"female\", 17.0, 0, 0, \"AQ/3. 30631\", 7.7333, null, \"Q\"], [1210, 3, \"Jonsson, Mr. Nils Hilding\", \"male\", 27.0, 0, 0, \"350408\", 7.8542, null, \"S\"], [1212, 3, \"Andersson, Mr. Johan Samuel\", \"male\", 26.0, 0, 0, \"347075\", 7.775, null, \"S\"], [1213, 3, \"Krekorian, Mr. Neshan\", \"male\", 25.0, 0, 0, \"2654\", 7.2292, \"F E57\", \"C\"], [1217, 3, \"Assam, Mr. Ali\", \"male\", 23.0, 0, 0, \"SOTON/O.Q. 3101309\", 7.05, null, \"S\"], [1224, 3, \"Thomas, Mr. Tannous\", \"male\", null, 0, 0, \"2684\", 7.225, null, \"C\"], [1225, 3, \"Nakid, Mrs. Said (Waika Mary\\\" Mowad)\\\"\", \"female\", 19.0, 1, 1, \"2653\", 15.7417, null, \"C\"], [1226, 3, \"Cor, Mr. Ivan\", \"male\", 27.0, 0, 0, \"349229\", 7.8958, null, \"S\"], [1229, 3, \"Elias, Mr. Joseph\", \"male\", 39.0, 0, 2, \"2675\", 7.2292, null, \"C\"], [1231, 3, \"Betros, Master. Seman\", \"male\", null, 0, 0, \"2622\", 7.2292, null, \"C\"], [1233, 3, \"Lundstrom, Mr. Thure Edvin\", \"male\", 32.0, 0, 0, \"350403\", 7.5792, null, \"S\"], [1234, 3, \"Sage, Mr. John George\", \"male\", null, 1, 9, \"CA. 2343\", 69.55, null, \"S\"], [1236, 3, \"van Billiard, Master. James William\", \"male\", null, 1, 1, \"A/5. 851\", 14.5, null, \"S\"], [1237, 3, \"Abelseth, Miss. Karen Marie\", \"female\", 16.0, 0, 0, \"348125\", 7.65, null, \"S\"], [1239, 3, \"Whabee, Mrs. George Joseph (Shawneene Abi-Saab)\", \"female\", 38.0, 0, 0, \"2688\", 7.2292, null, \"C\"], [1246, 3, \"Dean, Miss. Elizabeth Gladys Millvina\\\"\\\"\", \"female\", 0.17, 1, 2, \"C.A. 2315\", 20.575, null, \"S\"], [1249, 3, \"Lockyer, Mr. Edward\", \"male\", null, 0, 0, \"1222\", 7.8792, null, \"S\"], [1250, 3, \"O'Keefe, Mr. Patrick\", \"male\", null, 0, 0, \"368402\", 7.75, null, \"Q\"], [1251, 3, \"Lindell, Mrs. Edvard Bengtsson (Elin Gerda Persson)\", \"female\", 30.0, 1, 0, \"349910\", 15.55, null, \"S\"], [1252, 3, \"Sage, Master. William Henry\", \"male\", 14.5, 8, 2, \"CA. 2343\", 69.55, null, \"S\"], [1255, 3, \"Strilic, Mr. Ivan\", \"male\", 27.0, 0, 0, \"315083\", 8.6625, null, \"S\"], [1257, 3, \"Sage, Mrs. John (Annie Bullen)\", \"female\", null, 1, 9, \"CA. 2343\", 69.55, null, \"S\"], [1258, 3, \"Caram, Mr. Joseph\", \"male\", null, 1, 0, \"2689\", 14.4583, null, \"C\"], [1259, 3, \"Riihivouri, Miss. Susanna Juhantytar Sanni\\\"\\\"\", \"female\", 22.0, 0, 0, \"3101295\", 39.6875, null, \"S\"], [1268, 3, \"Kink, Miss. Maria\", \"female\", 22.0, 2, 0, \"315152\", 8.6625, null, \"S\"], [1271, 3, \"Asplund, Master. Carl Edgar\", \"male\", 5.0, 4, 2, \"347077\", 31.3875, null, \"S\"], [1272, 3, \"O'Connor, Mr. Patrick\", \"male\", null, 0, 0, \"366713\", 7.75, null, \"Q\"], [1273, 3, \"Foley, Mr. Joseph\", \"male\", 26.0, 0, 0, \"330910\", 7.8792, null, \"Q\"], [1274, 3, \"Risien, Mrs. Samuel (Emma)\", \"female\", null, 0, 0, \"364498\", 14.5, null, \"S\"], [1275, 3, \"McNamee, Mrs. Neal (Eileen O'Leary)\", \"female\", 19.0, 1, 0, \"376566\", 16.1, null, \"S\"], [1278, 3, \"Aronsson, Mr. Ernst Axel Algot\", \"male\", 24.0, 0, 0, \"349911\", 7.775, null, \"S\"], [1280, 3, \"Canavan, Mr. Patrick\", \"male\", 21.0, 0, 0, \"364858\", 7.75, null, \"Q\"], [1281, 3, \"Palsson, Master. Paul Folke\", \"male\", 6.0, 3, 1, \"349909\", 21.075, null, \"S\"], [1284, 3, \"Abbott, Master. Eugene Joseph\", \"male\", 13.0, 0, 2, \"C.A. 2673\", 20.25, null, \"S\"], [1286, 3, \"Kink-Heilmann, Mr. Anton\", \"male\", 29.0, 3, 1, \"315153\", 22.025, null, \"S\"], [1288, 3, \"Colbert, Mr. Patrick\", \"male\", 24.0, 0, 0, \"371109\", 7.25, null, \"Q\"], [1290, 3, \"Larsson-Rondberg, Mr. Edvard A\", \"male\", 22.0, 0, 0, \"347065\", 7.775, null, \"S\"], [1291, 3, \"Conlon, Mr. Thomas Henry\", \"male\", 31.0, 0, 0, \"21332\", 7.7333, null, \"Q\"], [1300, 3, \"Riordan, Miss. Johanna Hannah\\\"\\\"\", \"female\", null, 0, 0, \"334915\", 7.7208, null, \"Q\"], [1301, 3, \"Peacock, Miss. Treasteall\", \"female\", 3.0, 1, 1, \"SOTON/O.Q. 3101315\", 13.775, null, \"S\"], [1302, 3, \"Naughton, Miss. Hannah\", \"female\", null, 0, 0, \"365237\", 7.75, null, \"Q\"], [1304, 3, \"Henriksson, Miss. Jenny Lovisa\", \"female\", 28.0, 0, 0, \"347086\", 7.775, null, \"S\"], [1305, 3, \"Spector, Mr. Woolf\", \"male\", null, 0, 0, \"A.5. 3236\", 8.05, null, \"S\"], [1307, 3, \"Saether, Mr. Simon Sivertsen\", \"male\", 38.5, 0, 0, \"SOTON/O.Q. 3101262\", 7.25, null, \"S\"], [1308, 3, \"Ware, Mr. Frederick\", \"male\", null, 0, 0, \"359309\", 8.05, null, \"S\"], [1309, 3, \"Peter, Master. Michael J\", \"male\", null, 1, 1, \"2668\", 22.3583, null, \"C\"]], \"hovertemplate\": \"Pclass=%{customdata[1]}<br>Age=%{customdata[4]}<br>PassengerId=%{customdata[0]}<br>Name=%{customdata[2]}<br>Sex=%{customdata[3]}<br>SibSp=%{customdata[5]}<br>Parch=%{customdata[6]}<br>Ticket=%{customdata[7]}<br>Fare=%{customdata[8]}<br>Cabin=%{customdata[9]}<br>Embarked=%{customdata[10]}<extra></extra>\", \"legendgroup\": \"3\", \"marker\": {\"color\": \"#636efa\"}, \"name\": \"3\", \"offsetgroup\": \"3\", \"orientation\": \"v\", \"scalegroup\": \"True\", \"showlegend\": true, \"type\": \"violin\", \"x\": [3, 3, 3, 3, 3, 3, 3, 3, 3, 3, 3, 3, 3, 3, 3, 3, 3, 3, 3, 3, 3, 3, 3, 3, 3, 3, 3, 3, 3, 3, 3, 3, 3, 3, 3, 3, 3, 3, 3, 3, 3, 3, 3, 3, 3, 3, 3, 3, 3, 3, 3, 3, 3, 3, 3, 3, 3, 3, 3, 3, 3, 3, 3, 3, 3, 3, 3, 3, 3, 3, 3, 3, 3, 3, 3, 3, 3, 3, 3, 3, 3, 3, 3, 3, 3, 3, 3, 3, 3, 3, 3, 3, 3, 3, 3, 3, 3, 3, 3, 3, 3, 3, 3, 3, 3, 3, 3, 3, 3, 3, 3, 3, 3, 3, 3, 3, 3, 3, 3, 3, 3, 3, 3, 3, 3, 3, 3, 3, 3, 3, 3, 3, 3, 3, 3, 3, 3, 3, 3, 3, 3, 3, 3, 3, 3, 3, 3, 3, 3, 3, 3, 3, 3, 3, 3, 3, 3, 3, 3, 3, 3, 3, 3, 3, 3, 3, 3, 3, 3, 3, 3, 3, 3, 3, 3, 3, 3, 3, 3, 3, 3, 3, 3, 3, 3, 3, 3, 3, 3, 3, 3, 3, 3, 3, 3, 3, 3, 3, 3, 3, 3, 3, 3, 3, 3, 3, 3, 3, 3, 3, 3, 3, 3, 3, 3, 3, 3, 3], \"x0\": \" \", \"xaxis\": \"x\", \"y\": [34.5, 47.0, 27.0, 22.0, 14.0, 30.0, 18.0, 21.0, null, 21.0, 27.0, 45.0, 9.0, 50.0, 22.5, null, 33.0, null, 18.5, null, 21.0, 25.0, null, 39.0, 41.0, 25.0, null, 36.0, 10.0, 35.0, 25.0, null, 17.0, 18.0, 22.0, 18.0, 24.0, 21.0, 29.0, null, 24.0, 6.0, null, null, 27.0, 18.0, null, 22.0, null, null, 25.0, 29.0, 20.0, 33.0, null, 26.0, 16.0, 28.0, 21.0, null, null, null, 18.5, 18.0, null, 1.0, null, 28.0, null, 17.0, 22.0, null, 24.0, 32.0, null, null, 43.0, 24.0, 26.5, 23.0, 40.0, 10.0, 31.0, 22.0, null, 60.5, 36.0, 13.0, 24.0, 23.0, 26.0, null, 7.0, null, 26.0, 18.0, 22.0, null, 27.0, 23.0, null, 40.0, null, 17.0, null, 11.5, 33.0, 18.0, null, null, 0.33, 35.0, 25.0, 32.0, null, 38.0, null, null, 21.0, 21.0, null, 23.0, null, 40.5, 21.0, null, 20.0, 20.0, null, null, null, 20.0, 24.0, 32.5, null, null, 28.0, 21.0, 36.5, 21.0, 1.0, null, null, null, 17.0, null, null, null, 23.0, 0.75, null, 9.0, 2.0, 36.0, null, null, null, 30.0, null, 36.0, 26.0, null, 29.0, 32.0, 24.0, null, 0.83, 45.0, 18.0, 22.0, null, 37.0, 17.0, 27.0, 26.0, 25.0, 23.0, null, 19.0, 27.0, 39.0, null, 32.0, null, null, 16.0, 38.0, 0.17, null, null, 30.0, 14.5, 27.0, null, null, 22.0, 22.0, 5.0, null, 26.0, null, 19.0, 24.0, 21.0, 6.0, 13.0, 29.0, 24.0, 22.0, 31.0, null, 3.0, null, 28.0, null, 38.5, null, null], \"y0\": \" \", \"yaxis\": \"y\"}, {\"alignmentgroup\": \"True\", \"box\": {\"visible\": true}, \"customdata\": [[894, 2, \"Myles, Mr. Thomas Francis\", \"male\", 62.0, 0, 0, \"240276\", 9.6875, null, \"Q\"], [899, 2, \"Caldwell, Mr. Albert Francis\", \"male\", 26.0, 1, 1, \"248738\", 29.0, null, \"S\"], [905, 2, \"Howard, Mr. Benjamin\", \"male\", 63.0, 1, 0, \"24065\", 26.0, null, \"S\"], [907, 2, \"del Carlo, Mrs. Sebastiano (Argenia Genovesi)\", \"female\", 24.0, 1, 0, \"SC/PARIS 2167\", 27.7208, null, \"C\"], [908, 2, \"Keane, Mr. Daniel\", \"male\", 35.0, 0, 0, \"233734\", 12.35, null, \"Q\"], [922, 2, \"Louch, Mr. Charles Alexander\", \"male\", 50.0, 1, 0, \"SC/AH 3085\", 26.0, null, \"S\"], [923, 2, \"Jefferys, Mr. Clifford Thomas\", \"male\", 24.0, 2, 0, \"C.A. 31029\", 31.5, null, \"S\"], [935, 2, \"Corbett, Mrs. Walter H (Irene Colvin)\", \"female\", 30.0, 0, 0, \"237249\", 13.0, null, \"S\"], [943, 2, \"Pulbaum, Mr. Franz\", \"male\", 27.0, 0, 0, \"SC/PARIS 2168\", 15.0333, null, \"C\"], [944, 2, \"Hocking, Miss. Ellen Nellie\\\"\\\"\", \"female\", 20.0, 2, 1, \"29105\", 23.0, null, \"S\"], [946, 2, \"Mangiavacchi, Mr. Serafino Emilio\", \"male\", null, 0, 0, \"SC/A.3 2861\", 15.5792, null, \"C\"], [953, 2, \"McCrae, Mr. Arthur Gordon\", \"male\", 32.0, 0, 0, \"237216\", 13.5, null, \"S\"], [957, 2, \"Corey, Mrs. Percy C (Mary Phyllis Elizabeth Miller)\", \"female\", null, 0, 0, \"F.C.C. 13534\", 21.0, null, \"S\"], [970, 2, \"Aldworth, Mr. Charles Augustus\", \"male\", 30.0, 0, 0, \"248744\", 13.0, null, \"S\"], [976, 2, \"Lamb, Mr. John Joseph\", \"male\", null, 0, 0, \"240261\", 10.7083, null, \"Q\"], [981, 2, \"Wells, Master. Ralph Lester\", \"male\", 2.0, 1, 1, \"29103\", 23.0, null, \"S\"], [993, 2, \"Weisz, Mr. Leopold\", \"male\", 27.0, 1, 0, \"228414\", 26.0, null, \"S\"], [1001, 2, \"Swane, Mr. George\", \"male\", 18.5, 0, 0, \"248734\", 13.0, \"F\", \"S\"], [1002, 2, \"Stanton, Mr. Samuel Ward\", \"male\", 41.0, 0, 0, \"237734\", 15.0458, null, \"C\"], [1011, 2, \"Chapman, Mrs. John Henry (Sara Elizabeth Lawry)\", \"female\", 29.0, 1, 0, \"SC/AH 29037\", 26.0, null, \"S\"], [1012, 2, \"Watt, Miss. Bertha J\", \"female\", 12.0, 0, 0, \"C.A. 33595\", 15.75, null, \"S\"], [1020, 2, \"Bowenur, Mr. Solomon\", \"male\", 42.0, 0, 0, \"211535\", 13.0, null, \"S\"], [1029, 2, \"Schmidt, Mr. August\", \"male\", 26.0, 0, 0, \"248659\", 13.0, null, \"S\"], [1035, 2, \"Beauchamp, Mr. Henry James\", \"male\", 28.0, 0, 0, \"244358\", 26.0, null, \"S\"], [1041, 2, \"Lahtinen, Rev. William\", \"male\", 30.0, 1, 1, \"250651\", 26.0, null, \"S\"], [1054, 2, \"Wright, Miss. Marion\", \"female\", 26.0, 0, 0, \"220844\", 13.5, null, \"S\"], [1056, 2, \"Peruschitz, Rev. Joseph Maria\", \"male\", 41.0, 0, 0, \"237393\", 13.0, null, \"S\"], [1067, 2, \"Brown, Miss. Edith Eileen\", \"female\", 15.0, 0, 2, \"29750\", 39.0, null, \"S\"], [1068, 2, \"Sincock, Miss. Maude\", \"female\", 20.0, 0, 0, \"C.A. 33112\", 36.75, null, \"S\"], [1070, 2, \"Becker, Mrs. Allen Oliver (Nellie E Baumgardner)\", \"female\", 36.0, 0, 3, \"230136\", 39.0, \"F4\", \"S\"], [1072, 2, \"McCrie, Mr. James Matthew\", \"male\", 30.0, 0, 0, \"233478\", 13.0, null, \"S\"], [1077, 2, \"Maybery, Mr. Frank Hubert\", \"male\", 40.0, 0, 0, \"239059\", 16.0, null, \"S\"], [1078, 2, \"Phillips, Miss. Alice Frances Louisa\", \"female\", 21.0, 0, 1, \"S.O./P.P. 2\", 21.0, null, \"S\"], [1081, 2, \"Veal, Mr. James\", \"male\", 40.0, 0, 0, \"28221\", 13.0, null, \"S\"], [1082, 2, \"Angle, Mr. William A\", \"male\", 34.0, 1, 0, \"226875\", 26.0, null, \"S\"], [1085, 2, \"Lingane, Mr. John\", \"male\", 61.0, 0, 0, \"235509\", 12.35, null, \"Q\"], [1086, 2, \"Drew, Master. Marshall Brines\", \"male\", 8.0, 0, 2, \"28220\", 32.5, null, \"S\"], [1090, 2, \"Baimbrigge, Mr. Charles Robert\", \"male\", 23.0, 0, 0, \"C.A. 31030\", 10.5, null, \"S\"], [1095, 2, \"Quick, Miss. Winifred Vera\", \"female\", 8.0, 1, 1, \"26360\", 26.0, null, \"S\"], [1096, 2, \"Andrew, Mr. Frank Thomas\", \"male\", 25.0, 0, 0, \"C.A. 34050\", 10.5, null, \"S\"], [1099, 2, \"Collett, Mr. Sidney C Stuart\", \"male\", 24.0, 0, 0, \"28034\", 10.5, null, \"S\"], [1104, 2, \"Deacon, Mr. Percy William\", \"male\", 17.0, 0, 0, \"S.O.C. 14879\", 73.5, null, \"S\"], [1105, 2, \"Howard, Mrs. Benjamin (Ellen Truelove Arman)\", \"female\", 60.0, 1, 0, \"24065\", 26.0, null, \"S\"], [1112, 2, \"Duran y More, Miss. Florentina\", \"female\", 30.0, 1, 0, \"SC/PARIS 2148\", 13.8583, null, \"C\"], [1114, 2, \"Cook, Mrs. (Selena Rogers)\", \"female\", 22.0, 0, 0, \"W./C. 14266\", 10.5, \"F33\", \"S\"], [1121, 2, \"Hocking, Mr. Samuel James Metcalfe\", \"male\", 36.0, 0, 0, \"242963\", 13.0, null, \"S\"], [1122, 2, \"Sweet, Mr. George Frederick\", \"male\", 14.0, 0, 0, \"220845\", 65.0, null, \"S\"], [1130, 2, \"Hiltunen, Miss. Marta\", \"female\", 18.0, 1, 1, \"250650\", 13.0, null, \"S\"], [1133, 2, \"Christy, Mrs. (Alice Frances)\", \"female\", 45.0, 0, 2, \"237789\", 30.0, null, \"S\"], [1138, 2, \"Karnes, Mrs. J Frank (Claire Bennett)\", \"female\", 22.0, 0, 0, \"F.C.C. 13534\", 21.0, null, \"S\"], [1139, 2, \"Drew, Mr. James Vivian\", \"male\", 42.0, 1, 1, \"28220\", 32.5, null, \"S\"], [1140, 2, \"Hold, Mrs. Stephen (Annie Margaret Hill)\", \"female\", 29.0, 1, 0, \"26707\", 26.0, null, \"S\"], [1142, 2, \"West, Miss. Barbara J\", \"female\", 0.92, 1, 2, \"C.A. 34651\", 27.75, null, \"S\"], [1150, 2, \"Bentham, Miss. Lilian W\", \"female\", 19.0, 0, 0, \"28404\", 13.0, null, \"S\"], [1154, 2, \"Wells, Mrs. Arthur Henry (Addie\\\" Dart Trevaskis)\\\"\", \"female\", 29.0, 0, 2, \"29103\", 23.0, null, \"S\"], [1156, 2, \"Portaluppi, Mr. Emilio Ilario Giuseppe\", \"male\", 30.0, 0, 0, \"C.A. 34644\", 12.7375, null, \"C\"], [1167, 2, \"Bryhl, Miss. Dagmar Jenny Ingeborg \", \"female\", 20.0, 1, 0, \"236853\", 26.0, null, \"S\"], [1168, 2, \"Parker, Mr. Clifford Richard\", \"male\", 28.0, 0, 0, \"SC 14888\", 10.5, null, \"S\"], [1169, 2, \"Faunthorpe, Mr. Harry\", \"male\", 40.0, 1, 0, \"2926\", 26.0, null, \"S\"], [1170, 2, \"Ware, Mr. John James\", \"male\", 30.0, 1, 0, \"CA 31352\", 21.0, null, \"S\"], [1171, 2, \"Oxenham, Mr. Percy Thomas\", \"male\", 22.0, 0, 0, \"W./C. 14260\", 10.5, null, \"S\"], [1188, 2, \"Laroche, Miss. Louise\", \"female\", 1.0, 1, 2, \"SC/Paris 2123\", 41.5792, null, \"C\"], [1193, 2, \"Malachard, Mr. Noel\", \"male\", null, 0, 0, \"237735\", 15.0458, \"D\", \"C\"], [1194, 2, \"Phillips, Mr. Escott Robert\", \"male\", 43.0, 0, 1, \"S.O./P.P. 2\", 21.0, null, \"S\"], [1209, 2, \"Rogers, Mr. Reginald Harry\", \"male\", 19.0, 0, 0, \"28004\", 10.5, null, \"S\"], [1211, 2, \"Jefferys, Mr. Ernest Wilfred\", \"male\", 22.0, 2, 0, \"C.A. 31029\", 31.5, null, \"S\"], [1214, 2, \"Nesson, Mr. Israel\", \"male\", 26.0, 0, 0, \"244368\", 13.0, \"F2\", \"S\"], [1218, 2, \"Becker, Miss. Ruth Elizabeth\", \"female\", 12.0, 2, 1, \"230136\", 39.0, \"F4\", \"S\"], [1220, 2, \"Clarke, Mr. Charles Valentine\", \"male\", 29.0, 1, 0, \"2003\", 26.0, null, \"S\"], [1221, 2, \"Enander, Mr. Ingvar\", \"male\", 21.0, 0, 0, \"236854\", 13.0, null, \"S\"], [1222, 2, \"Davies, Mrs. John Morgan (Elizabeth Agnes Mary White) \", \"female\", 48.0, 0, 2, \"C.A. 33112\", 36.75, null, \"S\"], [1228, 2, \"de Brito, Mr. Jose Joaquim\", \"male\", 32.0, 0, 0, \"244360\", 13.0, null, \"S\"], [1230, 2, \"Denbury, Mr. Herbert\", \"male\", 25.0, 0, 0, \"C.A. 31029\", 31.5, null, \"S\"], [1232, 2, \"Fillbrook, Mr. Joseph Charles\", \"male\", 18.0, 0, 0, \"C.A. 15185\", 10.5, null, \"S\"], [1238, 2, \"Botsford, Mr. William Hull\", \"male\", 26.0, 0, 0, \"237670\", 13.0, null, \"S\"], [1240, 2, \"Giles, Mr. Ralph\", \"male\", 24.0, 0, 0, \"248726\", 13.5, null, \"S\"], [1241, 2, \"Walcroft, Miss. Nellie\", \"female\", 31.0, 0, 0, \"F.C.C. 13528\", 21.0, null, \"S\"], [1243, 2, \"Stokes, Mr. Philip Joseph\", \"male\", 25.0, 0, 0, \"F.C.C. 13540\", 10.5, null, \"S\"], [1244, 2, \"Dibden, Mr. William\", \"male\", 18.0, 0, 0, \"S.O.C. 14879\", 73.5, null, \"S\"], [1245, 2, \"Herman, Mr. Samuel\", \"male\", 49.0, 1, 2, \"220845\", 65.0, null, \"S\"], [1253, 2, \"Mallet, Mrs. Albert (Antoinette Magnin)\", \"female\", 24.0, 1, 1, \"S.C./PARIS 2079\", 37.0042, null, \"C\"], [1254, 2, \"Ware, Mrs. John James (Florence Louise Long)\", \"female\", 31.0, 0, 0, \"CA 31352\", 21.0, null, \"S\"], [1261, 2, \"Pallas y Castello, Mr. Emilio\", \"male\", 29.0, 0, 0, \"SC/PARIS 2147\", 13.8583, null, \"C\"], [1262, 2, \"Giles, Mr. Edgar\", \"male\", 21.0, 1, 0, \"28133\", 11.5, null, \"S\"], [1265, 2, \"Harbeck, Mr. William H\", \"male\", 44.0, 0, 0, \"248746\", 13.0, null, \"S\"], [1269, 2, \"Cotterill, Mr. Henry Harry\\\"\\\"\", \"male\", 21.0, 0, 0, \"29107\", 11.5, null, \"S\"], [1276, 2, \"Wheeler, Mr. Edwin Frederick\\\"\\\"\", \"male\", null, 0, 0, \"SC/PARIS 2159\", 12.875, null, \"S\"], [1277, 2, \"Herman, Miss. Kate\", \"female\", 24.0, 1, 2, \"220845\", 65.0, null, \"S\"], [1279, 2, \"Ashby, Mr. John\", \"male\", 57.0, 0, 0, \"244346\", 13.0, null, \"S\"], [1285, 2, \"Gilbert, Mr. William\", \"male\", 47.0, 0, 0, \"C.A. 30769\", 10.5, null, \"S\"], [1293, 2, \"Gale, Mr. Harry\", \"male\", 38.0, 1, 0, \"28664\", 21.0, null, \"S\"], [1297, 2, \"Nourney, Mr. Alfred (Baron von Drachstedt\\\")\\\"\", \"male\", 20.0, 0, 0, \"SC/PARIS 2166\", 13.8625, \"D38\", \"C\"], [1298, 2, \"Ware, Mr. William Jeffery\", \"male\", 23.0, 1, 0, \"28666\", 10.5, null, \"S\"]], \"hovertemplate\": \"Pclass=%{customdata[1]}<br>Age=%{customdata[4]}<br>PassengerId=%{customdata[0]}<br>Name=%{customdata[2]}<br>Sex=%{customdata[3]}<br>SibSp=%{customdata[5]}<br>Parch=%{customdata[6]}<br>Ticket=%{customdata[7]}<br>Fare=%{customdata[8]}<br>Cabin=%{customdata[9]}<br>Embarked=%{customdata[10]}<extra></extra>\", \"legendgroup\": \"2\", \"marker\": {\"color\": \"#EF553B\"}, \"name\": \"2\", \"offsetgroup\": \"2\", \"orientation\": \"v\", \"scalegroup\": \"True\", \"showlegend\": true, \"type\": \"violin\", \"x\": [2, 2, 2, 2, 2, 2, 2, 2, 2, 2, 2, 2, 2, 2, 2, 2, 2, 2, 2, 2, 2, 2, 2, 2, 2, 2, 2, 2, 2, 2, 2, 2, 2, 2, 2, 2, 2, 2, 2, 2, 2, 2, 2, 2, 2, 2, 2, 2, 2, 2, 2, 2, 2, 2, 2, 2, 2, 2, 2, 2, 2, 2, 2, 2, 2, 2, 2, 2, 2, 2, 2, 2, 2, 2, 2, 2, 2, 2, 2, 2, 2, 2, 2, 2, 2, 2, 2, 2, 2, 2, 2, 2, 2], \"x0\": \" \", \"xaxis\": \"x\", \"y\": [62.0, 26.0, 63.0, 24.0, 35.0, 50.0, 24.0, 30.0, 27.0, 20.0, null, 32.0, null, 30.0, null, 2.0, 27.0, 18.5, 41.0, 29.0, 12.0, 42.0, 26.0, 28.0, 30.0, 26.0, 41.0, 15.0, 20.0, 36.0, 30.0, 40.0, 21.0, 40.0, 34.0, 61.0, 8.0, 23.0, 8.0, 25.0, 24.0, 17.0, 60.0, 30.0, 22.0, 36.0, 14.0, 18.0, 45.0, 22.0, 42.0, 29.0, 0.92, 19.0, 29.0, 30.0, 20.0, 28.0, 40.0, 30.0, 22.0, 1.0, null, 43.0, 19.0, 22.0, 26.0, 12.0, 29.0, 21.0, 48.0, 32.0, 25.0, 18.0, 26.0, 24.0, 31.0, 25.0, 18.0, 49.0, 24.0, 31.0, 29.0, 21.0, 44.0, 21.0, null, 24.0, 57.0, 47.0, 38.0, 20.0, 23.0], \"y0\": \" \", \"yaxis\": \"y\"}, {\"alignmentgroup\": \"True\", \"box\": {\"visible\": true}, \"customdata\": [[903, 1, \"Jones, Mr. Charles Cresson\", \"male\", 46.0, 0, 0, \"694\", 26.0, null, \"S\"], [904, 1, \"Snyder, Mrs. John Pillsbury (Nelle Stevenson)\", \"female\", 23.0, 1, 0, \"21228\", 82.2667, \"B45\", \"S\"], [906, 1, \"Chaffee, Mrs. Herbert Fuller (Carrie Constance Toogood)\", \"female\", 47.0, 1, 0, \"W.E.P. 5734\", 61.175, \"E31\", \"S\"], [912, 1, \"Rothschild, Mr. Martin\", \"male\", 55.0, 1, 0, \"PC 17603\", 59.4, null, \"C\"], [914, 1, \"Flegenheim, Mrs. Alfred (Antoinette)\", \"female\", null, 0, 0, \"PC 17598\", 31.6833, null, \"S\"], [915, 1, \"Williams, Mr. Richard Norris II\", \"male\", 21.0, 0, 1, \"PC 17597\", 61.3792, null, \"C\"], [916, 1, \"Ryerson, Mrs. Arthur Larned (Emily Maria Borie)\", \"female\", 48.0, 1, 3, \"PC 17608\", 262.375, \"B57 B59 B63 B66\", \"C\"], [918, 1, \"Ostby, Miss. Helene Ragnhild\", \"female\", 22.0, 0, 1, \"113509\", 61.9792, \"B36\", \"C\"], [920, 1, \"Brady, Mr. John Bertram\", \"male\", 41.0, 0, 0, \"113054\", 30.5, \"A21\", \"S\"], [926, 1, \"Mock, Mr. Philipp Edmund\", \"male\", 30.0, 1, 0, \"13236\", 57.75, \"C78\", \"C\"], [933, 1, \"Franklin, Mr. Thomas Parham\", \"male\", null, 0, 0, \"113778\", 26.55, \"D34\", \"S\"], [936, 1, \"Kimball, Mrs. Edwin Nelson Jr (Gertrude Parsons)\", \"female\", 45.0, 1, 0, \"11753\", 52.5542, \"D19\", \"S\"], [938, 1, \"Chevre, Mr. Paul Romaine\", \"male\", 45.0, 0, 0, \"PC 17594\", 29.7, \"A9\", \"C\"], [940, 1, \"Bucknell, Mrs. William Robert (Emma Eliza Ward)\", \"female\", 60.0, 0, 0, \"11813\", 76.2917, \"D15\", \"C\"], [942, 1, \"Smith, Mr. Lucien Philip\", \"male\", 24.0, 1, 0, \"13695\", 60.0, \"C31\", \"S\"], [945, 1, \"Fortune, Miss. Ethel Flora\", \"female\", 28.0, 3, 2, \"19950\", 263.0, \"C23 C25 C27\", \"S\"], [951, 1, \"Chaudanson, Miss. Victorine\", \"female\", 36.0, 0, 0, \"PC 17608\", 262.375, \"B61\", \"C\"], [956, 1, \"Ryerson, Master. John Borie\", \"male\", 13.0, 2, 2, \"PC 17608\", 262.375, \"B57 B59 B63 B66\", \"C\"], [959, 1, \"Moore, Mr. Clarence Bloomfield\", \"male\", 47.0, 0, 0, \"113796\", 42.4, null, \"S\"], [960, 1, \"Tucker, Mr. Gilbert Milligan Jr\", \"male\", 31.0, 0, 0, \"2543\", 28.5375, \"C53\", \"C\"], [961, 1, \"Fortune, Mrs. Mark (Mary McDougald)\", \"female\", 60.0, 1, 4, \"19950\", 263.0, \"C23 C25 C27\", \"S\"], [965, 1, \"Ovies y Rodriguez, Mr. Servando\", \"male\", 28.5, 0, 0, \"PC 17562\", 27.7208, \"D43\", \"C\"], [966, 1, \"Geiger, Miss. Amalie\", \"female\", 35.0, 0, 0, \"113503\", 211.5, \"C130\", \"C\"], [967, 1, \"Keeping, Mr. Edwin\", \"male\", 32.5, 0, 0, \"113503\", 211.5, \"C132\", \"C\"], [969, 1, \"Cornell, Mrs. Robert Clifford (Malvina Helen Lamson)\", \"female\", 55.0, 2, 0, \"11770\", 25.7, \"C101\", \"S\"], [973, 1, \"Straus, Mr. Isidor\", \"male\", 67.0, 1, 0, \"PC 17483\", 221.7792, \"C55 C57\", \"S\"], [974, 1, \"Case, Mr. Howard Brown\", \"male\", 49.0, 0, 0, \"19924\", 26.0, null, \"S\"], [984, 1, \"Davidson, Mrs. Thornton (Orian Hays)\", \"female\", 27.0, 1, 2, \"F.C. 12750\", 52.0, \"B71\", \"S\"], [986, 1, \"Birnbaum, Mr. Jakob\", \"male\", 25.0, 0, 0, \"13905\", 26.0, null, \"C\"], [988, 1, \"Cavendish, Mrs. Tyrell William (Julia Florence Siegel)\", \"female\", 76.0, 1, 0, \"19877\", 78.85, \"C46\", \"S\"], [992, 1, \"Stengel, Mrs. Charles Emil Henry (Annie May Morris)\", \"female\", 43.0, 1, 0, \"11778\", 55.4417, \"C116\", \"C\"], [1004, 1, \"Evans, Miss. Edith Corse\", \"female\", 36.0, 0, 0, \"PC 17531\", 31.6792, \"A29\", \"C\"], [1006, 1, \"Straus, Mrs. Isidor (Rosalie Ida Blun)\", \"female\", 63.0, 1, 0, \"PC 17483\", 221.7792, \"C55 C57\", \"S\"], [1010, 1, \"Beattie, Mr. Thomson\", \"male\", 36.0, 0, 0, \"13050\", 75.2417, \"C6\", \"C\"], [1014, 1, \"Schabert, Mrs. Paul (Emma Mock)\", \"female\", 35.0, 1, 0, \"13236\", 57.75, \"C28\", \"C\"], [1023, 1, \"Gracie, Col. Archibald IV\", \"male\", 53.0, 0, 0, \"113780\", 28.5, \"C51\", \"C\"], [1033, 1, \"Daniels, Miss. Sarah\", \"female\", 33.0, 0, 0, \"113781\", 151.55, null, \"S\"], [1034, 1, \"Ryerson, Mr. Arthur Larned\", \"male\", 61.0, 1, 3, \"PC 17608\", 262.375, \"B57 B59 B63 B66\", \"C\"], [1036, 1, \"Lindeberg-Lind, Mr. Erik Gustaf (Mr Edward Lingrey\\\")\\\"\", \"male\", 42.0, 0, 0, \"17475\", 26.55, null, \"S\"], [1038, 1, \"Hilliard, Mr. Herbert Henry\", \"male\", null, 0, 0, \"17463\", 51.8625, \"E46\", \"S\"], [1040, 1, \"Crafton, Mr. John Bertram\", \"male\", null, 0, 0, \"113791\", 26.55, null, \"S\"], [1042, 1, \"Earnshaw, Mrs. Boulton (Olive Potter)\", \"female\", 23.0, 0, 1, \"11767\", 83.1583, \"C54\", \"C\"], [1048, 1, \"Bird, Miss. Ellen\", \"female\", 29.0, 0, 0, \"PC 17483\", 221.7792, \"C97\", \"S\"], [1050, 1, \"Borebank, Mr. John James\", \"male\", 42.0, 0, 0, \"110489\", 26.55, \"D22\", \"S\"], [1058, 1, \"Brandeis, Mr. Emil\", \"male\", 48.0, 0, 0, \"PC 17591\", 50.4958, \"B10\", \"C\"], [1060, 1, \"Cassebeer, Mrs. Henry Arthur Jr (Eleanor Genevieve Fosdick)\", \"female\", null, 0, 0, \"17770\", 27.7208, null, \"C\"], [1069, 1, \"Stengel, Mr. Charles Emil Henry\", \"male\", 54.0, 1, 0, \"11778\", 55.4417, \"C116\", \"C\"], [1071, 1, \"Compton, Mrs. Alexander Taylor (Mary Eliza Ingersoll)\", \"female\", 64.0, 0, 2, \"PC 17756\", 83.1583, \"E45\", \"C\"], [1073, 1, \"Compton, Mr. Alexander Taylor Jr\", \"male\", 37.0, 1, 1, \"PC 17756\", 83.1583, \"E52\", \"C\"], [1074, 1, \"Marvin, Mrs. Daniel Warner (Mary Graham Carmichael Farquarson)\", \"female\", 18.0, 1, 0, \"113773\", 53.1, \"D30\", \"S\"], [1076, 1, \"Douglas, Mrs. Frederick Charles (Mary Helene Baxter)\", \"female\", 27.0, 1, 1, \"PC 17558\", 247.5208, \"B58 B60\", \"C\"], [1083, 1, \"Salomon, Mr. Abraham L\", \"male\", null, 0, 0, \"111163\", 26.0, null, \"S\"], [1088, 1, \"Spedden, Master. Robert Douglas\", \"male\", 6.0, 0, 2, \"16966\", 134.5, \"E34\", \"C\"], [1094, 1, \"Astor, Col. John Jacob\", \"male\", 47.0, 1, 0, \"PC 17757\", 227.525, \"C62 C64\", \"C\"], [1097, 1, \"Omont, Mr. Alfred Fernand\", \"male\", null, 0, 0, \"F.C. 12998\", 25.7417, null, \"C\"], [1100, 1, \"Rosenbaum, Miss. Edith Louise\", \"female\", 33.0, 0, 0, \"PC 17613\", 27.7208, \"A11\", \"C\"], [1107, 1, \"Head, Mr. Christopher\", \"male\", 42.0, 0, 0, \"113038\", 42.5, \"B11\", \"S\"], [1109, 1, \"Wick, Mr. George Dennick\", \"male\", 57.0, 1, 1, \"36928\", 164.8667, null, \"S\"], [1110, 1, \"Widener, Mrs. George Dunton (Eleanor Elkins)\", \"female\", 50.0, 1, 1, \"113503\", 211.5, \"C80\", \"C\"], [1116, 1, \"Candee, Mrs. Edward (Helen Churchill Hungerford)\", \"female\", 53.0, 0, 0, \"PC 17606\", 27.4458, null, \"C\"], [1123, 1, \"Willard, Miss. Constance\", \"female\", 21.0, 0, 0, \"113795\", 26.55, null, \"S\"], [1126, 1, \"Cumings, Mr. John Bradley\", \"male\", 39.0, 1, 0, \"PC 17599\", 71.2833, \"C85\", \"C\"], [1128, 1, \"Warren, Mr. Frank Manley\", \"male\", 64.0, 1, 0, \"110813\", 75.25, \"D37\", \"C\"], [1131, 1, \"Douglas, Mrs. Walter Donald (Mahala Dutton)\", \"female\", 48.0, 1, 0, \"PC 17761\", 106.425, \"C86\", \"C\"], [1132, 1, \"Lindstrom, Mrs. Carl Johan (Sigrid Posse)\", \"female\", 55.0, 0, 0, \"112377\", 27.7208, null, \"C\"], [1134, 1, \"Spedden, Mr. Frederic Oakley\", \"male\", 45.0, 1, 1, \"16966\", 134.5, \"E34\", \"C\"], [1137, 1, \"Kenyon, Mr. Frederick R\", \"male\", 41.0, 1, 0, \"17464\", 51.8625, \"D21\", \"S\"], [1144, 1, \"Clark, Mr. Walter Miller\", \"male\", 27.0, 1, 0, \"13508\", 136.7792, \"C89\", \"C\"], [1158, 1, \"Chisholm, Mr. Roderick Robert Crispin\", \"male\", null, 0, 0, \"112051\", 0.0, null, \"S\"], [1162, 1, \"McCaffry, Mr. Thomas Francis\", \"male\", 46.0, 0, 0, \"13050\", 75.2417, \"C6\", \"C\"], [1164, 1, \"Clark, Mrs. Walter Miller (Virginia McDowell)\", \"female\", 26.0, 1, 0, \"13508\", 136.7792, \"C89\", \"C\"], [1179, 1, \"Snyder, Mr. John Pillsbury\", \"male\", 24.0, 1, 0, \"21228\", 82.2667, \"B45\", \"S\"], [1182, 1, \"Rheims, Mr. George Alexander Lucien\", \"male\", null, 0, 0, \"PC 17607\", 39.6, null, \"S\"], [1185, 1, \"Dodge, Dr. Washington\", \"male\", 53.0, 1, 1, \"33638\", 81.8583, \"A34\", \"S\"], [1190, 1, \"Loring, Mr. Joseph Holland\", \"male\", 30.0, 0, 0, \"113801\", 45.5, null, \"S\"], [1197, 1, \"Crosby, Mrs. Edward Gifford (Catherine Elizabeth Halstead)\", \"female\", 64.0, 1, 1, \"112901\", 26.55, \"B26\", \"S\"], [1198, 1, \"Allison, Mr. Hudson Joshua Creighton\", \"male\", 30.0, 1, 2, \"113781\", 151.55, \"C22 C26\", \"S\"], [1200, 1, \"Hays, Mr. Charles Melville\", \"male\", 55.0, 1, 1, \"12749\", 93.5, \"B69\", \"S\"], [1206, 1, \"White, Mrs. John Stuart (Ella Holmes)\", \"female\", 55.0, 0, 0, \"PC 17760\", 135.6333, \"C32\", \"C\"], [1208, 1, \"Spencer, Mr. William Augustus\", \"male\", 57.0, 1, 0, \"PC 17569\", 146.5208, \"B78\", \"C\"], [1215, 1, \"Rowe, Mr. Alfred G\", \"male\", 33.0, 0, 0, \"113790\", 26.55, null, \"S\"], [1216, 1, \"Kreuchen, Miss. Emilie\", \"female\", 39.0, 0, 0, \"24160\", 211.3375, null, \"S\"], [1219, 1, \"Rosenshine, Mr. George (Mr George Thorne\\\")\\\"\", \"male\", 46.0, 0, 0, \"PC 17585\", 79.2, null, \"C\"], [1223, 1, \"Dulles, Mr. William Crothers\", \"male\", 39.0, 0, 0, \"PC 17580\", 29.7, \"A18\", \"C\"], [1227, 1, \"Maguire, Mr. John Edward\", \"male\", 30.0, 0, 0, \"110469\", 26.0, \"C106\", \"S\"], [1235, 1, \"Cardeza, Mrs. James Warburton Martinez (Charlotte Wardle Drake)\", \"female\", 58.0, 0, 1, \"PC 17755\", 512.3292, \"B51 B53 B55\", \"C\"], [1242, 1, \"Greenfield, Mrs. Leo David (Blanche Strouse)\", \"female\", 45.0, 0, 1, \"PC 17759\", 63.3583, \"D10 D12\", \"C\"], [1247, 1, \"Julian, Mr. Henry Forbes\", \"male\", 50.0, 0, 0, \"113044\", 26.0, \"E60\", \"S\"], [1248, 1, \"Brown, Mrs. John Murray (Caroline Lane Lamson)\", \"female\", 59.0, 2, 0, \"11769\", 51.4792, \"C101\", \"S\"], [1256, 1, \"Harder, Mrs. George Achilles (Dorothy Annan)\", \"female\", 25.0, 1, 0, \"11765\", 55.4417, \"E50\", \"C\"], [1260, 1, \"Gibson, Mrs. Leonard (Pauline C Boeson)\", \"female\", 45.0, 0, 1, \"112378\", 59.4, null, \"C\"], [1263, 1, \"Wilson, Miss. Helen Alice\", \"female\", 31.0, 0, 0, \"16966\", 134.5, \"E39 E41\", \"C\"], [1264, 1, \"Ismay, Mr. Joseph Bruce\", \"male\", 49.0, 0, 0, \"112058\", 0.0, \"B52 B54 B56\", \"S\"], [1266, 1, \"Dodge, Mrs. Washington (Ruth Vidaver)\", \"female\", 54.0, 1, 1, \"33638\", 81.8583, \"A34\", \"S\"], [1267, 1, \"Bowen, Miss. Grace Scott\", \"female\", 45.0, 0, 0, \"PC 17608\", 262.375, null, \"C\"], [1270, 1, \"Hipkins, Mr. William Edward\", \"male\", 55.0, 0, 0, \"680\", 50.0, \"C39\", \"S\"], [1282, 1, \"Payne, Mr. Vivian Ponsonby\", \"male\", 23.0, 0, 0, \"12749\", 93.5, \"B24\", \"S\"], [1283, 1, \"Lines, Mrs. Ernest H (Elizabeth Lindsey James)\", \"female\", 51.0, 0, 1, \"PC 17592\", 39.4, \"D28\", \"S\"], [1287, 1, \"Smith, Mrs. Lucien Philip (Mary Eloise Hughes)\", \"female\", 18.0, 1, 0, \"13695\", 60.0, \"C31\", \"S\"], [1289, 1, \"Frolicher-Stehli, Mrs. Maxmillian (Margaretha Emerentia Stehli)\", \"female\", 48.0, 1, 1, \"13567\", 79.2, \"B41\", \"C\"], [1292, 1, \"Bonnell, Miss. Caroline\", \"female\", 30.0, 0, 0, \"36928\", 164.8667, \"C7\", \"S\"], [1294, 1, \"Gibson, Miss. Dorothy Winifred\", \"female\", 22.0, 0, 1, \"112378\", 59.4, null, \"C\"], [1295, 1, \"Carrau, Mr. Jose Pedro\", \"male\", 17.0, 0, 0, \"113059\", 47.1, null, \"S\"], [1296, 1, \"Frauenthal, Mr. Isaac Gerald\", \"male\", 43.0, 1, 0, \"17765\", 27.7208, \"D40\", \"C\"], [1299, 1, \"Widener, Mr. George Dunton\", \"male\", 50.0, 1, 1, \"113503\", 211.5, \"C80\", \"C\"], [1303, 1, \"Minahan, Mrs. William Edward (Lillian E Thorpe)\", \"female\", 37.0, 1, 0, \"19928\", 90.0, \"C78\", \"Q\"], [1306, 1, \"Oliva y Ocana, Dona. Fermina\", \"female\", 39.0, 0, 0, \"PC 17758\", 108.9, \"C105\", \"C\"]], \"hovertemplate\": \"Pclass=%{customdata[1]}<br>Age=%{customdata[4]}<br>PassengerId=%{customdata[0]}<br>Name=%{customdata[2]}<br>Sex=%{customdata[3]}<br>SibSp=%{customdata[5]}<br>Parch=%{customdata[6]}<br>Ticket=%{customdata[7]}<br>Fare=%{customdata[8]}<br>Cabin=%{customdata[9]}<br>Embarked=%{customdata[10]}<extra></extra>\", \"legendgroup\": \"1\", \"marker\": {\"color\": \"#00cc96\"}, \"name\": \"1\", \"offsetgroup\": \"1\", \"orientation\": \"v\", \"scalegroup\": \"True\", \"showlegend\": true, \"type\": \"violin\", \"x\": [1, 1, 1, 1, 1, 1, 1, 1, 1, 1, 1, 1, 1, 1, 1, 1, 1, 1, 1, 1, 1, 1, 1, 1, 1, 1, 1, 1, 1, 1, 1, 1, 1, 1, 1, 1, 1, 1, 1, 1, 1, 1, 1, 1, 1, 1, 1, 1, 1, 1, 1, 1, 1, 1, 1, 1, 1, 1, 1, 1, 1, 1, 1, 1, 1, 1, 1, 1, 1, 1, 1, 1, 1, 1, 1, 1, 1, 1, 1, 1, 1, 1, 1, 1, 1, 1, 1, 1, 1, 1, 1, 1, 1, 1, 1, 1, 1, 1, 1, 1, 1, 1, 1, 1, 1, 1, 1], \"x0\": \" \", \"xaxis\": \"x\", \"y\": [46.0, 23.0, 47.0, 55.0, null, 21.0, 48.0, 22.0, 41.0, 30.0, null, 45.0, 45.0, 60.0, 24.0, 28.0, 36.0, 13.0, 47.0, 31.0, 60.0, 28.5, 35.0, 32.5, 55.0, 67.0, 49.0, 27.0, 25.0, 76.0, 43.0, 36.0, 63.0, 36.0, 35.0, 53.0, 33.0, 61.0, 42.0, null, null, 23.0, 29.0, 42.0, 48.0, null, 54.0, 64.0, 37.0, 18.0, 27.0, null, 6.0, 47.0, null, 33.0, 42.0, 57.0, 50.0, 53.0, 21.0, 39.0, 64.0, 48.0, 55.0, 45.0, 41.0, 27.0, null, 46.0, 26.0, 24.0, null, 53.0, 30.0, 64.0, 30.0, 55.0, 55.0, 57.0, 33.0, 39.0, 46.0, 39.0, 30.0, 58.0, 45.0, 50.0, 59.0, 25.0, 45.0, 31.0, 49.0, 54.0, 45.0, 55.0, 23.0, 51.0, 18.0, 48.0, 30.0, 22.0, 17.0, 43.0, 50.0, 37.0, 39.0], \"y0\": \" \", \"yaxis\": \"y\"}],\n",
       "                        {\"legend\": {\"title\": {\"text\": \"Pclass\"}, \"tracegroupgap\": 0}, \"margin\": {\"t\": 60}, \"template\": {\"data\": {\"bar\": [{\"error_x\": {\"color\": \"#2a3f5f\"}, \"error_y\": {\"color\": \"#2a3f5f\"}, \"marker\": {\"line\": {\"color\": \"#E5ECF6\", \"width\": 0.5}}, \"type\": \"bar\"}], \"barpolar\": [{\"marker\": {\"line\": {\"color\": \"#E5ECF6\", \"width\": 0.5}}, \"type\": \"barpolar\"}], \"carpet\": [{\"aaxis\": {\"endlinecolor\": \"#2a3f5f\", \"gridcolor\": \"white\", \"linecolor\": \"white\", \"minorgridcolor\": \"white\", \"startlinecolor\": \"#2a3f5f\"}, \"baxis\": {\"endlinecolor\": \"#2a3f5f\", \"gridcolor\": \"white\", \"linecolor\": \"white\", \"minorgridcolor\": \"white\", \"startlinecolor\": \"#2a3f5f\"}, \"type\": \"carpet\"}], \"choropleth\": [{\"colorbar\": {\"outlinewidth\": 0, \"ticks\": \"\"}, \"type\": \"choropleth\"}], \"contour\": [{\"colorbar\": {\"outlinewidth\": 0, \"ticks\": \"\"}, \"colorscale\": [[0.0, \"#0d0887\"], [0.1111111111111111, \"#46039f\"], [0.2222222222222222, \"#7201a8\"], [0.3333333333333333, \"#9c179e\"], [0.4444444444444444, \"#bd3786\"], [0.5555555555555556, \"#d8576b\"], [0.6666666666666666, \"#ed7953\"], [0.7777777777777778, \"#fb9f3a\"], [0.8888888888888888, \"#fdca26\"], [1.0, \"#f0f921\"]], \"type\": \"contour\"}], \"contourcarpet\": [{\"colorbar\": {\"outlinewidth\": 0, \"ticks\": \"\"}, \"type\": \"contourcarpet\"}], \"heatmap\": [{\"colorbar\": {\"outlinewidth\": 0, \"ticks\": \"\"}, \"colorscale\": [[0.0, \"#0d0887\"], [0.1111111111111111, \"#46039f\"], [0.2222222222222222, \"#7201a8\"], [0.3333333333333333, \"#9c179e\"], [0.4444444444444444, \"#bd3786\"], [0.5555555555555556, \"#d8576b\"], [0.6666666666666666, \"#ed7953\"], [0.7777777777777778, \"#fb9f3a\"], [0.8888888888888888, \"#fdca26\"], [1.0, \"#f0f921\"]], \"type\": \"heatmap\"}], \"heatmapgl\": [{\"colorbar\": {\"outlinewidth\": 0, \"ticks\": \"\"}, \"colorscale\": [[0.0, \"#0d0887\"], [0.1111111111111111, \"#46039f\"], [0.2222222222222222, \"#7201a8\"], [0.3333333333333333, \"#9c179e\"], [0.4444444444444444, \"#bd3786\"], [0.5555555555555556, \"#d8576b\"], [0.6666666666666666, \"#ed7953\"], [0.7777777777777778, \"#fb9f3a\"], [0.8888888888888888, \"#fdca26\"], [1.0, \"#f0f921\"]], \"type\": \"heatmapgl\"}], \"histogram\": [{\"marker\": {\"colorbar\": {\"outlinewidth\": 0, \"ticks\": \"\"}}, \"type\": \"histogram\"}], \"histogram2d\": [{\"colorbar\": {\"outlinewidth\": 0, \"ticks\": \"\"}, \"colorscale\": [[0.0, \"#0d0887\"], [0.1111111111111111, \"#46039f\"], [0.2222222222222222, \"#7201a8\"], [0.3333333333333333, \"#9c179e\"], [0.4444444444444444, \"#bd3786\"], [0.5555555555555556, \"#d8576b\"], [0.6666666666666666, \"#ed7953\"], [0.7777777777777778, \"#fb9f3a\"], [0.8888888888888888, \"#fdca26\"], [1.0, \"#f0f921\"]], \"type\": \"histogram2d\"}], \"histogram2dcontour\": [{\"colorbar\": {\"outlinewidth\": 0, \"ticks\": \"\"}, \"colorscale\": [[0.0, \"#0d0887\"], [0.1111111111111111, \"#46039f\"], [0.2222222222222222, \"#7201a8\"], [0.3333333333333333, \"#9c179e\"], [0.4444444444444444, \"#bd3786\"], [0.5555555555555556, \"#d8576b\"], [0.6666666666666666, \"#ed7953\"], [0.7777777777777778, \"#fb9f3a\"], [0.8888888888888888, \"#fdca26\"], [1.0, \"#f0f921\"]], \"type\": \"histogram2dcontour\"}], \"mesh3d\": [{\"colorbar\": {\"outlinewidth\": 0, \"ticks\": \"\"}, \"type\": \"mesh3d\"}], \"parcoords\": [{\"line\": {\"colorbar\": {\"outlinewidth\": 0, \"ticks\": \"\"}}, \"type\": \"parcoords\"}], \"pie\": [{\"automargin\": true, \"type\": \"pie\"}], \"scatter\": [{\"marker\": {\"colorbar\": {\"outlinewidth\": 0, \"ticks\": \"\"}}, \"type\": \"scatter\"}], \"scatter3d\": [{\"line\": {\"colorbar\": {\"outlinewidth\": 0, \"ticks\": \"\"}}, \"marker\": {\"colorbar\": {\"outlinewidth\": 0, \"ticks\": \"\"}}, \"type\": \"scatter3d\"}], \"scattercarpet\": [{\"marker\": {\"colorbar\": {\"outlinewidth\": 0, \"ticks\": \"\"}}, \"type\": \"scattercarpet\"}], \"scattergeo\": [{\"marker\": {\"colorbar\": {\"outlinewidth\": 0, \"ticks\": \"\"}}, \"type\": \"scattergeo\"}], \"scattergl\": [{\"marker\": {\"colorbar\": {\"outlinewidth\": 0, \"ticks\": \"\"}}, \"type\": \"scattergl\"}], \"scattermapbox\": [{\"marker\": {\"colorbar\": {\"outlinewidth\": 0, \"ticks\": \"\"}}, \"type\": \"scattermapbox\"}], \"scatterpolar\": [{\"marker\": {\"colorbar\": {\"outlinewidth\": 0, \"ticks\": \"\"}}, \"type\": \"scatterpolar\"}], \"scatterpolargl\": [{\"marker\": {\"colorbar\": {\"outlinewidth\": 0, \"ticks\": \"\"}}, \"type\": \"scatterpolargl\"}], \"scatterternary\": [{\"marker\": {\"colorbar\": {\"outlinewidth\": 0, \"ticks\": \"\"}}, \"type\": \"scatterternary\"}], \"surface\": [{\"colorbar\": {\"outlinewidth\": 0, \"ticks\": \"\"}, \"colorscale\": [[0.0, \"#0d0887\"], [0.1111111111111111, \"#46039f\"], [0.2222222222222222, \"#7201a8\"], [0.3333333333333333, \"#9c179e\"], [0.4444444444444444, \"#bd3786\"], [0.5555555555555556, \"#d8576b\"], [0.6666666666666666, \"#ed7953\"], [0.7777777777777778, \"#fb9f3a\"], [0.8888888888888888, \"#fdca26\"], [1.0, \"#f0f921\"]], \"type\": \"surface\"}], \"table\": [{\"cells\": {\"fill\": {\"color\": \"#EBF0F8\"}, \"line\": {\"color\": \"white\"}}, \"header\": {\"fill\": {\"color\": \"#C8D4E3\"}, \"line\": {\"color\": \"white\"}}, \"type\": \"table\"}]}, \"layout\": {\"annotationdefaults\": {\"arrowcolor\": \"#2a3f5f\", \"arrowhead\": 0, \"arrowwidth\": 1}, \"coloraxis\": {\"colorbar\": {\"outlinewidth\": 0, \"ticks\": \"\"}}, \"colorscale\": {\"diverging\": [[0, \"#8e0152\"], [0.1, \"#c51b7d\"], [0.2, \"#de77ae\"], [0.3, \"#f1b6da\"], [0.4, \"#fde0ef\"], [0.5, \"#f7f7f7\"], [0.6, \"#e6f5d0\"], [0.7, \"#b8e186\"], [0.8, \"#7fbc41\"], [0.9, \"#4d9221\"], [1, \"#276419\"]], \"sequential\": [[0.0, \"#0d0887\"], [0.1111111111111111, \"#46039f\"], [0.2222222222222222, \"#7201a8\"], [0.3333333333333333, \"#9c179e\"], [0.4444444444444444, \"#bd3786\"], [0.5555555555555556, \"#d8576b\"], [0.6666666666666666, \"#ed7953\"], [0.7777777777777778, \"#fb9f3a\"], [0.8888888888888888, \"#fdca26\"], [1.0, \"#f0f921\"]], \"sequentialminus\": [[0.0, \"#0d0887\"], [0.1111111111111111, \"#46039f\"], [0.2222222222222222, \"#7201a8\"], [0.3333333333333333, \"#9c179e\"], [0.4444444444444444, \"#bd3786\"], [0.5555555555555556, \"#d8576b\"], [0.6666666666666666, \"#ed7953\"], [0.7777777777777778, \"#fb9f3a\"], [0.8888888888888888, \"#fdca26\"], [1.0, \"#f0f921\"]]}, \"colorway\": [\"#636efa\", \"#EF553B\", \"#00cc96\", \"#ab63fa\", \"#FFA15A\", \"#19d3f3\", \"#FF6692\", \"#B6E880\", \"#FF97FF\", \"#FECB52\"], \"font\": {\"color\": \"#2a3f5f\"}, \"geo\": {\"bgcolor\": \"white\", \"lakecolor\": \"white\", \"landcolor\": \"#E5ECF6\", \"showlakes\": true, \"showland\": true, \"subunitcolor\": \"white\"}, \"hoverlabel\": {\"align\": \"left\"}, \"hovermode\": \"closest\", \"mapbox\": {\"style\": \"light\"}, \"paper_bgcolor\": \"white\", \"plot_bgcolor\": \"#E5ECF6\", \"polar\": {\"angularaxis\": {\"gridcolor\": \"white\", \"linecolor\": \"white\", \"ticks\": \"\"}, \"bgcolor\": \"#E5ECF6\", \"radialaxis\": {\"gridcolor\": \"white\", \"linecolor\": \"white\", \"ticks\": \"\"}}, \"scene\": {\"xaxis\": {\"backgroundcolor\": \"#E5ECF6\", \"gridcolor\": \"white\", \"gridwidth\": 2, \"linecolor\": \"white\", \"showbackground\": true, \"ticks\": \"\", \"zerolinecolor\": \"white\"}, \"yaxis\": {\"backgroundcolor\": \"#E5ECF6\", \"gridcolor\": \"white\", \"gridwidth\": 2, \"linecolor\": \"white\", \"showbackground\": true, \"ticks\": \"\", \"zerolinecolor\": \"white\"}, \"zaxis\": {\"backgroundcolor\": \"#E5ECF6\", \"gridcolor\": \"white\", \"gridwidth\": 2, \"linecolor\": \"white\", \"showbackground\": true, \"ticks\": \"\", \"zerolinecolor\": \"white\"}}, \"shapedefaults\": {\"line\": {\"color\": \"#2a3f5f\"}}, \"ternary\": {\"aaxis\": {\"gridcolor\": \"white\", \"linecolor\": \"white\", \"ticks\": \"\"}, \"baxis\": {\"gridcolor\": \"white\", \"linecolor\": \"white\", \"ticks\": \"\"}, \"bgcolor\": \"#E5ECF6\", \"caxis\": {\"gridcolor\": \"white\", \"linecolor\": \"white\", \"ticks\": \"\"}}, \"title\": {\"x\": 0.05}, \"xaxis\": {\"automargin\": true, \"gridcolor\": \"white\", \"linecolor\": \"white\", \"ticks\": \"\", \"title\": {\"standoff\": 15}, \"zerolinecolor\": \"white\", \"zerolinewidth\": 2}, \"yaxis\": {\"automargin\": true, \"gridcolor\": \"white\", \"linecolor\": \"white\", \"ticks\": \"\", \"title\": {\"standoff\": 15}, \"zerolinecolor\": \"white\", \"zerolinewidth\": 2}}}, \"violinmode\": \"overlay\", \"xaxis\": {\"anchor\": \"y\", \"categoryarray\": [3, 2, 1], \"categoryorder\": \"array\", \"domain\": [0.0, 1.0], \"title\": {\"text\": \"Pclass\"}}, \"yaxis\": {\"anchor\": \"x\", \"domain\": [0.0, 1.0], \"title\": {\"text\": \"Age\"}}},\n",
       "                        {\"responsive\": true}\n",
       "                    ).then(function(){\n",
       "                            \n",
       "var gd = document.getElementById('b6ea0ccc-ca07-4a31-bb2f-33ad5edc1cd2');\n",
       "var x = new MutationObserver(function (mutations, observer) {{\n",
       "        var display = window.getComputedStyle(gd).display;\n",
       "        if (!display || display === 'none') {{\n",
       "            console.log([gd, 'removed!']);\n",
       "            Plotly.purge(gd);\n",
       "            observer.disconnect();\n",
       "        }}\n",
       "}});\n",
       "\n",
       "// Listen for the removal of the full notebook cells\n",
       "var notebookContainer = gd.closest('#notebook-container');\n",
       "if (notebookContainer) {{\n",
       "    x.observe(notebookContainer, {childList: true});\n",
       "}}\n",
       "\n",
       "// Listen for the clearing of the current output cell\n",
       "var outputEl = gd.closest('.output');\n",
       "if (outputEl) {{\n",
       "    x.observe(outputEl, {childList: true});\n",
       "}}\n",
       "\n",
       "                        })\n",
       "                };\n",
       "                });\n",
       "            </script>\n",
       "        </div>"
      ]
     },
     "metadata": {},
     "output_type": "display_data"
    }
   ],
   "source": [
    "px.violin(test, x='Pclass', y='Age', color='Pclass', box=True, hover_data=test)"
   ]
  },
  {
   "cell_type": "code",
   "execution_count": 17,
   "metadata": {},
   "outputs": [],
   "source": [
    "#Replacing NAN values with\n",
    "#Pclass=1, Age=42\n",
    "#Pclass=2, Age=26.5\n",
    "#Pclass=3, Age=24\n",
    "def fill_age1(data):#data will consist of Age and Pclass respectively\n",
    "    age=data[0]\n",
    "    Pclass=data[1]\n",
    "    if pd.isnull(age):\n",
    "        if Pclass==1:  \n",
    "            return 42\n",
    "        elif Pclass==2:  \n",
    "            return 26.5\n",
    "        else:  \n",
    "            return 24\n",
    "    else:\n",
    "        return age"
   ]
  },
  {
   "cell_type": "code",
   "execution_count": 18,
   "metadata": {},
   "outputs": [],
   "source": [
    "test['Age']=test[['Age', 'Pclass']].apply(fill_age1, axis=1)"
   ]
  },
  {
   "cell_type": "code",
   "execution_count": 19,
   "metadata": {},
   "outputs": [
    {
     "name": "stdout",
     "output_type": "stream",
     "text": [
      "<class 'pandas.core.frame.DataFrame'>\n",
      "RangeIndex: 891 entries, 0 to 890\n",
      "Data columns (total 12 columns):\n",
      " #   Column       Non-Null Count  Dtype  \n",
      "---  ------       --------------  -----  \n",
      " 0   PassengerId  891 non-null    int64  \n",
      " 1   Survived     891 non-null    int64  \n",
      " 2   Pclass       891 non-null    int64  \n",
      " 3   Name         891 non-null    object \n",
      " 4   Sex          891 non-null    object \n",
      " 5   Age          891 non-null    float64\n",
      " 6   SibSp        891 non-null    int64  \n",
      " 7   Parch        891 non-null    int64  \n",
      " 8   Ticket       891 non-null    object \n",
      " 9   Fare         891 non-null    float64\n",
      " 10  Cabin        204 non-null    object \n",
      " 11  Embarked     889 non-null    object \n",
      "dtypes: float64(2), int64(5), object(5)\n",
      "memory usage: 83.7+ KB\n"
     ]
    }
   ],
   "source": [
    "train.info()"
   ]
  },
  {
   "cell_type": "code",
   "execution_count": 20,
   "metadata": {},
   "outputs": [
    {
     "name": "stdout",
     "output_type": "stream",
     "text": [
      "<class 'pandas.core.frame.DataFrame'>\n",
      "RangeIndex: 418 entries, 0 to 417\n",
      "Data columns (total 11 columns):\n",
      " #   Column       Non-Null Count  Dtype  \n",
      "---  ------       --------------  -----  \n",
      " 0   PassengerId  418 non-null    int64  \n",
      " 1   Pclass       418 non-null    int64  \n",
      " 2   Name         418 non-null    object \n",
      " 3   Sex          418 non-null    object \n",
      " 4   Age          418 non-null    float64\n",
      " 5   SibSp        418 non-null    int64  \n",
      " 6   Parch        418 non-null    int64  \n",
      " 7   Ticket       418 non-null    object \n",
      " 8   Fare         417 non-null    float64\n",
      " 9   Cabin        91 non-null     object \n",
      " 10  Embarked     418 non-null    object \n",
      "dtypes: float64(2), int64(4), object(5)\n",
      "memory usage: 36.0+ KB\n"
     ]
    }
   ],
   "source": [
    "test.info()"
   ]
  },
  {
   "cell_type": "code",
   "execution_count": 21,
   "metadata": {},
   "outputs": [],
   "source": [
    "#since Cabin is an alphanumeric data and it consists of huge NAN values, it will be difficult to replace, hence we drop it\n",
    "train.drop('Cabin', axis=1, inplace=True)\n",
    "test.drop('Cabin', axis=1, inplace=True)"
   ]
  },
  {
   "cell_type": "code",
   "execution_count": 22,
   "metadata": {},
   "outputs": [
    {
     "data": {
      "text/plain": [
       "<bound method Series.mean of 0        7.8292\n",
       "1        7.0000\n",
       "2        9.6875\n",
       "3        8.6625\n",
       "4       12.2875\n",
       "         ...   \n",
       "413      8.0500\n",
       "414    108.9000\n",
       "415      7.2500\n",
       "416      8.0500\n",
       "417     22.3583\n",
       "Name: Fare, Length: 418, dtype: float64>"
      ]
     },
     "execution_count": 22,
     "metadata": {},
     "output_type": "execute_result"
    }
   ],
   "source": [
    "test['Fare'].mean"
   ]
  },
  {
   "cell_type": "code",
   "execution_count": 23,
   "metadata": {},
   "outputs": [],
   "source": [
    "#A Fare value is missing, we shall replace it with the median value\n",
    "test['Fare']=test['Fare'].fillna(7.8292)\n",
    "test['Fare']=test['Fare'].astype('float')"
   ]
  },
  {
   "cell_type": "code",
   "execution_count": 24,
   "metadata": {},
   "outputs": [
    {
     "name": "stdout",
     "output_type": "stream",
     "text": [
      "<class 'pandas.core.frame.DataFrame'>\n",
      "RangeIndex: 891 entries, 0 to 890\n",
      "Data columns (total 11 columns):\n",
      " #   Column       Non-Null Count  Dtype  \n",
      "---  ------       --------------  -----  \n",
      " 0   PassengerId  891 non-null    int64  \n",
      " 1   Survived     891 non-null    int64  \n",
      " 2   Pclass       891 non-null    int64  \n",
      " 3   Name         891 non-null    object \n",
      " 4   Sex          891 non-null    object \n",
      " 5   Age          891 non-null    float64\n",
      " 6   SibSp        891 non-null    int64  \n",
      " 7   Parch        891 non-null    int64  \n",
      " 8   Ticket       891 non-null    object \n",
      " 9   Fare         891 non-null    float64\n",
      " 10  Embarked     889 non-null    object \n",
      "dtypes: float64(2), int64(5), object(4)\n",
      "memory usage: 76.7+ KB\n"
     ]
    }
   ],
   "source": [
    "train.info()"
   ]
  },
  {
   "cell_type": "code",
   "execution_count": 25,
   "metadata": {},
   "outputs": [
    {
     "name": "stdout",
     "output_type": "stream",
     "text": [
      "<class 'pandas.core.frame.DataFrame'>\n",
      "RangeIndex: 418 entries, 0 to 417\n",
      "Data columns (total 10 columns):\n",
      " #   Column       Non-Null Count  Dtype  \n",
      "---  ------       --------------  -----  \n",
      " 0   PassengerId  418 non-null    int64  \n",
      " 1   Pclass       418 non-null    int64  \n",
      " 2   Name         418 non-null    object \n",
      " 3   Sex          418 non-null    object \n",
      " 4   Age          418 non-null    float64\n",
      " 5   SibSp        418 non-null    int64  \n",
      " 6   Parch        418 non-null    int64  \n",
      " 7   Ticket       418 non-null    object \n",
      " 8   Fare         418 non-null    float64\n",
      " 9   Embarked     418 non-null    object \n",
      "dtypes: float64(2), int64(4), object(4)\n",
      "memory usage: 32.8+ KB\n"
     ]
    }
   ],
   "source": [
    "test.info()"
   ]
  },
  {
   "cell_type": "code",
   "execution_count": 26,
   "metadata": {},
   "outputs": [
    {
     "data": {
      "text/html": [
       "<div>\n",
       "<style scoped>\n",
       "    .dataframe tbody tr th:only-of-type {\n",
       "        vertical-align: middle;\n",
       "    }\n",
       "\n",
       "    .dataframe tbody tr th {\n",
       "        vertical-align: top;\n",
       "    }\n",
       "\n",
       "    .dataframe thead th {\n",
       "        text-align: right;\n",
       "    }\n",
       "</style>\n",
       "<table border=\"1\" class=\"dataframe\">\n",
       "  <thead>\n",
       "    <tr style=\"text-align: right;\">\n",
       "      <th></th>\n",
       "      <th>PassengerId</th>\n",
       "      <th>Survived</th>\n",
       "      <th>Pclass</th>\n",
       "      <th>Name</th>\n",
       "      <th>Sex</th>\n",
       "      <th>Age</th>\n",
       "      <th>SibSp</th>\n",
       "      <th>Parch</th>\n",
       "      <th>Ticket</th>\n",
       "      <th>Fare</th>\n",
       "      <th>Embarked</th>\n",
       "    </tr>\n",
       "  </thead>\n",
       "  <tbody>\n",
       "    <tr>\n",
       "      <th>0</th>\n",
       "      <td>1</td>\n",
       "      <td>0</td>\n",
       "      <td>3</td>\n",
       "      <td>Braund, Mr. Owen Harris</td>\n",
       "      <td>male</td>\n",
       "      <td>22.0</td>\n",
       "      <td>1</td>\n",
       "      <td>0</td>\n",
       "      <td>A/5 21171</td>\n",
       "      <td>7.2500</td>\n",
       "      <td>S</td>\n",
       "    </tr>\n",
       "    <tr>\n",
       "      <th>1</th>\n",
       "      <td>2</td>\n",
       "      <td>1</td>\n",
       "      <td>1</td>\n",
       "      <td>Cumings, Mrs. John Bradley (Florence Briggs Th...</td>\n",
       "      <td>female</td>\n",
       "      <td>38.0</td>\n",
       "      <td>1</td>\n",
       "      <td>0</td>\n",
       "      <td>PC 17599</td>\n",
       "      <td>71.2833</td>\n",
       "      <td>C</td>\n",
       "    </tr>\n",
       "    <tr>\n",
       "      <th>2</th>\n",
       "      <td>3</td>\n",
       "      <td>1</td>\n",
       "      <td>3</td>\n",
       "      <td>Heikkinen, Miss. Laina</td>\n",
       "      <td>female</td>\n",
       "      <td>26.0</td>\n",
       "      <td>0</td>\n",
       "      <td>0</td>\n",
       "      <td>STON/O2. 3101282</td>\n",
       "      <td>7.9250</td>\n",
       "      <td>S</td>\n",
       "    </tr>\n",
       "    <tr>\n",
       "      <th>3</th>\n",
       "      <td>4</td>\n",
       "      <td>1</td>\n",
       "      <td>1</td>\n",
       "      <td>Futrelle, Mrs. Jacques Heath (Lily May Peel)</td>\n",
       "      <td>female</td>\n",
       "      <td>35.0</td>\n",
       "      <td>1</td>\n",
       "      <td>0</td>\n",
       "      <td>113803</td>\n",
       "      <td>53.1000</td>\n",
       "      <td>S</td>\n",
       "    </tr>\n",
       "    <tr>\n",
       "      <th>4</th>\n",
       "      <td>5</td>\n",
       "      <td>0</td>\n",
       "      <td>3</td>\n",
       "      <td>Allen, Mr. William Henry</td>\n",
       "      <td>male</td>\n",
       "      <td>35.0</td>\n",
       "      <td>0</td>\n",
       "      <td>0</td>\n",
       "      <td>373450</td>\n",
       "      <td>8.0500</td>\n",
       "      <td>S</td>\n",
       "    </tr>\n",
       "  </tbody>\n",
       "</table>\n",
       "</div>"
      ],
      "text/plain": [
       "   PassengerId  Survived  Pclass  \\\n",
       "0            1         0       3   \n",
       "1            2         1       1   \n",
       "2            3         1       3   \n",
       "3            4         1       1   \n",
       "4            5         0       3   \n",
       "\n",
       "                                                Name     Sex   Age  SibSp  \\\n",
       "0                            Braund, Mr. Owen Harris    male  22.0      1   \n",
       "1  Cumings, Mrs. John Bradley (Florence Briggs Th...  female  38.0      1   \n",
       "2                             Heikkinen, Miss. Laina  female  26.0      0   \n",
       "3       Futrelle, Mrs. Jacques Heath (Lily May Peel)  female  35.0      1   \n",
       "4                           Allen, Mr. William Henry    male  35.0      0   \n",
       "\n",
       "   Parch            Ticket     Fare Embarked  \n",
       "0      0         A/5 21171   7.2500        S  \n",
       "1      0          PC 17599  71.2833        C  \n",
       "2      0  STON/O2. 3101282   7.9250        S  \n",
       "3      0            113803  53.1000        S  \n",
       "4      0            373450   8.0500        S  "
      ]
     },
     "execution_count": 26,
     "metadata": {},
     "output_type": "execute_result"
    }
   ],
   "source": [
    "train.head()"
   ]
  },
  {
   "cell_type": "code",
   "execution_count": 27,
   "metadata": {},
   "outputs": [
    {
     "data": {
      "text/html": [
       "<div>\n",
       "<style scoped>\n",
       "    .dataframe tbody tr th:only-of-type {\n",
       "        vertical-align: middle;\n",
       "    }\n",
       "\n",
       "    .dataframe tbody tr th {\n",
       "        vertical-align: top;\n",
       "    }\n",
       "\n",
       "    .dataframe thead th {\n",
       "        text-align: right;\n",
       "    }\n",
       "</style>\n",
       "<table border=\"1\" class=\"dataframe\">\n",
       "  <thead>\n",
       "    <tr style=\"text-align: right;\">\n",
       "      <th></th>\n",
       "      <th>PassengerId</th>\n",
       "      <th>Pclass</th>\n",
       "      <th>Name</th>\n",
       "      <th>Sex</th>\n",
       "      <th>Age</th>\n",
       "      <th>SibSp</th>\n",
       "      <th>Parch</th>\n",
       "      <th>Ticket</th>\n",
       "      <th>Fare</th>\n",
       "      <th>Embarked</th>\n",
       "    </tr>\n",
       "  </thead>\n",
       "  <tbody>\n",
       "    <tr>\n",
       "      <th>0</th>\n",
       "      <td>892</td>\n",
       "      <td>3</td>\n",
       "      <td>Kelly, Mr. James</td>\n",
       "      <td>male</td>\n",
       "      <td>34.5</td>\n",
       "      <td>0</td>\n",
       "      <td>0</td>\n",
       "      <td>330911</td>\n",
       "      <td>7.8292</td>\n",
       "      <td>Q</td>\n",
       "    </tr>\n",
       "    <tr>\n",
       "      <th>1</th>\n",
       "      <td>893</td>\n",
       "      <td>3</td>\n",
       "      <td>Wilkes, Mrs. James (Ellen Needs)</td>\n",
       "      <td>female</td>\n",
       "      <td>47.0</td>\n",
       "      <td>1</td>\n",
       "      <td>0</td>\n",
       "      <td>363272</td>\n",
       "      <td>7.0000</td>\n",
       "      <td>S</td>\n",
       "    </tr>\n",
       "    <tr>\n",
       "      <th>2</th>\n",
       "      <td>894</td>\n",
       "      <td>2</td>\n",
       "      <td>Myles, Mr. Thomas Francis</td>\n",
       "      <td>male</td>\n",
       "      <td>62.0</td>\n",
       "      <td>0</td>\n",
       "      <td>0</td>\n",
       "      <td>240276</td>\n",
       "      <td>9.6875</td>\n",
       "      <td>Q</td>\n",
       "    </tr>\n",
       "    <tr>\n",
       "      <th>3</th>\n",
       "      <td>895</td>\n",
       "      <td>3</td>\n",
       "      <td>Wirz, Mr. Albert</td>\n",
       "      <td>male</td>\n",
       "      <td>27.0</td>\n",
       "      <td>0</td>\n",
       "      <td>0</td>\n",
       "      <td>315154</td>\n",
       "      <td>8.6625</td>\n",
       "      <td>S</td>\n",
       "    </tr>\n",
       "    <tr>\n",
       "      <th>4</th>\n",
       "      <td>896</td>\n",
       "      <td>3</td>\n",
       "      <td>Hirvonen, Mrs. Alexander (Helga E Lindqvist)</td>\n",
       "      <td>female</td>\n",
       "      <td>22.0</td>\n",
       "      <td>1</td>\n",
       "      <td>1</td>\n",
       "      <td>3101298</td>\n",
       "      <td>12.2875</td>\n",
       "      <td>S</td>\n",
       "    </tr>\n",
       "  </tbody>\n",
       "</table>\n",
       "</div>"
      ],
      "text/plain": [
       "   PassengerId  Pclass                                          Name     Sex  \\\n",
       "0          892       3                              Kelly, Mr. James    male   \n",
       "1          893       3              Wilkes, Mrs. James (Ellen Needs)  female   \n",
       "2          894       2                     Myles, Mr. Thomas Francis    male   \n",
       "3          895       3                              Wirz, Mr. Albert    male   \n",
       "4          896       3  Hirvonen, Mrs. Alexander (Helga E Lindqvist)  female   \n",
       "\n",
       "    Age  SibSp  Parch   Ticket     Fare Embarked  \n",
       "0  34.5      0      0   330911   7.8292        Q  \n",
       "1  47.0      1      0   363272   7.0000        S  \n",
       "2  62.0      0      0   240276   9.6875        Q  \n",
       "3  27.0      0      0   315154   8.6625        S  \n",
       "4  22.0      1      1  3101298  12.2875        S  "
      ]
     },
     "execution_count": 27,
     "metadata": {},
     "output_type": "execute_result"
    }
   ],
   "source": [
    "test.head()"
   ]
  },
  {
   "cell_type": "markdown",
   "execution_count": null,
   "metadata": {},
   "source": [
    "# **Converting Sex and Embarked in to Categorical Values**"
   ]
  },
  {
   "cell_type": "code",
   "execution_count": 28,
   "metadata": {},
   "outputs": [],
   "source": [
    "#for Embarked\n",
    "'''dropped the first column because thee categoriescan be represented by \n",
    "00 for C\n",
    "10 for Q\n",
    "01 for S'''\n",
    "embark_train=pd.get_dummies(train['Embarked'], drop_first=True)\n",
    "embark_test=pd.get_dummies(test['Embarked'], drop_first=True)"
   ]
  },
  {
   "cell_type": "code",
   "execution_count": 29,
   "metadata": {},
   "outputs": [],
   "source": [
    "#For Sex\n",
    "'''1 for male\n",
    "0 for female'''\n",
    "sex_train=pd.get_dummies(train['Sex'], drop_first=True)\n",
    "sex_test=pd.get_dummies(test['Sex'], drop_first=True)"
   ]
  },
  {
   "cell_type": "code",
   "execution_count": 30,
   "metadata": {},
   "outputs": [],
   "source": [
    "#dropping the Name, Ticket, Sex and Embarked column\n",
    "train.drop(['Sex', 'Name', 'Ticket', 'Embarked'], axis=1, inplace=True)\n",
    "test.drop(['Sex', 'Name', 'Ticket', 'Embarked'], axis=1, inplace=True)"
   ]
  },
  {
   "cell_type": "code",
   "execution_count": 31,
   "metadata": {},
   "outputs": [],
   "source": [
    "#appending the new categorical columns to dataframe\n",
    "train=pd.concat([train, embark_train, sex_train], axis=1)\n",
    "test=pd.concat([test, embark_test, sex_test], axis=1)"
   ]
  },
  {
   "cell_type": "code",
   "execution_count": 32,
   "metadata": {},
   "outputs": [
    {
     "data": {
      "text/html": [
       "<div>\n",
       "<style scoped>\n",
       "    .dataframe tbody tr th:only-of-type {\n",
       "        vertical-align: middle;\n",
       "    }\n",
       "\n",
       "    .dataframe tbody tr th {\n",
       "        vertical-align: top;\n",
       "    }\n",
       "\n",
       "    .dataframe thead th {\n",
       "        text-align: right;\n",
       "    }\n",
       "</style>\n",
       "<table border=\"1\" class=\"dataframe\">\n",
       "  <thead>\n",
       "    <tr style=\"text-align: right;\">\n",
       "      <th></th>\n",
       "      <th>PassengerId</th>\n",
       "      <th>Survived</th>\n",
       "      <th>Pclass</th>\n",
       "      <th>Age</th>\n",
       "      <th>SibSp</th>\n",
       "      <th>Parch</th>\n",
       "      <th>Fare</th>\n",
       "      <th>Q</th>\n",
       "      <th>S</th>\n",
       "      <th>male</th>\n",
       "    </tr>\n",
       "  </thead>\n",
       "  <tbody>\n",
       "    <tr>\n",
       "      <th>0</th>\n",
       "      <td>1</td>\n",
       "      <td>0</td>\n",
       "      <td>3</td>\n",
       "      <td>22.0</td>\n",
       "      <td>1</td>\n",
       "      <td>0</td>\n",
       "      <td>7.2500</td>\n",
       "      <td>0</td>\n",
       "      <td>1</td>\n",
       "      <td>1</td>\n",
       "    </tr>\n",
       "    <tr>\n",
       "      <th>1</th>\n",
       "      <td>2</td>\n",
       "      <td>1</td>\n",
       "      <td>1</td>\n",
       "      <td>38.0</td>\n",
       "      <td>1</td>\n",
       "      <td>0</td>\n",
       "      <td>71.2833</td>\n",
       "      <td>0</td>\n",
       "      <td>0</td>\n",
       "      <td>0</td>\n",
       "    </tr>\n",
       "    <tr>\n",
       "      <th>2</th>\n",
       "      <td>3</td>\n",
       "      <td>1</td>\n",
       "      <td>3</td>\n",
       "      <td>26.0</td>\n",
       "      <td>0</td>\n",
       "      <td>0</td>\n",
       "      <td>7.9250</td>\n",
       "      <td>0</td>\n",
       "      <td>1</td>\n",
       "      <td>0</td>\n",
       "    </tr>\n",
       "    <tr>\n",
       "      <th>3</th>\n",
       "      <td>4</td>\n",
       "      <td>1</td>\n",
       "      <td>1</td>\n",
       "      <td>35.0</td>\n",
       "      <td>1</td>\n",
       "      <td>0</td>\n",
       "      <td>53.1000</td>\n",
       "      <td>0</td>\n",
       "      <td>1</td>\n",
       "      <td>0</td>\n",
       "    </tr>\n",
       "    <tr>\n",
       "      <th>4</th>\n",
       "      <td>5</td>\n",
       "      <td>0</td>\n",
       "      <td>3</td>\n",
       "      <td>35.0</td>\n",
       "      <td>0</td>\n",
       "      <td>0</td>\n",
       "      <td>8.0500</td>\n",
       "      <td>0</td>\n",
       "      <td>1</td>\n",
       "      <td>1</td>\n",
       "    </tr>\n",
       "  </tbody>\n",
       "</table>\n",
       "</div>"
      ],
      "text/plain": [
       "   PassengerId  Survived  Pclass   Age  SibSp  Parch     Fare  Q  S  male\n",
       "0            1         0       3  22.0      1      0   7.2500  0  1     1\n",
       "1            2         1       1  38.0      1      0  71.2833  0  0     0\n",
       "2            3         1       3  26.0      0      0   7.9250  0  1     0\n",
       "3            4         1       1  35.0      1      0  53.1000  0  1     0\n",
       "4            5         0       3  35.0      0      0   8.0500  0  1     1"
      ]
     },
     "execution_count": 32,
     "metadata": {},
     "output_type": "execute_result"
    }
   ],
   "source": [
    "train.head()"
   ]
  },
  {
   "cell_type": "code",
   "execution_count": 33,
   "metadata": {},
   "outputs": [
    {
     "data": {
      "text/html": [
       "<div>\n",
       "<style scoped>\n",
       "    .dataframe tbody tr th:only-of-type {\n",
       "        vertical-align: middle;\n",
       "    }\n",
       "\n",
       "    .dataframe tbody tr th {\n",
       "        vertical-align: top;\n",
       "    }\n",
       "\n",
       "    .dataframe thead th {\n",
       "        text-align: right;\n",
       "    }\n",
       "</style>\n",
       "<table border=\"1\" class=\"dataframe\">\n",
       "  <thead>\n",
       "    <tr style=\"text-align: right;\">\n",
       "      <th></th>\n",
       "      <th>PassengerId</th>\n",
       "      <th>Pclass</th>\n",
       "      <th>Age</th>\n",
       "      <th>SibSp</th>\n",
       "      <th>Parch</th>\n",
       "      <th>Fare</th>\n",
       "      <th>Q</th>\n",
       "      <th>S</th>\n",
       "      <th>male</th>\n",
       "    </tr>\n",
       "  </thead>\n",
       "  <tbody>\n",
       "    <tr>\n",
       "      <th>0</th>\n",
       "      <td>892</td>\n",
       "      <td>3</td>\n",
       "      <td>34.5</td>\n",
       "      <td>0</td>\n",
       "      <td>0</td>\n",
       "      <td>7.8292</td>\n",
       "      <td>1</td>\n",
       "      <td>0</td>\n",
       "      <td>1</td>\n",
       "    </tr>\n",
       "    <tr>\n",
       "      <th>1</th>\n",
       "      <td>893</td>\n",
       "      <td>3</td>\n",
       "      <td>47.0</td>\n",
       "      <td>1</td>\n",
       "      <td>0</td>\n",
       "      <td>7.0000</td>\n",
       "      <td>0</td>\n",
       "      <td>1</td>\n",
       "      <td>0</td>\n",
       "    </tr>\n",
       "    <tr>\n",
       "      <th>2</th>\n",
       "      <td>894</td>\n",
       "      <td>2</td>\n",
       "      <td>62.0</td>\n",
       "      <td>0</td>\n",
       "      <td>0</td>\n",
       "      <td>9.6875</td>\n",
       "      <td>1</td>\n",
       "      <td>0</td>\n",
       "      <td>1</td>\n",
       "    </tr>\n",
       "    <tr>\n",
       "      <th>3</th>\n",
       "      <td>895</td>\n",
       "      <td>3</td>\n",
       "      <td>27.0</td>\n",
       "      <td>0</td>\n",
       "      <td>0</td>\n",
       "      <td>8.6625</td>\n",
       "      <td>0</td>\n",
       "      <td>1</td>\n",
       "      <td>1</td>\n",
       "    </tr>\n",
       "    <tr>\n",
       "      <th>4</th>\n",
       "      <td>896</td>\n",
       "      <td>3</td>\n",
       "      <td>22.0</td>\n",
       "      <td>1</td>\n",
       "      <td>1</td>\n",
       "      <td>12.2875</td>\n",
       "      <td>0</td>\n",
       "      <td>1</td>\n",
       "      <td>0</td>\n",
       "    </tr>\n",
       "  </tbody>\n",
       "</table>\n",
       "</div>"
      ],
      "text/plain": [
       "   PassengerId  Pclass   Age  SibSp  Parch     Fare  Q  S  male\n",
       "0          892       3  34.5      0      0   7.8292  1  0     1\n",
       "1          893       3  47.0      1      0   7.0000  0  1     0\n",
       "2          894       2  62.0      0      0   9.6875  1  0     1\n",
       "3          895       3  27.0      0      0   8.6625  0  1     1\n",
       "4          896       3  22.0      1      1  12.2875  0  1     0"
      ]
     },
     "execution_count": 33,
     "metadata": {},
     "output_type": "execute_result"
    }
   ],
   "source": [
    "test.head()"
   ]
  },
  {
   "cell_type": "markdown",
   "execution_count": null,
   "metadata": {},
   "source": [
    "# ****TRAINING****"
   ]
  },
  {
   "cell_type": "code",
   "execution_count": 34,
   "metadata": {},
   "outputs": [],
   "source": [
    "X_train=train.drop('Survived', axis=1)\n",
    "y_train=train['Survived']\n",
    "X_test=test"
   ]
  },
  {
   "cell_type": "code",
   "execution_count": 35,
   "metadata": {},
   "outputs": [],
   "source": [
    "\n",
    "#testing with the actual submission\n",
    "submit=pd.read_csv('../input/titanic/gender_submission.csv')\n",
    "y_test=submit['Survived']"
   ]
  },
  {
   "cell_type": "markdown",
   "execution_count": null,
   "metadata": {},
   "source": [
    "# 1. Logistic Regression"
   ]
  },
  {
   "cell_type": "code",
   "execution_count": 36,
   "metadata": {},
   "outputs": [],
   "source": [
    "from sklearn.linear_model import LogisticRegression\n",
    "lr=LogisticRegression(max_iter=1000)\n",
    "lr.fit(X_train, y_train)\n",
    "y_pred_lr=lr.predict(X_test)"
   ]
  },
  {
   "cell_type": "code",
   "execution_count": 37,
   "metadata": {},
   "outputs": [
    {
     "data": {
      "text/plain": [
       "93.54"
      ]
     },
     "execution_count": 37,
     "metadata": {},
     "output_type": "execute_result"
    }
   ],
   "source": [
    "from sklearn.metrics import accuracy_score\n",
    "acc_lr=round(accuracy_score(y_test, y_pred_lr)*100, 2)\n",
    "acc_lr"
   ]
  },
  {
   "cell_type": "markdown",
   "execution_count": null,
   "metadata": {},
   "source": [
    "# 2. Random Forest"
   ]
  },
  {
   "cell_type": "code",
   "execution_count": 38,
   "metadata": {},
   "outputs": [],
   "source": [
    "from sklearn.ensemble import RandomForestClassifier\n",
    "rf=RandomForestClassifier()\n",
    "rf.fit(X_train, y_train)\n",
    "y_pred_rf=rf.predict(X_test)"
   ]
  },
  {
   "cell_type": "code",
   "execution_count": 39,
   "metadata": {},
   "outputs": [
    {
     "data": {
      "text/plain": [
       "78.47"
      ]
     },
     "execution_count": 39,
     "metadata": {},
     "output_type": "execute_result"
    }
   ],
   "source": [
    "acc_rf=round(accuracy_score(y_test, y_pred_rf)*100, 2)\n",
    "acc_rf"
   ]
  },
  {
   "cell_type": "markdown",
   "execution_count": null,
   "metadata": {},
   "source": [
    "# 3. Decision Tree"
   ]
  },
  {
   "cell_type": "code",
   "execution_count": 40,
   "metadata": {},
   "outputs": [],
   "source": [
    "from sklearn.tree import DecisionTreeClassifier\n",
    "dt=DecisionTreeClassifier()\n",
    "dt.fit(X_train,y_train)\n",
    "y_pred_dt=dt.predict(X_test)"
   ]
  },
  {
   "cell_type": "code",
   "execution_count": 41,
   "metadata": {},
   "outputs": [
    {
     "data": {
      "text/plain": [
       "78.23"
      ]
     },
     "execution_count": 41,
     "metadata": {},
     "output_type": "execute_result"
    }
   ],
   "source": [
    "acc_dt=round(accuracy_score(y_test, y_pred_dt)*100, 2)\n",
    "acc_dt"
   ]
  },
  {
   "cell_type": "markdown",
   "execution_count": null,
   "metadata": {},
   "source": [
    "# 4. XGBoost"
   ]
  },
  {
   "cell_type": "code",
   "execution_count": 42,
   "metadata": {},
   "outputs": [],
   "source": [
    "from xgboost import XGBClassifier\n",
    "xg=XGBClassifier()\n",
    "xg.fit(X_train,y_train)\n",
    "y_pred_xg=xg.predict(X_test)"
   ]
  },
  {
   "cell_type": "code",
   "execution_count": 43,
   "metadata": {},
   "outputs": [
    {
     "data": {
      "text/plain": [
       "83.49"
      ]
     },
     "execution_count": 43,
     "metadata": {},
     "output_type": "execute_result"
    }
   ],
   "source": [
    "acc_xg=round(accuracy_score(y_test, y_pred_xg)*100, 2)\n",
    "acc_xg"
   ]
  },
  {
   "cell_type": "markdown",
   "execution_count": null,
   "metadata": {},
   "source": [
    "# 5. SVM"
   ]
  },
  {
   "cell_type": "code",
   "execution_count": 44,
   "metadata": {},
   "outputs": [],
   "source": [
    "from sklearn.svm import SVC\n",
    "svc=SVC()\n",
    "svc.fit(X_train, y_train)\n",
    "y_pred_svm=svc.predict(X_test)"
   ]
  },
  {
   "cell_type": "code",
   "execution_count": 45,
   "metadata": {},
   "outputs": [
    {
     "data": {
      "text/plain": [
       "65.07"
      ]
     },
     "execution_count": 45,
     "metadata": {},
     "output_type": "execute_result"
    }
   ],
   "source": [
    "acc_svm=round(accuracy_score(y_test, y_pred_svm)*100, 2)\n",
    "acc_svm"
   ]
  },
  {
   "cell_type": "markdown",
   "execution_count": null,
   "metadata": {},
   "source": [
    "# 6. Stochastic Gradient Descent"
   ]
  },
  {
   "cell_type": "code",
   "execution_count": 46,
   "metadata": {},
   "outputs": [],
   "source": [
    "from sklearn.linear_model import SGDClassifier\n",
    "sgd=SGDClassifier()\n",
    "sgd.fit(X_train, y_train)\n",
    "y_pred_sgd=sgd.predict(X_test)"
   ]
  },
  {
   "cell_type": "code",
   "execution_count": 47,
   "metadata": {},
   "outputs": [
    {
     "data": {
      "text/plain": [
       "64.83"
      ]
     },
     "execution_count": 47,
     "metadata": {},
     "output_type": "execute_result"
    }
   ],
   "source": [
    "acc_sgd=round(accuracy_score(y_test, y_pred_sgd)*100, 2)\n",
    "acc_sgd"
   ]
  },
  {
   "cell_type": "markdown",
   "execution_count": null,
   "metadata": {},
   "source": [
    "# 7. KNN"
   ]
  },
  {
   "cell_type": "code",
   "execution_count": 48,
   "metadata": {},
   "outputs": [],
   "source": [
    "from sklearn.neighbors import KNeighborsClassifier\n",
    "knn=KNeighborsClassifier(n_neighbors=3)\n",
    "knn.fit(X_train, y_train)\n",
    "y_pred_knn=knn.predict(X_test)"
   ]
  },
  {
   "cell_type": "code",
   "execution_count": 49,
   "metadata": {},
   "outputs": [
    {
     "data": {
      "text/plain": [
       "63.4"
      ]
     },
     "execution_count": 49,
     "metadata": {},
     "output_type": "execute_result"
    }
   ],
   "source": [
    "acc_knn=round(accuracy_score(y_test, y_pred_knn)*100, 2)\n",
    "acc_knn"
   ]
  },
  {
   "cell_type": "markdown",
   "execution_count": null,
   "metadata": {},
   "source": [
    "# 8. Gaussian Naive Bayes"
   ]
  },
  {
   "cell_type": "code",
   "execution_count": 50,
   "metadata": {},
   "outputs": [],
   "source": [
    "from sklearn.naive_bayes import GaussianNB\n",
    "nb=GaussianNB()\n",
    "nb.fit(X_train, y_train)\n",
    "y_pred_nb=nb.predict(X_test)"
   ]
  },
  {
   "cell_type": "code",
   "execution_count": 51,
   "metadata": {},
   "outputs": [
    {
     "data": {
      "text/plain": [
       "91.39"
      ]
     },
     "execution_count": 51,
     "metadata": {},
     "output_type": "execute_result"
    }
   ],
   "source": [
    "acc_nb=round(accuracy_score(y_test, y_pred_nb)*100, 2)\n",
    "acc_nb"
   ]
  },
  {
   "cell_type": "markdown",
   "execution_count": null,
   "metadata": {},
   "source": [
    "# 9. Perceptron"
   ]
  },
  {
   "cell_type": "code",
   "execution_count": 52,
   "metadata": {},
   "outputs": [],
   "source": [
    "from sklearn.linear_model import Perceptron\n",
    "per=Perceptron()\n",
    "per.fit(X_train, y_train)\n",
    "y_pred_per=per.predict(X_test)"
   ]
  },
  {
   "cell_type": "code",
   "execution_count": 53,
   "metadata": {},
   "outputs": [
    {
     "data": {
      "text/plain": [
       "65.07"
      ]
     },
     "execution_count": 53,
     "metadata": {},
     "output_type": "execute_result"
    }
   ],
   "source": [
    "acc_per=round(accuracy_score(y_test, y_pred_per)*100, 2)\n",
    "acc_per"
   ]
  },
  {
   "cell_type": "markdown",
   "execution_count": null,
   "metadata": {},
   "source": [
    "# 10. Linear SVM"
   ]
  },
  {
   "cell_type": "code",
   "execution_count": 54,
   "metadata": {},
   "outputs": [],
   "source": [
    "from sklearn.svm import LinearSVC\n",
    "lin_svm=LinearSVC(penalty=\"l1\",dual=False,max_iter=100000)\n",
    "lin_svm.fit(X_train, y_train)\n",
    "y_pred_lin_svm=lin_svm.predict(X_test)"
   ]
  },
  {
   "cell_type": "code",
   "execution_count": 55,
   "metadata": {},
   "outputs": [
    {
     "data": {
      "text/plain": [
       "95.69"
      ]
     },
     "execution_count": 55,
     "metadata": {},
     "output_type": "execute_result"
    }
   ],
   "source": [
    "acc_lin_svm=round(accuracy_score(y_test, y_pred_lin_svm)*100, 2)\n",
    "acc_lin_svm"
   ]
  },
  {
   "cell_type": "markdown",
   "execution_count": null,
   "metadata": {},
   "source": [
    "# Sorting the models according to accuracy score"
   ]
  },
  {
   "cell_type": "code",
   "execution_count": 56,
   "metadata": {},
   "outputs": [
    {
     "name": "stdout",
     "output_type": "stream",
     "text": [
      "                      Model  Score\n",
      "                 Linear SVC  95.69\n",
      "        Logistic Regression  93.54\n",
      "                Naive Bayes  91.39\n",
      "                   XG Boost  83.49\n",
      "              Random Forest  78.47\n",
      "              Decision Tree  78.23\n",
      "                        SVM  65.07\n",
      "                 Perceptron  65.07\n",
      " Stochastic Gradient Decent  64.83\n",
      "                        KNN  63.40\n"
     ]
    }
   ],
   "source": [
    "sorted_models=pd.DataFrame({\n",
    "    'Model': ['Logistic Regression', 'Random Forest', 'Decision Tree',\n",
    "              'XG Boost', 'SVM', 'Stochastic Gradient Decent', 'KNN',\n",
    "              'Naive Bayes', 'Perceptron', 'Linear SVC'],\n",
    "    'Score': [acc_lr, acc_rf, acc_dt, acc_xg, acc_svm, \n",
    "              acc_sgd, acc_knn, acc_nb, acc_per, acc_lin_svm]})\n",
    "sorted_models=sorted_models.sort_values(by='Score', ascending=False)\n",
    "print(sorted_models.to_string(index=False))"
   ]
  },
  {
   "cell_type": "code",
   "execution_count": 57,
   "metadata": {},
   "outputs": [
    {
     "data": {
      "text/plain": [
       "<BarContainer object of 10 artists>"
      ]
     },
     "execution_count": 57,
     "metadata": {},
     "output_type": "execute_result"
    },
    {
     "data": {
      "image/png": "[encoded data removed]",
      "text/plain": [
       "<Figure size 1440x720 with 1 Axes>"
      ]
     },
     "metadata": {},
     "output_type": "display_data"
    }
   ],
   "source": [
    "plt.figure(figsize=(20,10))\n",
    "plt.bar(sorted_models['Model'], sorted_models['Score'])"
   ]
  },
  {
   "cell_type": "markdown",
   "execution_count": null,
   "metadata": {},
   "source": [
    "# **Creating CSV for Submission**"
   ]
  },
  {
   "cell_type": "code",
   "execution_count": 58,
   "metadata": {},
   "outputs": [],
   "source": [
    "submission=pd.DataFrame({'PassengerId':X_test['PassengerId'],\n",
    "                         'Survived':y_pred_xg})\n",
    "submission.to_csv('submission.csv', index=False)"
   ]
  },
  {
   "cell_type": "code",
   "execution_count": 59,
   "metadata": {},
   "outputs": [
    {
     "name": "stdout",
     "output_type": "stream",
     "text": [
      "<class 'pandas.core.frame.DataFrame'>\n",
      "RangeIndex: 418 entries, 0 to 417\n",
      "Data columns (total 2 columns):\n",
      " #   Column       Non-Null Count  Dtype\n",
      "---  ------       --------------  -----\n",
      " 0   PassengerId  418 non-null    int64\n",
      " 1   Survived     418 non-null    int64\n",
      "dtypes: int64(2)\n",
      "memory usage: 6.7 KB\n"
     ]
    }
   ],
   "source": [
    "submission=pd.read_csv('submission.csv')\n",
    "submission.info()"
   ]
  }
 ],
 "metadata": {
  "kernelspec": {
   "display_name": "Python 3",
   "language": "python",
   "name": "python3"
  },
  "language_info": {
   "codemirror_mode": {
    "name": "ipython",
    "version": 3
   },
   "file_extension": ".py",
   "mimetype": "text/x-python",
   "name": "python",
   "nbconvert_exporter": "python",
   "pygments_lexer": "ipython3",
   "version": "3.7.6"
  }
 },
 "nbformat": 4,
 "nbformat_minor": 4
}
