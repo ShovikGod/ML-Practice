{
  "nbformat": 4,
  "nbformat_minor": 0,
  "metadata": {
    "colab": {
      "name": "basic_perceptron.ipynb",
      "provenance": [],
      "collapsed_sections": []
    },
    "kernelspec": {
      "name": "python3",
      "display_name": "Python 3"
    }
  },
  "cells": [
    {
      "cell_type": "code",
      "metadata": {
        "id": "TqvHo5stxc12",
        "colab_type": "code",
        "colab": {}
      },
      "source": [
        "import numpy as np"
      ],
      "execution_count": 0,
      "outputs": []
    },
    {
      "cell_type": "markdown",
      "metadata": {
        "id": "y1fW2YtgyflU",
        "colab_type": "text"
      },
      "source": [
        "#Sigmoid(x) = 1/(1+e^(-x))"
      ]
    },
    {
      "cell_type": "code",
      "metadata": {
        "id": "6Ofksj1xye87",
        "colab_type": "code",
        "colab": {}
      },
      "source": [
        "def sigmoid(x): \n",
        "    return 1/(1+np.exp(-x))"
      ],
      "execution_count": 0,
      "outputs": []
    },
    {
      "cell_type": "markdown",
      "metadata": {
        "id": "stpXAwZcyju0",
        "colab_type": "text"
      },
      "source": [
        "#d/dx(Sigmoid(x)) = x(1-x)"
      ]
    },
    {
      "cell_type": "code",
      "metadata": {
        "id": "SwiFVt_eyh9U",
        "colab_type": "code",
        "colab": {}
      },
      "source": [
        "def sigmoid_derivative(x):  \n",
        "    return x*(1-x)  "
      ],
      "execution_count": 0,
      "outputs": []
    },
    {
      "cell_type": "markdown",
      "metadata": {
        "id": "pqJVNEo1zum6",
        "colab_type": "text"
      },
      "source": [
        "### **Making a simple dataset**"
      ]
    },
    {
      "cell_type": "markdown",
      "metadata": {
        "id": "OUOJ08tOzs6r",
        "colab_type": "text"
      },
      "source": [
        "#inputs"
      ]
    },
    {
      "cell_type": "code",
      "metadata": {
        "id": "9_AR6Admym1l",
        "colab_type": "code",
        "colab": {}
      },
      "source": [
        "training_inputs = np.array([[0,0,1],\n",
        "                            [1,1,1],\n",
        "                            [1,0,1],\n",
        "                            [0,1,1]])"
      ],
      "execution_count": 0,
      "outputs": []
    },
    {
      "cell_type": "markdown",
      "metadata": {
        "id": "k-Qo0BuByuVM",
        "colab_type": "text"
      },
      "source": [
        "#outputs required"
      ]
    },
    {
      "cell_type": "code",
      "metadata": {
        "id": "gu0YCFIhyrXE",
        "colab_type": "code",
        "colab": {}
      },
      "source": [
        "training_outputs = np.array([[0,1,1,0]]).T  "
      ],
      "execution_count": 0,
      "outputs": []
    },
    {
      "cell_type": "markdown",
      "metadata": {
        "id": "sfHLxdzEzlQb",
        "colab_type": "text"
      },
      "source": [
        "#Defining synaptics weights"
      ]
    },
    {
      "cell_type": "code",
      "metadata": {
        "id": "DsZJpWuryvTz",
        "colab_type": "code",
        "colab": {}
      },
      "source": [
        "np.random.seed(1)\n",
        "synaptic_weights = 2 * np.random.random((3,1)) - 1"
      ],
      "execution_count": 0,
      "outputs": []
    },
    {
      "cell_type": "markdown",
      "metadata": {
        "id": "G3d5szVAzefa",
        "colab_type": "text"
      },
      "source": [
        "#synaptic weights before training"
      ]
    },
    {
      "cell_type": "code",
      "metadata": {
        "id": "PK5AJwrsziO8",
        "colab_type": "code",
        "colab": {
          "base_uri": "https://localhost:8080/",
          "height": 85
        },
        "outputId": "ef44886d-d19a-4035-b467-96479f03eebe"
      },
      "source": [
        "print(\"Random starting synaptic weights: \")\n",
        "print(synaptic_weights)"
      ],
      "execution_count": 40,
      "outputs": [
        {
          "output_type": "stream",
          "text": [
            "Random starting synaptic weights: \n",
            "[[-0.16595599]\n",
            " [ 0.44064899]\n",
            " [-0.99977125]]\n"
          ],
          "name": "stdout"
        }
      ]
    },
    {
      "cell_type": "markdown",
      "metadata": {
        "id": "qefaIq_Zy8u8",
        "colab_type": "text"
      },
      "source": [
        "#For training the machine on weightage and the output will be closer as the no. of iterations increases"
      ]
    },
    {
      "cell_type": "code",
      "metadata": {
        "id": "SFlBHMaYy5l6",
        "colab_type": "code",
        "colab": {}
      },
      "source": [
        "for iteration in range(100000):\n",
        "    input_layer = training_inputs\n",
        "    output = sigmoid(np.dot(input_layer, synaptic_weights))\n",
        "    error = training_outputs - output\n",
        "    adjusment = error * sigmoid_derivative(output)\n",
        "    synaptic_weights += np.dot(input_layer.T, adjusment)"
      ],
      "execution_count": 0,
      "outputs": []
    },
    {
      "cell_type": "markdown",
      "metadata": {
        "id": "5kg-TNnCzL4z",
        "colab_type": "text"
      },
      "source": [
        "#Synaptic weights after training"
      ]
    },
    {
      "cell_type": "code",
      "metadata": {
        "id": "t2ScTCrNzJDL",
        "colab_type": "code",
        "colab": {
          "base_uri": "https://localhost:8080/",
          "height": 85
        },
        "outputId": "b1110cfd-85ed-455f-8321-0744755332b6"
      },
      "source": [
        "print('Synaptic Weights after training')\n",
        "print(synaptic_weights)    "
      ],
      "execution_count": 42,
      "outputs": [
        {
          "output_type": "stream",
          "text": [
            "Synaptic Weights after training\n",
            "[[12.00870061]\n",
            " [-0.2044116 ]\n",
            " [-5.8002822 ]]\n"
          ],
          "name": "stdout"
        }
      ]
    },
    {
      "cell_type": "markdown",
      "metadata": {
        "id": "ndlVJoQlzRlq",
        "colab_type": "text"
      },
      "source": [
        "#predicted outputs"
      ]
    },
    {
      "cell_type": "code",
      "metadata": {
        "id": "Kmg__FlKzSSO",
        "colab_type": "code",
        "colab": {
          "base_uri": "https://localhost:8080/",
          "height": 102
        },
        "outputId": "10cf44b7-0aac-44ce-ff7c-c8878fd04b5e"
      },
      "source": [
        "print('Output after training: ')    \n",
        "print(output)"
      ],
      "execution_count": 43,
      "outputs": [
        {
          "output_type": "stream",
          "text": [
            "Output after training: \n",
            "[[0.00301758]\n",
            " [0.99753723]\n",
            " [0.99799161]\n",
            " [0.00246109]]\n"
          ],
          "name": "stdout"
        }
      ]
    }
  ]
}