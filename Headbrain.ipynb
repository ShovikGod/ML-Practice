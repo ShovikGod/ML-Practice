{
  "nbformat": 4,
  "nbformat_minor": 0,
  "metadata": {
    "colab": {
      "name": "Headbrain.ipynb",
      "provenance": [],
      "collapsed_sections": []
    },
    "kernelspec": {
      "name": "python3",
      "display_name": "Python 3"
    }
  },
  "cells": [
    {
      "cell_type": "markdown",
      "metadata": {
        "id": "OTM4SO16tSfZ",
        "colab_type": "text"
      },
      "source": [
        "##**Hardcoding Linear regression**"
      ]
    },
    {
      "cell_type": "code",
      "metadata": {
        "id": "vQ0uyWiumKwc",
        "colab_type": "code",
        "colab": {}
      },
      "source": [
        "import numpy as np\n",
        "import pandas as pd\n",
        "import matplotlib.pyplot as plt\n",
        "plt.rcParams['figure.figsize'] = (20.0, 10.0)\n",
        "plt.style.use('ggplot')"
      ],
      "execution_count": 0,
      "outputs": []
    },
    {
      "cell_type": "markdown",
      "metadata": {
        "id": "aoiIejn6ouF7",
        "colab_type": "text"
      },
      "source": [
        "#Reading data"
      ]
    },
    {
      "cell_type": "code",
      "metadata": {
        "id": "r9UYhN5RorNE",
        "colab_type": "code",
        "colab": {
          "base_uri": "https://localhost:8080/",
          "height": 136
        },
        "outputId": "e4f0cc42-ff43-48b6-8274-f1f39bee6ffe"
      },
      "source": [
        "data = pd.read_csv('/headbrain.csv')\n",
        "print(data.shape)\n",
        "print(data.head())"
      ],
      "execution_count": 54,
      "outputs": [
        {
          "output_type": "stream",
          "text": [
            "(237, 4)\n",
            "   Gender  Age Range  Head Size(cm^3)  Brain Weight(grams)\n",
            "0       1          1             4512                 1530\n",
            "1       1          1             3738                 1297\n",
            "2       1          1             4261                 1335\n",
            "3       1          1             3777                 1282\n",
            "4       1          1             4177                 1590\n"
          ],
          "name": "stdout"
        }
      ]
    },
    {
      "cell_type": "markdown",
      "metadata": {
        "id": "q0N5MVlPox9A",
        "colab_type": "text"
      },
      "source": [
        "#collecting x and y"
      ]
    },
    {
      "cell_type": "code",
      "metadata": {
        "id": "UzLwAhJHo36W",
        "colab_type": "code",
        "colab": {}
      },
      "source": [
        "X = data['Head Size(cm^3)'].values\n",
        "y = data['Brain Weight(grams)'].values"
      ],
      "execution_count": 0,
      "outputs": []
    },
    {
      "cell_type": "markdown",
      "metadata": {
        "id": "TJgh2RzjpCG-",
        "colab_type": "text"
      },
      "source": [
        "#calculating mean"
      ]
    },
    {
      "cell_type": "code",
      "metadata": {
        "id": "0aNKqbUWo6XX",
        "colab_type": "code",
        "colab": {}
      },
      "source": [
        "mean_X = np.mean(X)\n",
        "mean_y = np.mean(y)"
      ],
      "execution_count": 0,
      "outputs": []
    },
    {
      "cell_type": "markdown",
      "metadata": {
        "id": "Iqqx1-MZpJPO",
        "colab_type": "text"
      },
      "source": [
        "#total number of values"
      ]
    },
    {
      "cell_type": "code",
      "metadata": {
        "id": "w5CfpiVDpLz-",
        "colab_type": "code",
        "colab": {}
      },
      "source": [
        "n = len(X)"
      ],
      "execution_count": 0,
      "outputs": []
    },
    {
      "cell_type": "markdown",
      "metadata": {
        "id": "HrRQ9LnypPqq",
        "colab_type": "text"
      },
      "source": [
        "#using formula to calculate m and c in y=mx+c"
      ]
    },
    {
      "cell_type": "code",
      "metadata": {
        "id": "OwakLN1-pR5-",
        "colab_type": "code",
        "colab": {
          "base_uri": "https://localhost:8080/",
          "height": 34
        },
        "outputId": "da5730a7-3ba2-4d93-e356-c451752fa19b"
      },
      "source": [
        "numerator=denomenator=0\n",
        "for i in range(n):\n",
        "    numerator += (X[i] - mean_X) * (y[i] - mean_y)\n",
        "    denomenator += (X[i] - mean_X) ** 2\n",
        "    m =  numerator / denomenator\n",
        "    c = mean_y - (m * mean_X)\n",
        "print(m, c)    "
      ],
      "execution_count": 62,
      "outputs": [
        {
          "output_type": "stream",
          "text": [
            "0.26342933948939945 325.57342104944223\n"
          ],
          "name": "stdout"
        }
      ]
    },
    {
      "cell_type": "markdown",
      "metadata": {
        "id": "2dQUNsTWpQrP",
        "colab_type": "text"
      },
      "source": [
        "#plotting values and regression line"
      ]
    },
    {
      "cell_type": "code",
      "metadata": {
        "id": "hxU9vfeRpYv9",
        "colab_type": "code",
        "colab": {}
      },
      "source": [
        "max_X = np.max(X) + 100\n",
        "min_X = np.min(X) - 100"
      ],
      "execution_count": 0,
      "outputs": []
    },
    {
      "cell_type": "markdown",
      "metadata": {
        "id": "t6sL6Ojas0KR",
        "colab_type": "text"
      },
      "source": [
        "#Visualisation"
      ]
    },
    {
      "cell_type": "code",
      "metadata": {
        "id": "ab87FXtts4vA",
        "colab_type": "code",
        "colab": {
          "base_uri": "https://localhost:8080/",
          "height": 490
        },
        "outputId": "b6617aa1-115c-411e-96c0-1d2841a8c022"
      },
      "source": [
        "#plotting line\n",
        "plt.scatter(X, y, color='orange', label='Scatter Points')\n",
        "#Plotting scatter points\n",
        "X = np.linspace (min_X, max_X, 1000)\n",
        "y = c + m*X  #calculating y values for given X\n",
        "plt.plot(X, y, label='Regression Line')\n",
        "plt.xlabel('Head Size in cm^3')\n",
        "plt.ylabel('Brain Weight in grams')\n",
        "plt.legend()\n",
        "plt.show()"
      ],
      "execution_count": 66,
      "outputs": [
        {
          "output_type": "display_data",
          "data": {
            "image/png": "[encoded data removed]",
            "text/plain": [
              "<Figure size 1440x720 with 1 Axes>"
            ]
          },
          "metadata": {
            "tags": []
          }
        }
      ]
    },
    {
      "cell_type": "markdown",
      "metadata": {
        "id": "081i5Umrs-Xm",
        "colab_type": "text"
      },
      "source": [
        "#Calculating r^2"
      ]
    },
    {
      "cell_type": "code",
      "metadata": {
        "id": "GUFnqM18s8MH",
        "colab_type": "code",
        "colab": {
          "base_uri": "https://localhost:8080/",
          "height": 34
        },
        "outputId": "549bf787-07b2-4218-ac31-70abb8be06d0"
      },
      "source": [
        "ss_t = 0    #(prediction-point)^2\n",
        "ss_r = 0    #Sum of Squares of Residuals\n",
        "for i in range(n):\n",
        "    y_pred = c + m*X[i]\n",
        "    ss_t += (y[i] - mean_y) ** 2\n",
        "    ss_r += (y[i] - y_pred) ** 2\n",
        "r2 = 1 - (ss_r/ss_t) \n",
        "print(r2)   "
      ],
      "execution_count": 67,
      "outputs": [
        {
          "output_type": "stream",
          "text": [
            "1.0\n"
          ],
          "name": "stdout"
        }
      ]
    }
  ]
}